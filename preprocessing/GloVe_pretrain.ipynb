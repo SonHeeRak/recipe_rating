{
 "cells": [
  {
   "cell_type": "markdown",
   "metadata": {},
   "source": [
    "# Data 파악"
   ]
  },
  {
   "cell_type": "code",
   "execution_count": 1,
   "metadata": {},
   "outputs": [],
   "source": [
    "import pandas as pd\n",
    "import numpy as np\n",
    "import random\n",
    "import re\n",
    "from nltk.tokenize import word_tokenize, sent_tokenize\n",
    "from tensorflow.keras.preprocessing.text import Tokenizer\n",
    "from tensorflow.keras.preprocessing.sequence import pad_sequences\n",
    "import matplotlib.pyplot as plt\n",
    "%matplotlib inline"
   ]
  },
  {
   "cell_type": "code",
   "execution_count": 2,
   "metadata": {},
   "outputs": [],
   "source": [
    "raw_interactions = pd.read_csv('RAW_interactions.csv')"
   ]
  },
  {
   "cell_type": "code",
   "execution_count": 3,
   "metadata": {},
   "outputs": [],
   "source": [
    "review_rating = raw_interactions[['review', 'rating']]"
   ]
  },
  {
   "cell_type": "code",
   "execution_count": 4,
   "metadata": {},
   "outputs": [
    {
     "data": {
      "text/html": [
       "<div>\n",
       "<style scoped>\n",
       "    .dataframe tbody tr th:only-of-type {\n",
       "        vertical-align: middle;\n",
       "    }\n",
       "\n",
       "    .dataframe tbody tr th {\n",
       "        vertical-align: top;\n",
       "    }\n",
       "\n",
       "    .dataframe thead th {\n",
       "        text-align: right;\n",
       "    }\n",
       "</style>\n",
       "<table border=\"1\" class=\"dataframe\">\n",
       "  <thead>\n",
       "    <tr style=\"text-align: right;\">\n",
       "      <th></th>\n",
       "      <th>review</th>\n",
       "      <th>rating</th>\n",
       "    </tr>\n",
       "  </thead>\n",
       "  <tbody>\n",
       "    <tr>\n",
       "      <td>0</td>\n",
       "      <td>Great with a salad. Cooked on top of stove for...</td>\n",
       "      <td>4</td>\n",
       "    </tr>\n",
       "    <tr>\n",
       "      <td>1</td>\n",
       "      <td>So simple, so delicious! Great for chilly fall...</td>\n",
       "      <td>5</td>\n",
       "    </tr>\n",
       "    <tr>\n",
       "      <td>2</td>\n",
       "      <td>This worked very well and is EASY.  I used not...</td>\n",
       "      <td>4</td>\n",
       "    </tr>\n",
       "    <tr>\n",
       "      <td>3</td>\n",
       "      <td>I made the Mexican topping and took it to bunk...</td>\n",
       "      <td>5</td>\n",
       "    </tr>\n",
       "    <tr>\n",
       "      <td>4</td>\n",
       "      <td>Made the cheddar bacon topping, adding a sprin...</td>\n",
       "      <td>5</td>\n",
       "    </tr>\n",
       "  </tbody>\n",
       "</table>\n",
       "</div>"
      ],
      "text/plain": [
       "                                              review  rating\n",
       "0  Great with a salad. Cooked on top of stove for...       4\n",
       "1  So simple, so delicious! Great for chilly fall...       5\n",
       "2  This worked very well and is EASY.  I used not...       4\n",
       "3  I made the Mexican topping and took it to bunk...       5\n",
       "4  Made the cheddar bacon topping, adding a sprin...       5"
      ]
     },
     "execution_count": 4,
     "metadata": {},
     "output_type": "execute_result"
    }
   ],
   "source": [
    "review_rating.head()"
   ]
  },
  {
   "cell_type": "markdown",
   "metadata": {},
   "source": [
    "# review data info"
   ]
  },
  {
   "cell_type": "code",
   "execution_count": 5,
   "metadata": {},
   "outputs": [
    {
     "name": "stdout",
     "output_type": "stream",
     "text": [
      "<class 'pandas.core.frame.DataFrame'>\n",
      "RangeIndex: 1132367 entries, 0 to 1132366\n",
      "Data columns (total 2 columns):\n",
      "review    1132198 non-null object\n",
      "rating    1132367 non-null int64\n",
      "dtypes: int64(1), object(1)\n",
      "memory usage: 17.3+ MB\n"
     ]
    }
   ],
   "source": [
    "review_rating.info()"
   ]
  },
  {
   "cell_type": "code",
   "execution_count": 6,
   "metadata": {},
   "outputs": [
    {
     "data": {
      "text/plain": [
       "review    169\n",
       "rating      0\n",
       "dtype: int64"
      ]
     },
     "execution_count": 6,
     "metadata": {},
     "output_type": "execute_result"
    }
   ],
   "source": [
    "review_rating.isnull().sum()"
   ]
  },
  {
   "cell_type": "markdown",
   "metadata": {},
   "source": [
    "# review_rating data have null data in 169 review"
   ]
  },
  {
   "cell_type": "code",
   "execution_count": 7,
   "metadata": {},
   "outputs": [],
   "source": [
    "review_rating = review_rating[review_rating.review.notnull()]"
   ]
  },
  {
   "cell_type": "code",
   "execution_count": 8,
   "metadata": {},
   "outputs": [
    {
     "data": {
      "text/plain": [
       "5    816229\n",
       "4    187333\n",
       "0     60847\n",
       "3     40852\n",
       "2     14122\n",
       "1     12815\n",
       "Name: rating, dtype: int64"
      ]
     },
     "execution_count": 8,
     "metadata": {},
     "output_type": "execute_result"
    }
   ],
   "source": [
    "review_rating.rating.value_counts()"
   ]
  },
  {
   "cell_type": "markdown",
   "metadata": {},
   "source": [
    "# review_rating data have 0 in 60847 rating"
   ]
  },
  {
   "cell_type": "code",
   "execution_count": 9,
   "metadata": {},
   "outputs": [],
   "source": [
    "review_rating = review_rating[review_rating.rating != 0]"
   ]
  },
  {
   "cell_type": "code",
   "execution_count": 10,
   "metadata": {},
   "outputs": [
    {
     "data": {
      "text/plain": [
       "<matplotlib.axes._subplots.AxesSubplot at 0x20003027ec8>"
      ]
     },
     "execution_count": 10,
     "metadata": {},
     "output_type": "execute_result"
    },
    {
     "data": {
      "image/png": "[encoded data removed]",
      "text/plain": [
       "<Figure size 432x288 with 1 Axes>"
      ]
     },
     "metadata": {
      "needs_background": "light"
     },
     "output_type": "display_data"
    }
   ],
   "source": [
    "review_rating.rating.value_counts().plot(kind='bar')"
   ]
  },
  {
   "cell_type": "code",
   "execution_count": 11,
   "metadata": {},
   "outputs": [],
   "source": [
    "temp = review_rating[review_rating.rating == 5]\n",
    "review_rating = review_rating[review_rating.rating != 5]"
   ]
  },
  {
   "cell_type": "code",
   "execution_count": 12,
   "metadata": {},
   "outputs": [
    {
     "data": {
      "text/plain": [
       "816229"
      ]
     },
     "execution_count": 12,
     "metadata": {},
     "output_type": "execute_result"
    }
   ],
   "source": [
    "len(temp)"
   ]
  },
  {
   "cell_type": "code",
   "execution_count": 13,
   "metadata": {},
   "outputs": [],
   "source": [
    "rating_4_num = len(review_rating[review_rating.rating == 4])"
   ]
  },
  {
   "cell_type": "code",
   "execution_count": 14,
   "metadata": {},
   "outputs": [
    {
     "data": {
      "text/html": [
       "<div>\n",
       "<style scoped>\n",
       "    .dataframe tbody tr th:only-of-type {\n",
       "        vertical-align: middle;\n",
       "    }\n",
       "\n",
       "    .dataframe tbody tr th {\n",
       "        vertical-align: top;\n",
       "    }\n",
       "\n",
       "    .dataframe thead th {\n",
       "        text-align: right;\n",
       "    }\n",
       "</style>\n",
       "<table border=\"1\" class=\"dataframe\">\n",
       "  <thead>\n",
       "    <tr style=\"text-align: right;\">\n",
       "      <th></th>\n",
       "      <th>review</th>\n",
       "      <th>rating</th>\n",
       "    </tr>\n",
       "  </thead>\n",
       "  <tbody>\n",
       "    <tr>\n",
       "      <td>1</td>\n",
       "      <td>So simple, so delicious! Great for chilly fall...</td>\n",
       "      <td>5</td>\n",
       "    </tr>\n",
       "    <tr>\n",
       "      <td>3</td>\n",
       "      <td>I made the Mexican topping and took it to bunk...</td>\n",
       "      <td>5</td>\n",
       "    </tr>\n",
       "    <tr>\n",
       "      <td>4</td>\n",
       "      <td>Made the cheddar bacon topping, adding a sprin...</td>\n",
       "      <td>5</td>\n",
       "    </tr>\n",
       "    <tr>\n",
       "      <td>9</td>\n",
       "      <td>Better than the real!!</td>\n",
       "      <td>5</td>\n",
       "    </tr>\n",
       "    <tr>\n",
       "      <td>10</td>\n",
       "      <td>Absolutely AWESOME! I was speechless when I tr...</td>\n",
       "      <td>5</td>\n",
       "    </tr>\n",
       "    <tr>\n",
       "      <td>...</td>\n",
       "      <td>...</td>\n",
       "      <td>...</td>\n",
       "    </tr>\n",
       "    <tr>\n",
       "      <td>1132359</td>\n",
       "      <td>This is the best and easiest hot fudge ever. I...</td>\n",
       "      <td>5</td>\n",
       "    </tr>\n",
       "    <tr>\n",
       "      <td>1132360</td>\n",
       "      <td>Delicious quick thick chocolate sauce with ing...</td>\n",
       "      <td>5</td>\n",
       "    </tr>\n",
       "    <tr>\n",
       "      <td>1132363</td>\n",
       "      <td>These were so delicious!  My husband and I tru...</td>\n",
       "      <td>5</td>\n",
       "    </tr>\n",
       "    <tr>\n",
       "      <td>1132364</td>\n",
       "      <td>WOW!  Sometimes I don't take the time to rate ...</td>\n",
       "      <td>5</td>\n",
       "    </tr>\n",
       "    <tr>\n",
       "      <td>1132366</td>\n",
       "      <td>I am so glad I googled and found this here. Th...</td>\n",
       "      <td>5</td>\n",
       "    </tr>\n",
       "  </tbody>\n",
       "</table>\n",
       "<p>816229 rows × 2 columns</p>\n",
       "</div>"
      ],
      "text/plain": [
       "                                                    review  rating\n",
       "1        So simple, so delicious! Great for chilly fall...       5\n",
       "3        I made the Mexican topping and took it to bunk...       5\n",
       "4        Made the cheddar bacon topping, adding a sprin...       5\n",
       "9                                   Better than the real!!       5\n",
       "10       Absolutely AWESOME! I was speechless when I tr...       5\n",
       "...                                                    ...     ...\n",
       "1132359  This is the best and easiest hot fudge ever. I...       5\n",
       "1132360  Delicious quick thick chocolate sauce with ing...       5\n",
       "1132363  These were so delicious!  My husband and I tru...       5\n",
       "1132364  WOW!  Sometimes I don't take the time to rate ...       5\n",
       "1132366  I am so glad I googled and found this here. Th...       5\n",
       "\n",
       "[816229 rows x 2 columns]"
      ]
     },
     "execution_count": 14,
     "metadata": {},
     "output_type": "execute_result"
    }
   ],
   "source": [
    "temp"
   ]
  },
  {
   "cell_type": "code",
   "execution_count": 15,
   "metadata": {},
   "outputs": [],
   "source": [
    "temp = random.sample(temp.values.tolist(), rating_4_num)"
   ]
  },
  {
   "cell_type": "code",
   "execution_count": 16,
   "metadata": {},
   "outputs": [],
   "source": [
    "temp = pd.DataFrame(temp, columns=['review', 'rating'])"
   ]
  },
  {
   "cell_type": "code",
   "execution_count": 17,
   "metadata": {},
   "outputs": [],
   "source": [
    "review_rating = pd.concat([review_rating, temp])"
   ]
  },
  {
   "cell_type": "code",
   "execution_count": 18,
   "metadata": {},
   "outputs": [
    {
     "data": {
      "text/plain": [
       "<matplotlib.axes._subplots.AxesSubplot at 0x20062b10708>"
      ]
     },
     "execution_count": 18,
     "metadata": {},
     "output_type": "execute_result"
    },
    {
     "data": {
      "image/png": "[encoded data removed]",
      "text/plain": [
       "<Figure size 432x288 with 1 Axes>"
      ]
     },
     "metadata": {
      "needs_background": "light"
     },
     "output_type": "display_data"
    }
   ],
   "source": [
    "review_rating.rating.value_counts().plot(kind='bar')"
   ]
  },
  {
   "cell_type": "code",
   "execution_count": 19,
   "metadata": {},
   "outputs": [
    {
     "data": {
      "text/html": [
       "<div>\n",
       "<style scoped>\n",
       "    .dataframe tbody tr th:only-of-type {\n",
       "        vertical-align: middle;\n",
       "    }\n",
       "\n",
       "    .dataframe tbody tr th {\n",
       "        vertical-align: top;\n",
       "    }\n",
       "\n",
       "    .dataframe thead th {\n",
       "        text-align: right;\n",
       "    }\n",
       "</style>\n",
       "<table border=\"1\" class=\"dataframe\">\n",
       "  <thead>\n",
       "    <tr style=\"text-align: right;\">\n",
       "      <th></th>\n",
       "      <th>review</th>\n",
       "      <th>rating</th>\n",
       "    </tr>\n",
       "  </thead>\n",
       "  <tbody>\n",
       "    <tr>\n",
       "      <td>0</td>\n",
       "      <td>Great with a salad. Cooked on top of stove for...</td>\n",
       "      <td>4</td>\n",
       "    </tr>\n",
       "    <tr>\n",
       "      <td>2</td>\n",
       "      <td>This worked very well and is EASY.  I used not...</td>\n",
       "      <td>4</td>\n",
       "    </tr>\n",
       "    <tr>\n",
       "      <td>5</td>\n",
       "      <td>very very sweet. after i waited the 2 days i b...</td>\n",
       "      <td>4</td>\n",
       "    </tr>\n",
       "    <tr>\n",
       "      <td>7</td>\n",
       "      <td>This recipe was OVERLY too sweet.  I would sta...</td>\n",
       "      <td>2</td>\n",
       "    </tr>\n",
       "    <tr>\n",
       "      <td>8</td>\n",
       "      <td>Very good!</td>\n",
       "      <td>4</td>\n",
       "    </tr>\n",
       "    <tr>\n",
       "      <td>...</td>\n",
       "      <td>...</td>\n",
       "      <td>...</td>\n",
       "    </tr>\n",
       "    <tr>\n",
       "      <td>187328</td>\n",
       "      <td>Very nice recipe.  Love the slight tartness fr...</td>\n",
       "      <td>5</td>\n",
       "    </tr>\n",
       "    <tr>\n",
       "      <td>187329</td>\n",
       "      <td>Eggplant is my favorite &amp;quot;new&amp;quot; ingred...</td>\n",
       "      <td>5</td>\n",
       "    </tr>\n",
       "    <tr>\n",
       "      <td>187330</td>\n",
       "      <td>I completely agree with this recipe's title......</td>\n",
       "      <td>5</td>\n",
       "    </tr>\n",
       "    <tr>\n",
       "      <td>187331</td>\n",
       "      <td>First time I had this was at my daughter's wed...</td>\n",
       "      <td>5</td>\n",
       "    </tr>\n",
       "    <tr>\n",
       "      <td>187332</td>\n",
       "      <td>OK. These are way better than traditionally fr...</td>\n",
       "      <td>5</td>\n",
       "    </tr>\n",
       "  </tbody>\n",
       "</table>\n",
       "<p>442455 rows × 2 columns</p>\n",
       "</div>"
      ],
      "text/plain": [
       "                                                   review  rating\n",
       "0       Great with a salad. Cooked on top of stove for...       4\n",
       "2       This worked very well and is EASY.  I used not...       4\n",
       "5       very very sweet. after i waited the 2 days i b...       4\n",
       "7       This recipe was OVERLY too sweet.  I would sta...       2\n",
       "8                                              Very good!       4\n",
       "...                                                   ...     ...\n",
       "187328  Very nice recipe.  Love the slight tartness fr...       5\n",
       "187329  Eggplant is my favorite &quot;new&quot; ingred...       5\n",
       "187330  I completely agree with this recipe's title......       5\n",
       "187331  First time I had this was at my daughter's wed...       5\n",
       "187332  OK. These are way better than traditionally fr...       5\n",
       "\n",
       "[442455 rows x 2 columns]"
      ]
     },
     "execution_count": 19,
     "metadata": {},
     "output_type": "execute_result"
    }
   ],
   "source": [
    "review_rating"
   ]
  },
  {
   "cell_type": "code",
   "execution_count": 20,
   "metadata": {},
   "outputs": [
    {
     "name": "stdout",
     "output_type": "stream",
     "text": [
      "review 개수: 442455\n",
      "rating개수: 442455\n"
     ]
    }
   ],
   "source": [
    "X_data = review_rating['review']\n",
    "y_data = review_rating['rating']\n",
    "print('review 개수: {}'.format(len(X_data)))\n",
    "print('rating개수: {}'.format(len(y_data)))"
   ]
  },
  {
   "cell_type": "code",
   "execution_count": 21,
   "metadata": {},
   "outputs": [],
   "source": [
    "normalized_text = []\n",
    "for string in X_data.tolist():\n",
    "    try:\n",
    "        tokens = re.sub(r\"[^a-z0-9]+\", \" \", string.lower())\n",
    "    except Exception as e:\n",
    "        print(string)\n",
    "        break\n",
    "    normalized_text.append(tokens)"
   ]
  },
  {
   "cell_type": "code",
   "execution_count": 22,
   "metadata": {},
   "outputs": [
    {
     "data": {
      "text/plain": [
       "['great with a salad cooked on top of stove for 15 minutes added a shake of cayenne and a pinch of salt used low fat sour cream thanks ',\n",
       " 'this worked very well and is easy i used not quite a whole package 10oz of white chips great ',\n",
       " 'very very sweet after i waited the 2 days i bought 2 more pints of raspberries and added them to the mix i m going to add some as a cake filling today and will take a photo ',\n",
       " 'this recipe was overly too sweet i would start out with 1 3 or 1 4 cup of sugar and jsut add on from there just 2 cups was way too much and i had to go back to the grocery store to buy more raspberries because it made so much mix overall i would but the long narrow box or raspberries its a perfect fit for the recipe plus a little extra i was not impressed with this recipe it was exceptionally over sweet if you make this simple recipe make sure to add less sugar ',\n",
       " 'very good ']"
      ]
     },
     "execution_count": 22,
     "metadata": {},
     "output_type": "execute_result"
    }
   ],
   "source": [
    "normalized_text[:5]"
   ]
  },
  {
   "cell_type": "code",
   "execution_count": 23,
   "metadata": {},
   "outputs": [
    {
     "name": "stdout",
     "output_type": "stream",
     "text": [
      "[[30, 13, 4, 176, 135, 27, 157, 9, 822, 8, 481, 113, 42, 4, 1842, 9, 578, 3, 4, 936, 9, 137, 20, 270, 237, 306, 105, 26], [7, 280, 22, 89, 3, 16, 44, 1, 20, 29, 194, 4, 177, 1059, 5555, 9, 259, 333, 30], [22, 22, 110, 125, 1, 2465, 2, 60, 721, 1, 602, 60, 49, 3519, 9, 1591, 3, 42, 40, 6, 2, 187, 1, 109, 269, 6, 68, 45, 24, 4, 142, 273, 463, 3, 35, 380, 4, 753]]\n"
     ]
    }
   ],
   "source": [
    "t = Tokenizer()\n",
    "t.fit_on_texts(normalized_text)\n",
    "X_encoded = t.texts_to_sequences(normalized_text)\n",
    "vocab_size = len(t.word_index) + 1\n",
    "\n",
    "print(X_encoded[:3])"
   ]
  },
  {
   "cell_type": "code",
   "execution_count": 24,
   "metadata": {},
   "outputs": [
    {
     "name": "stdout",
     "output_type": "stream",
     "text": [
      "353964\n",
      "88491\n"
     ]
    }
   ],
   "source": [
    "n_of_train = int(len(X_data) * 0.8)\n",
    "n_of_test = int(len(X_data) - n_of_train)\n",
    "print(n_of_train)\n",
    "print(n_of_test)"
   ]
  },
  {
   "cell_type": "code",
   "execution_count": 25,
   "metadata": {},
   "outputs": [
    {
     "name": "stdout",
     "output_type": "stream",
     "text": [
      "리뷰의 최대 길이 : 6972\n",
      "리뷰의 평균 길이 : 284.464169\n"
     ]
    },
    {
     "data": {
      "image/png": "[encoded data removed]",
      "text/plain": [
       "<Figure size 432x288 with 1 Axes>"
      ]
     },
     "metadata": {
      "needs_background": "light"
     },
     "output_type": "display_data"
    }
   ],
   "source": [
    "print('리뷰의 최대 길이 : %d' % max(len(l) for l in X_data))\n",
    "print('리뷰의 평균 길이 : %f' % (sum(map(len, X_data))/len(X_data)))\n",
    "plt.hist([len(s) for s in X_data], bins=50)\n",
    "plt.xlabel('length of Data')\n",
    "plt.ylabel('number of Data')\n",
    "plt.show()"
   ]
  },
  {
   "cell_type": "code",
   "execution_count": 26,
   "metadata": {
    "scrolled": true
   },
   "outputs": [
    {
     "name": "stdout",
     "output_type": "stream",
     "text": [
      "data shape:  (442455, 1308)\n"
     ]
    }
   ],
   "source": [
    "max_len = 1308\n",
    "data = pad_sequences(X_encoded, maxlen=max_len)\n",
    "print(\"data shape: \", data.shape)"
   ]
  },
  {
   "cell_type": "code",
   "execution_count": 27,
   "metadata": {},
   "outputs": [],
   "source": [
    "X_test = data[n_of_train:] \n",
    "y_test = np.array(y_data[n_of_train:]) \n",
    "X_train = data[:n_of_train] \n",
    "y_train = np.array(y_data[:n_of_train]) "
   ]
  },
  {
   "cell_type": "code",
   "execution_count": 28,
   "metadata": {},
   "outputs": [
    {
     "name": "stdout",
     "output_type": "stream",
     "text": [
      "[[  0   0   0 ... 306 105  26]\n",
      " [  0   0   0 ... 259 333  30]\n",
      " [  0   0   0 ... 380   4 753]]\n",
      "[4 4 4]\n"
     ]
    }
   ],
   "source": [
    "print(X_train[:3])\n",
    "print(y_train[:3])"
   ]
  },
  {
   "cell_type": "markdown",
   "metadata": {},
   "source": [
    "# GloVe"
   ]
  },
  {
   "cell_type": "code",
   "execution_count": 29,
   "metadata": {},
   "outputs": [
    {
     "name": "stdout",
     "output_type": "stream",
     "text": [
      "['the', '-0.038194', '-0.24487', '0.72812', '-0.39961', '0.083172', '0.043953', '-0.39141', '0.3344', '-0.57545', '0.087459', '0.28787', '-0.06731', '0.30906', '-0.26384', '-0.13231', '-0.20757', '0.33395', '-0.33848', '-0.31743', '-0.48336', '0.1464', '-0.37304', '0.34577', '0.052041', '0.44946', '-0.46971', '0.02628', '-0.54155', '-0.15518', '-0.14107', '-0.039722', '0.28277', '0.14393', '0.23464', '-0.31021', '0.086173', '0.20397', '0.52624', '0.17164', '-0.082378', '-0.71787', '-0.41531', '0.20335', '-0.12763', '0.41367', '0.55187', '0.57908', '-0.33477', '-0.36559', '-0.54857', '-0.062892', '0.26584', '0.30205', '0.99775', '-0.80481', '-3.0243', '0.01254', '-0.36942', '2.2167', '0.72201', '-0.24978', '0.92136', '0.034514', '0.46745', '1.1079', '-0.19358', '-0.074575', '0.23353', '-0.052062', '-0.22044', '0.057162', '-0.15806', '-0.30798', '-0.41625', '0.37972', '0.15006', '-0.53212', '-0.2055', '-1.2526', '0.071624', '0.70565', '0.49744', '-0.42063', '0.26148', '-1.538', '-0.30223', '-0.073438', '-0.28312', '0.37104', '-0.25217', '0.016215', '-0.017099', '-0.38984', '0.87424', '-0.72569', '-0.51058', '-0.52028', '-0.1459', '0.8278', '0.27062']\n",
      "the\n",
      "[',', '-0.10767', '0.11053', '0.59812', '-0.54361', '0.67396', '0.10663', '0.038867', '0.35481', '0.06351', '-0.094189', '0.15786', '-0.81665', '0.14172', '0.21939', '0.58505', '-0.52158', '0.22783', '-0.16642', '-0.68228', '0.3587', '0.42568', '0.19021', '0.91963', '0.57555', '0.46185', '0.42363', '-0.095399', '-0.42749', '-0.16567', '-0.056842', '-0.29595', '0.26037', '-0.26606', '-0.070404', '-0.27662', '0.15821', '0.69825', '0.43081', '0.27952', '-0.45437', '-0.33801', '-0.58184', '0.22364', '-0.5778', '-0.26862', '-0.20425', '0.56394', '-0.58524', '-0.14365', '-0.64218', '0.0054697', '-0.35248', '0.16162', '1.1796', '-0.47674', '-2.7553', '-0.1321', '-0.047729', '1.0655', '1.1034', '-0.2208', '0.18669', '0.13177', '0.15117', '0.7131', '-0.35215', '0.91348', '0.61783', '0.70992', '0.23955', '-0.14571', '-0.37859', '-0.045959', '-0.47368', '0.2385', '0.20536', '-0.18996', '0.32507', '-1.1112', '-0.36341', '0.98679', '-0.084776', '-0.54008', '0.11726', '-1.0194', '-0.24424', '0.12771', '0.013884', '0.080374', '-0.35414', '0.34951', '-0.7226', '0.37549', '0.4441', '-0.99059', '0.61214', '-0.35111', '-0.83155', '0.45293', '0.082577']\n",
      ",\n"
     ]
    }
   ],
   "source": [
    "n=0\n",
    "f = open('C:\\\\Users\\\\user\\\\Documents\\\\GitHub\\\\grad_project\\\\recipe_rating\\\\preprocessing\\\\glove.6B\\\\glove.6B.100d.txt', encoding=\"utf8\")\n",
    "\n",
    "for line in f:\n",
    "    word_vector = line.split() # 각 줄을 읽어와서 word_vector에 저장.\n",
    "    print(word_vector) # 각 줄을 출력\n",
    "    word = word_vector[0] # word_vector에서 첫번째 값만 저장\n",
    "    print(word) # word_vector의 첫번째 값만 출력\n",
    "    n=n+1\n",
    "    if n==2:\n",
    "        break\n",
    "f.close()"
   ]
  },
  {
   "cell_type": "code",
   "execution_count": 30,
   "metadata": {},
   "outputs": [
    {
     "name": "stdout",
     "output_type": "stream",
     "text": [
      "<class 'list'>\n",
      "101\n"
     ]
    }
   ],
   "source": [
    "print(type(word_vector))\n",
    "print(len(word_vector))"
   ]
  },
  {
   "cell_type": "code",
   "execution_count": 31,
   "metadata": {},
   "outputs": [
    {
     "name": "stdout",
     "output_type": "stream",
     "text": [
      "400000개의 Embedding vector가 있습니다.\n"
     ]
    }
   ],
   "source": [
    "import numpy as np\n",
    "embedding_dict = dict()\n",
    "f = open('C:\\\\Users\\\\user\\\\Documents\\\\GitHub\\\\grad_project\\\\recipe_rating\\\\preprocessing\\\\glove.6B\\\\glove.6B.100d.txt', encoding=\"utf8\")\n",
    "\n",
    "for line in f:\n",
    "    word_vector = line.split()\n",
    "    word = word_vector[0]\n",
    "    word_vector_arr = np.asarray(word_vector[1:], dtype='float32') # 100개의 값을 가지는 array로 변환\n",
    "    embedding_dict[word] = word_vector_arr\n",
    "f.close()\n",
    "print('%s개의 Embedding vector가 있습니다.' % len(embedding_dict))"
   ]
  },
  {
   "cell_type": "code",
   "execution_count": 32,
   "metadata": {},
   "outputs": [
    {
     "data": {
      "text/plain": [
       "(86775, 100)"
      ]
     },
     "execution_count": 32,
     "metadata": {},
     "output_type": "execute_result"
    }
   ],
   "source": [
    "embedding_matrix = np.zeros((vocab_size, 100))\n",
    "# 단어 집합 크기의 행과 100개의 열을 가지는 행렬 생성. 값은 전부 0으로 채워진다.\n",
    "np.shape(embedding_matrix)"
   ]
  },
  {
   "cell_type": "code",
   "execution_count": 33,
   "metadata": {},
   "outputs": [],
   "source": [
    "for word, i in t.word_index.items(): # 훈련 데이터의 단어 집합에서 단어를 1개씩 꺼내온다.\n",
    "    temp = embedding_dict.get(word) # 단어(key) 해당되는 임베딩 벡터의 100개의 값(value)를 임시 변수에 저장\n",
    "    if temp is not None:\n",
    "        embedding_matrix[i] = temp # 임수 변수의 값을 단어와 맵핑되는 인덱스의 행에 삽입"
   ]
  },
  {
   "cell_type": "code",
   "execution_count": 34,
   "metadata": {},
   "outputs": [],
   "source": [
    "from tensorflow.keras.models import Sequential\n",
    "from tensorflow.keras.layers import Dense, Embedding, Flatten\n",
    "\n",
    "model = Sequential()\n",
    "e = Embedding(vocab_size, 100, weights=[embedding_matrix], input_length=max_len, trainable=False)"
   ]
  },
  {
   "cell_type": "markdown",
   "metadata": {},
   "source": [
    "# 1"
   ]
  },
  {
   "cell_type": "code",
   "execution_count": 35,
   "metadata": {},
   "outputs": [
    {
     "name": "stdout",
     "output_type": "stream",
     "text": [
      "Train on 353964 samples\n",
      "Epoch 1/100\n",
      "353964/353964 [==============================] - 218s 616us/sample - loss: 1.3395 - accuracy: 0.5285\n",
      "Epoch 2/100\n",
      "353964/353964 [==============================] - 229s 646us/sample - loss: 1.2631 - accuracy: 0.5485\n",
      "Epoch 3/100\n",
      "353964/353964 [==============================] - 238s 673us/sample - loss: 1.2325 - accuracy: 0.5559\n",
      "Epoch 4/100\n",
      "353964/353964 [==============================] - 251s 710us/sample - loss: 1.2129 - accuracy: 0.5591\n",
      "Epoch 5/100\n",
      "353964/353964 [==============================] - 242s 684us/sample - loss: 1.2064 - accuracy: 0.5614\n",
      "Epoch 6/100\n",
      "353964/353964 [==============================] - 238s 673us/sample - loss: 1.1946 - accuracy: 0.5622\n",
      "Epoch 7/100\n",
      "353964/353964 [==============================] - 213s 602us/sample - loss: 1.1854 - accuracy: 0.5658\n",
      "Epoch 9/100\n",
      "353964/353964 [==============================] - 215s 607us/sample - loss: 1.1779 - accuracy: 0.5670\n",
      "Epoch 10/100\n",
      "353964/353964 [==============================] - 218s 615us/sample - loss: 1.1762 - accuracy: 0.5671\n",
      "Epoch 11/100\n",
      "353964/353964 [==============================] - 246s 696us/sample - loss: 1.1736 - accuracy: 0.5678\n",
      "Epoch 12/100\n",
      "353964/353964 [==============================] - 256s 725us/sample - loss: 1.1704 - accuracy: 0.5686\n",
      "Epoch 13/100\n",
      "353964/353964 [==============================] - 284s 801us/sample - loss: 1.1676 - accuracy: 0.5696\n",
      "Epoch 14/100\n",
      "353964/353964 [==============================] - 269s 761us/sample - loss: 1.1612 - accuracy: 0.5701\n",
      "Epoch 15/100\n",
      "353964/353964 [==============================] - 265s 750us/sample - loss: 1.1623 - accuracy: 0.5710\n",
      "Epoch 16/100\n",
      "353964/353964 [==============================] - 253s 715us/sample - loss: 1.1541 - accuracy: 0.5719\n",
      "Epoch 18/100\n",
      "353964/353964 [==============================] - 233s 659us/sample - loss: 1.1559 - accuracy: 0.5719\n",
      "Epoch 19/100\n",
      "353964/353964 [==============================] - 221s 625us/sample - loss: 1.1557 - accuracy: 0.5720\n",
      "Epoch 20/100\n",
      "353964/353964 [==============================] - 222s 627us/sample - loss: 1.1533 - accuracy: 0.5730\n",
      "Epoch 21/100\n",
      "353964/353964 [==============================] - 231s 652us/sample - loss: 1.1533 - accuracy: 0.5732\n",
      "Epoch 22/100\n",
      "353964/353964 [==============================] - 252s 713us/sample - loss: 1.1496 - accuracy: 0.5736\n",
      "Epoch 23/100\n",
      "353964/353964 [==============================] - 239s 675us/sample - loss: 1.1504 - accuracy: 0.5735\n",
      "Epoch 24/100\n",
      "353964/353964 [==============================] - 218s 615us/sample - loss: 1.1490 - accuracy: 0.5739\n",
      "Epoch 26/100\n",
      "353964/353964 [==============================] - 230s 650us/sample - loss: 1.1431 - accuracy: 0.5750\n",
      "Epoch 28/100\n",
      "353964/353964 [==============================] - 221s 624us/sample - loss: 1.1454 - accuracy: 0.5745\n",
      "Epoch 30/100\n",
      "353964/353964 [==============================] - 230s 650us/sample - loss: 1.1437 - accuracy: 0.5747\n",
      "Epoch 31/100\n",
      "353964/353964 [==============================] - 225s 636us/sample - loss: 1.1443 - accuracy: 0.5742\n",
      "Epoch 32/100\n",
      "353964/353964 [==============================] - 223s 630us/sample - loss: 1.1422 - accuracy: 0.5756\n",
      "Epoch 33/100\n",
      "353964/353964 [==============================] - 243s 686us/sample - loss: 1.1421 - accuracy: 0.5752\n",
      "Epoch 34/100\n",
      "353964/353964 [==============================] - 230s 649us/sample - loss: 1.1390 - accuracy: 0.5774 loss: 1.1\n",
      "Epoch 37/100\n",
      "353964/353964 [==============================] - 238s 673us/sample - loss: 1.1422 - accuracy: 0.5760 loss: 1.142\n",
      "Epoch 39/100\n",
      "353964/353964 [==============================] - 239s 674us/sample - loss: 1.1388 - accuracy: 0.5765\n",
      "Epoch 40/100\n",
      "353964/353964 [==============================] - 269s 759us/sample - loss: 1.1405 - accuracy: 0.5766\n",
      "Epoch 41/100\n",
      "353964/353964 [==============================] - 274s 774us/sample - loss: 1.1376 - accuracy: 0.5766\n",
      "Epoch 42/100\n",
      "353964/353964 [==============================] - 275s 776us/sample - loss: 1.1379 - accuracy: 0.5769\n",
      "Epoch 43/100\n",
      "353964/353964 [==============================] - 256s 723us/sample - loss: 1.1385 - accuracy: 0.5761\n",
      "Epoch 44/100\n",
      "353964/353964 [==============================] - 221s 625us/sample - loss: 1.1389 - accuracy: 0.5771\n",
      "Epoch 45/100\n",
      "353964/353964 [==============================] - 227s 641us/sample - loss: 1.1332 - accuracy: 0.5774\n",
      "Epoch 46/100\n",
      "353964/353964 [==============================] - 240s 678us/sample - loss: 1.1354 - accuracy: 0.5758\n",
      "Epoch 47/100\n",
      "353964/353964 [==============================] - 218s 617us/sample - loss: 1.1364 - accuracy: 0.5762\n",
      "Epoch 48/100\n",
      "353964/353964 [==============================] - 255s 721us/sample - loss: 1.1358 - accuracy: 0.5769\n",
      "Epoch 49/100\n",
      "353964/353964 [==============================] - 255s 720us/sample - loss: 1.1365 - accuracy: 0.5769\n",
      "Epoch 50/100\n",
      "353964/353964 [==============================] - 259s 733us/sample - loss: 1.1347 - accuracy: 0.5774\n",
      "Epoch 51/100\n",
      "353964/353964 [==============================] - 256s 724us/sample - loss: 1.1370 - accuracy: 0.5767\n",
      "Epoch 52/100\n",
      "353964/353964 [==============================] - 246s 696us/sample - loss: 1.1316 - accuracy: 0.5779 loss: 1\n",
      "Epoch 53/100\n",
      "353964/353964 [==============================] - 246s 694us/sample - loss: 1.1328 - accuracy: 0.5777\n",
      "Epoch 54/100\n",
      "353964/353964 [==============================] - 243s 687us/sample - loss: 1.1306 - accuracy: 0.5786\n",
      "Epoch 55/100\n",
      "353964/353964 [==============================] - 249s 705us/sample - loss: 1.1326 - accuracy: 0.5772\n",
      "Epoch 56/100\n",
      "353964/353964 [==============================] - 254s 718us/sample - loss: 1.1327 - accuracy: 0.5768\n",
      "Epoch 57/100\n",
      "353964/353964 [==============================] - 255s 720us/sample - loss: 1.1329 - accuracy: 0.5778\n",
      "Epoch 58/100\n",
      "353964/353964 [==============================] - 259s 733us/sample - loss: 1.1279 - accuracy: 0.5786\n",
      "Epoch 59/100\n",
      "353964/353964 [==============================] - 244s 688us/sample - loss: 1.1306 - accuracy: 0.5785\n",
      "Epoch 60/100\n",
      "353964/353964 [==============================] - 245s 693us/sample - loss: 1.1321 - accuracy: 0.5775\n",
      "Epoch 61/100\n",
      "353964/353964 [==============================] - 241s 681us/sample - loss: 1.1285 - accuracy: 0.5789 loss: 1.1285 \n",
      "Epoch 62/100\n",
      "353964/353964 [==============================] - 243s 686us/sample - loss: 1.1353 - accuracy: 0.5774\n",
      "Epoch 63/100\n",
      "353964/353964 [==============================] - 245s 691us/sample - loss: 1.1312 - accuracy: 0.5780\n",
      "Epoch 64/100\n",
      "353964/353964 [==============================] - 242s 682us/sample - loss: 1.1281 - accuracy: 0.5777 loss: 1.1281 - accuracy: 0.\n",
      "Epoch 65/100\n",
      "353964/353964 [==============================] - 241s 681us/sample - loss: 1.1304 - accuracy: 0.5787\n",
      "Epoch 66/100\n",
      "353964/353964 [==============================] - 252s 713us/sample - loss: 1.1314 - accuracy: 0.5779\n",
      "Epoch 67/100\n",
      "353964/353964 [==============================] - 264s 746us/sample - loss: 1.1281 - accuracy: 0.5798\n",
      "Epoch 68/100\n",
      "353964/353964 [==============================] - 266s 751us/sample - loss: 1.1288 - accuracy: 0.5786 loss: 1.1288 - accuracy: 0.\n",
      "Epoch 69/100\n",
      "353964/353964 [==============================] - 258s 729us/sample - loss: 1.1279 - accuracy: 0.5791 loss: 1.1277 \n",
      "Epoch 70/100\n",
      "353964/353964 [==============================] - 246s 696us/sample - loss: 1.1290 - accuracy: 0.5789\n",
      "Epoch 71/100\n",
      "353964/353964 [==============================] - 246s 695us/sample - loss: 1.1301 - accuracy: 0.5793\n",
      "Epoch 72/100\n",
      "353964/353964 [==============================] - 250s 706us/sample - loss: 1.1281 - accuracy: 0.5786\n",
      "Epoch 73/100\n",
      "353964/353964 [==============================] - 249s 703us/sample - loss: 1.1288 - accuracy: 0.5793\n",
      "Epoch 74/100\n",
      "353964/353964 [==============================] - 247s 699us/sample - loss: 1.1275 - accuracy: 0.5783\n",
      "Epoch 75/100\n",
      "353964/353964 [==============================] - 248s 701us/sample - loss: 1.1268 - accuracy: 0.5790\n",
      "Epoch 76/100\n",
      "353964/353964 [==============================] - 248s 700us/sample - loss: 1.1277 - accuracy: 0.5795\n",
      "Epoch 77/100\n",
      "353964/353964 [==============================] - 247s 699us/sample - loss: 1.1286 - accuracy: 0.5789\n",
      "Epoch 78/100\n",
      "353964/353964 [==============================] - 249s 703us/sample - loss: 1.1283 - accuracy: 0.5790\n",
      "Epoch 79/100\n",
      "353964/353964 [==============================] - 233s 659us/sample - loss: 1.1279 - accuracy: 0.5785\n",
      "Epoch 80/100\n",
      "353964/353964 [==============================] - 239s 674us/sample - loss: 1.1276 - accuracy: 0.5782\n",
      "Epoch 81/100\n",
      "353964/353964 [==============================] - 237s 669us/sample - loss: 1.1262 - accuracy: 0.5795\n",
      "Epoch 82/100\n",
      "353964/353964 [==============================] - 234s 661us/sample - loss: 1.1255 - accuracy: 0.5793\n",
      "Epoch 83/100\n",
      "353964/353964 [==============================] - 236s 668us/sample - loss: 1.1246 - accuracy: 0.5800\n",
      "Epoch 84/100\n",
      "353964/353964 [==============================] - 235s 663us/sample - loss: 1.1281 - accuracy: 0.5782\n",
      "Epoch 85/100\n",
      "353964/353964 [==============================] - 235s 665us/sample - loss: 1.1244 - accuracy: 0.5810\n",
      "Epoch 86/100\n",
      "353964/353964 [==============================] - 232s 656us/sample - loss: 1.1260 - accuracy: 0.5794\n",
      "Epoch 87/100\n",
      "353964/353964 [==============================] - 238s 674us/sample - loss: 1.1268 - accuracy: 0.5792\n",
      "Epoch 88/100\n",
      "353964/353964 [==============================] - 249s 702us/sample - loss: 1.1256 - accuracy: 0.5801\n",
      "Epoch 89/100\n",
      "353964/353964 [==============================] - 254s 717us/sample - loss: 1.1227 - accuracy: 0.5802\n",
      "Epoch 90/100\n",
      "353964/353964 [==============================] - 251s 708us/sample - loss: 1.1268 - accuracy: 0.5809\n",
      "Epoch 91/100\n",
      "353964/353964 [==============================] - 256s 723us/sample - loss: 1.1241 - accuracy: 0.5805\n",
      "Epoch 92/100\n",
      "353964/353964 [==============================] - 1077s 3ms/sample - loss: 1.1250 - accuracy: 0.5804\n",
      "Epoch 93/100\n",
      "353964/353964 [==============================] - 212s 598us/sample - loss: 1.1236 - accuracy: 0.5800\n",
      "Epoch 94/100\n",
      "353964/353964 [==============================] - 232s 655us/sample - loss: 1.1254 - accuracy: 0.5801\n",
      "Epoch 95/100\n",
      "353964/353964 [==============================] - 240s 679us/sample - loss: 1.1234 - accuracy: 0.5805\n",
      "Epoch 96/100\n",
      "353964/353964 [==============================] - 271s 765us/sample - loss: 1.1228 - accuracy: 0.5807\n",
      "Epoch 97/100\n",
      "353964/353964 [==============================] - 269s 759us/sample - loss: 1.1241 - accuracy: 0.5800\n",
      "Epoch 98/100\n",
      "353964/353964 [==============================] - 269s 761us/sample - loss: 1.1227 - accuracy: 0.5810\n",
      "Epoch 99/100\n",
      "353964/353964 [==============================] - 261s 737us/sample - loss: 1.1249 - accuracy: 0.5800\n",
      "Epoch 100/100\n",
      "353964/353964 [==============================] - 254s 719us/sample - loss: 1.1236 - accuracy: 0.5797\n"
     ]
    },
    {
     "data": {
      "text/plain": [
       "<tensorflow.python.keras.callbacks.History at 0x2159525dd08>"
      ]
     },
     "execution_count": 35,
     "metadata": {},
     "output_type": "execute_result"
    }
   ],
   "source": [
    "model.add(e)\n",
    "model.add(Flatten())\n",
    "model.add(Dense(6, activation='softmax'))\n",
    "model.compile(optimizer='adam', loss='sparse_categorical_crossentropy', metrics=['accuracy'])\n",
    "model.fit(X_train, y_train, epochs=100, verbose=1)"
   ]
  },
  {
   "cell_type": "markdown",
   "metadata": {},
   "source": [
    "# 2"
   ]
  },
  {
   "cell_type": "code",
   "execution_count": 35,
   "metadata": {},
   "outputs": [
    {
     "name": "stdout",
     "output_type": "stream",
     "text": [
      "Train on 283171 samples, validate on 70793 samples\n",
      "Epoch 1/30\n",
      "283171/283171 [==============================] - 162s 572us/sample - loss: 1.0983 - accuracy: 0.6398 - val_loss: 3.3917 - val_accuracy: 0.0237\n",
      "Epoch 2/30\n",
      "283171/283171 [==============================] - 160s 564us/sample - loss: 1.0074 - accuracy: 0.6560 - val_loss: 2.9264 - val_accuracy: 0.0630\n",
      "Epoch 3/30\n",
      "283171/283171 [==============================] - 161s 570us/sample - loss: 0.9818 - accuracy: 0.6615 - val_loss: 3.0004 - val_accuracy: 0.0657\n",
      "Epoch 4/30\n",
      "283171/283171 [==============================] - 163s 574us/sample - loss: 0.9602 - accuracy: 0.6660 - val_loss: 2.4562 - val_accuracy: 0.1701\n",
      "Epoch 5/30\n",
      "283171/283171 [==============================] - 163s 575us/sample - loss: 0.9543 - accuracy: 0.6673 - val_loss: 2.5458 - val_accuracy: 0.1640\n",
      "Epoch 6/30\n",
      "283171/283171 [==============================] - 170s 599us/sample - loss: 0.9441 - accuracy: 0.6706 - val_loss: 2.9038 - val_accuracy: 0.1184\n",
      "Epoch 7/30\n",
      "283171/283171 [==============================] - 170s 601us/sample - loss: 0.9377 - accuracy: 0.6717 - val_loss: 2.4396 - val_accuracy: 0.1482\n",
      "Epoch 8/30\n",
      "283171/283171 [==============================] - 174s 615us/sample - loss: 0.9340 - accuracy: 0.6730 - val_loss: 2.9144 - val_accuracy: 0.1116\n",
      "Epoch 9/30\n",
      "283171/283171 [==============================] - 173s 612us/sample - loss: 0.9278 - accuracy: 0.6747 - val_loss: 2.5564 - val_accuracy: 0.2137\n",
      "Epoch 10/30\n",
      "283171/283171 [==============================] - 171s 602us/sample - loss: 0.9243 - accuracy: 0.6755 - val_loss: 2.4012 - val_accuracy: 0.1936\n",
      "Epoch 11/30\n",
      "283171/283171 [==============================] - 164s 580us/sample - loss: 0.9231 - accuracy: 0.6767 - val_loss: 3.0522 - val_accuracy: 0.1064\n",
      "Epoch 12/30\n",
      "283171/283171 [==============================] - 164s 578us/sample - loss: 0.9195 - accuracy: 0.6776 - val_loss: 3.5175 - val_accuracy: 0.0701\n",
      "Epoch 13/30\n",
      "283171/283171 [==============================] - 167s 589us/sample - loss: 0.9188 - accuracy: 0.6776 - val_loss: 3.2611 - val_accuracy: 0.1129\n",
      "Epoch 14/30\n",
      "283171/283171 [==============================] - 167s 588us/sample - loss: 0.9170 - accuracy: 0.6777 - val_loss: 3.2423 - val_accuracy: 0.1037\n",
      "Epoch 15/30\n",
      "283171/283171 [==============================] - 164s 578us/sample - loss: 0.9158 - accuracy: 0.6785 - val_loss: 2.8236 - val_accuracy: 0.1753\n",
      "Epoch 16/30\n",
      "283171/283171 [==============================] - 166s 585us/sample - loss: 0.9109 - accuracy: 0.6781 - val_loss: 3.9045 - val_accuracy: 0.0430\n",
      "Epoch 17/30\n",
      "283171/283171 [==============================] - 165s 582us/sample - loss: 0.9105 - accuracy: 0.6796 - val_loss: 3.0555 - val_accuracy: 0.1227\n",
      "Epoch 18/30\n",
      "283171/283171 [==============================] - 154s 545us/sample - loss: 0.9080 - accuracy: 0.6805 - val_loss: 3.8364 - val_accuracy: 0.0586\n",
      "Epoch 19/30\n",
      "283171/283171 [==============================] - 161s 567us/sample - loss: 0.9095 - accuracy: 0.6806 - val_loss: 2.2149 - val_accuracy: 0.2514\n",
      "Epoch 20/30\n",
      "283171/283171 [==============================] - 173s 610us/sample - loss: 0.9072 - accuracy: 0.6811 - val_loss: 3.0246 - val_accuracy: 0.2055\n",
      "Epoch 21/30\n",
      "283171/283171 [==============================] - 166s 585us/sample - loss: 0.9056 - accuracy: 0.6811 - val_loss: 2.7957 - val_accuracy: 0.1783\n",
      "Epoch 22/30\n",
      "283171/283171 [==============================] - 184s 651us/sample - loss: 0.9039 - accuracy: 0.6809 - val_loss: 4.3239 - val_accuracy: 0.0488\n",
      "Epoch 23/30\n",
      "283171/283171 [==============================] - 188s 665us/sample - loss: 0.9048 - accuracy: 0.6811 - val_loss: 2.5441 - val_accuracy: 0.2451\n",
      "Epoch 24/30\n",
      "283171/283171 [==============================] - 220s 777us/sample - loss: 0.9002 - accuracy: 0.6826 - val_loss: 2.9150 - val_accuracy: 0.1601\n",
      "Epoch 25/30\n",
      "283171/283171 [==============================] - 184s 648us/sample - loss: 0.8982 - accuracy: 0.6822 - val_loss: 2.9867 - val_accuracy: 0.1661\n",
      "Epoch 28/30\n",
      "283171/283171 [==============================] - 191s 674us/sample - loss: 0.8981 - accuracy: 0.6838 - val_loss: 3.2493 - val_accuracy: 0.1286\n",
      "Epoch 29/30\n",
      "283171/283171 [==============================] - 189s 666us/sample - loss: 0.8966 - accuracy: 0.6835 - val_loss: 4.1441 - val_accuracy: 0.0613\n",
      "Epoch 30/30\n",
      "283171/283171 [==============================] - 190s 672us/sample - loss: 0.8987 - accuracy: 0.6830 - val_loss: 3.2886 - val_accuracy: 0.1351\n"
     ]
    }
   ],
   "source": [
    "model.add(e)\n",
    "model.add(Flatten())\n",
    "model.add(Dense(6, activation='softmax'))\n",
    "model.compile(optimizer='adam', loss='sparse_categorical_crossentropy', metrics=['accuracy'])\n",
    "history = model.fit(X_train, y_train, epochs=30, batch_size = 64, validation_split = 0.2)"
   ]
  },
  {
   "cell_type": "code",
   "execution_count": 38,
   "metadata": {
    "scrolled": true
   },
   "outputs": [
    {
     "name": "stdout",
     "output_type": "stream",
     "text": [
      "Model: \"sequential\"\n",
      "_________________________________________________________________\n",
      "Layer (type)                 Output Shape              Param #   \n",
      "=================================================================\n",
      "embedding (Embedding)        (None, 1308, 100)         8655200   \n",
      "_________________________________________________________________\n",
      "flatten (Flatten)            (None, 130800)            0         \n",
      "_________________________________________________________________\n",
      "dense (Dense)                (None, 6)                 784806    \n",
      "=================================================================\n",
      "Total params: 9,440,006\n",
      "Trainable params: 784,806\n",
      "Non-trainable params: 8,655,200\n",
      "_________________________________________________________________\n"
     ]
    }
   ],
   "source": [
    "model.summary()"
   ]
  },
  {
   "cell_type": "code",
   "execution_count": 37,
   "metadata": {
    "scrolled": true
   },
   "outputs": [
    {
     "data": {
      "image/png": "[encoded data removed]",
      "text/plain": [
       "<Figure size 432x288 with 1 Axes>"
      ]
     },
     "metadata": {
      "needs_background": "light"
     },
     "output_type": "display_data"
    }
   ],
   "source": [
    "epochs = range(1, len(history.history['accuracy']) + 1)\n",
    "plt.plot(epochs, history.history['accuracy'])\n",
    "plt.plot(epochs, history.history['val_accuracy'])\n",
    "plt.title('model accuracy')\n",
    "plt.ylabel('accuracy')\n",
    "plt.xlabel('epoch')\n",
    "plt.legend(['train', 'val'], loc='upper left')\n",
    "plt.show()"
   ]
  },
  {
   "cell_type": "markdown",
   "metadata": {},
   "source": [
    "# 3"
   ]
  },
  {
   "cell_type": "code",
   "execution_count": 38,
   "metadata": {},
   "outputs": [
    {
     "name": "stdout",
     "output_type": "stream",
     "text": [
      "Train on 283171 samples, validate on 70793 samples\n",
      "Epoch 1/10\n",
      "WARNING:tensorflow:Gradients do not exist for variables ['dense/kernel:0', 'dense/bias:0', 'dense_1/kernel:0', 'dense_1/bias:0', 'dense_2/kernel:0', 'dense_2/bias:0', 'dense_3/kernel:0', 'dense_3/bias:0', 'dense_4/kernel:0', 'dense_4/bias:0'] when minimizing the loss.\n",
      "WARNING:tensorflow:Gradients do not exist for variables ['dense/kernel:0', 'dense/bias:0', 'dense_1/kernel:0', 'dense_1/bias:0', 'dense_2/kernel:0', 'dense_2/bias:0', 'dense_3/kernel:0', 'dense_3/bias:0', 'dense_4/kernel:0', 'dense_4/bias:0'] when minimizing the loss.\n",
      "    64/283171 [..............................] - ETA: 1:52:21"
     ]
    },
    {
     "ename": "InvalidArgumentError",
     "evalue": " indices[14,127504] = -1 is not in [0, 86775)\n\t [[node sequential/embedding_1/embedding_lookup (defined at C:\\ProgramData\\Anaconda3\\lib\\site-packages\\tensorflow_core\\python\\framework\\ops.py:1751) ]] [Op:__inference_distributed_function_2468]\n\nFunction call stack:\ndistributed_function\n",
     "output_type": "error",
     "traceback": [
      "\u001b[1;31m---------------------------------------------------------------------------\u001b[0m",
      "\u001b[1;31mInvalidArgumentError\u001b[0m                      Traceback (most recent call last)",
      "\u001b[1;32m<ipython-input-38-0c497aa285f6>\u001b[0m in \u001b[0;36m<module>\u001b[1;34m\u001b[0m\n\u001b[0;32m      6\u001b[0m \u001b[0mmodel\u001b[0m\u001b[1;33m.\u001b[0m\u001b[0madd\u001b[0m\u001b[1;33m(\u001b[0m\u001b[0mDense\u001b[0m\u001b[1;33m(\u001b[0m\u001b[1;36m6\u001b[0m\u001b[1;33m,\u001b[0m \u001b[0mactivation\u001b[0m\u001b[1;33m=\u001b[0m\u001b[1;34m'softmax'\u001b[0m\u001b[1;33m)\u001b[0m\u001b[1;33m)\u001b[0m\u001b[1;33m\u001b[0m\u001b[1;33m\u001b[0m\u001b[0m\n\u001b[0;32m      7\u001b[0m \u001b[0mmodel\u001b[0m\u001b[1;33m.\u001b[0m\u001b[0mcompile\u001b[0m\u001b[1;33m(\u001b[0m\u001b[0moptimizer\u001b[0m\u001b[1;33m=\u001b[0m\u001b[1;34m'adam'\u001b[0m\u001b[1;33m,\u001b[0m \u001b[0mloss\u001b[0m\u001b[1;33m=\u001b[0m\u001b[1;34m'sparse_categorical_crossentropy'\u001b[0m\u001b[1;33m,\u001b[0m \u001b[0mmetrics\u001b[0m\u001b[1;33m=\u001b[0m\u001b[1;33m[\u001b[0m\u001b[1;34m'accuracy'\u001b[0m\u001b[1;33m]\u001b[0m\u001b[1;33m)\u001b[0m\u001b[1;33m\u001b[0m\u001b[1;33m\u001b[0m\u001b[0m\n\u001b[1;32m----> 8\u001b[1;33m \u001b[0mhistory\u001b[0m \u001b[1;33m=\u001b[0m \u001b[0mmodel\u001b[0m\u001b[1;33m.\u001b[0m\u001b[0mfit\u001b[0m\u001b[1;33m(\u001b[0m\u001b[0mX_train\u001b[0m\u001b[1;33m,\u001b[0m \u001b[0my_train\u001b[0m\u001b[1;33m,\u001b[0m \u001b[0mepochs\u001b[0m\u001b[1;33m=\u001b[0m\u001b[1;36m10\u001b[0m\u001b[1;33m,\u001b[0m \u001b[0mbatch_size\u001b[0m \u001b[1;33m=\u001b[0m \u001b[1;36m64\u001b[0m\u001b[1;33m,\u001b[0m \u001b[0mvalidation_split\u001b[0m \u001b[1;33m=\u001b[0m \u001b[1;36m0.2\u001b[0m\u001b[1;33m)\u001b[0m\u001b[1;33m\u001b[0m\u001b[1;33m\u001b[0m\u001b[0m\n\u001b[0m",
      "\u001b[1;32mC:\\ProgramData\\Anaconda3\\lib\\site-packages\\tensorflow_core\\python\\keras\\engine\\training.py\u001b[0m in \u001b[0;36mfit\u001b[1;34m(self, x, y, batch_size, epochs, verbose, callbacks, validation_split, validation_data, shuffle, class_weight, sample_weight, initial_epoch, steps_per_epoch, validation_steps, validation_freq, max_queue_size, workers, use_multiprocessing, **kwargs)\u001b[0m\n\u001b[0;32m    726\u001b[0m         \u001b[0mmax_queue_size\u001b[0m\u001b[1;33m=\u001b[0m\u001b[0mmax_queue_size\u001b[0m\u001b[1;33m,\u001b[0m\u001b[1;33m\u001b[0m\u001b[1;33m\u001b[0m\u001b[0m\n\u001b[0;32m    727\u001b[0m         \u001b[0mworkers\u001b[0m\u001b[1;33m=\u001b[0m\u001b[0mworkers\u001b[0m\u001b[1;33m,\u001b[0m\u001b[1;33m\u001b[0m\u001b[1;33m\u001b[0m\u001b[0m\n\u001b[1;32m--> 728\u001b[1;33m         use_multiprocessing=use_multiprocessing)\n\u001b[0m\u001b[0;32m    729\u001b[0m \u001b[1;33m\u001b[0m\u001b[0m\n\u001b[0;32m    730\u001b[0m   def evaluate(self,\n",
      "\u001b[1;32mC:\\ProgramData\\Anaconda3\\lib\\site-packages\\tensorflow_core\\python\\keras\\engine\\training_v2.py\u001b[0m in \u001b[0;36mfit\u001b[1;34m(self, model, x, y, batch_size, epochs, verbose, callbacks, validation_split, validation_data, shuffle, class_weight, sample_weight, initial_epoch, steps_per_epoch, validation_steps, validation_freq, **kwargs)\u001b[0m\n\u001b[0;32m    322\u001b[0m                 \u001b[0mmode\u001b[0m\u001b[1;33m=\u001b[0m\u001b[0mModeKeys\u001b[0m\u001b[1;33m.\u001b[0m\u001b[0mTRAIN\u001b[0m\u001b[1;33m,\u001b[0m\u001b[1;33m\u001b[0m\u001b[1;33m\u001b[0m\u001b[0m\n\u001b[0;32m    323\u001b[0m                 \u001b[0mtraining_context\u001b[0m\u001b[1;33m=\u001b[0m\u001b[0mtraining_context\u001b[0m\u001b[1;33m,\u001b[0m\u001b[1;33m\u001b[0m\u001b[1;33m\u001b[0m\u001b[0m\n\u001b[1;32m--> 324\u001b[1;33m                 total_epochs=epochs)\n\u001b[0m\u001b[0;32m    325\u001b[0m             \u001b[0mcbks\u001b[0m\u001b[1;33m.\u001b[0m\u001b[0mmake_logs\u001b[0m\u001b[1;33m(\u001b[0m\u001b[0mmodel\u001b[0m\u001b[1;33m,\u001b[0m \u001b[0mepoch_logs\u001b[0m\u001b[1;33m,\u001b[0m \u001b[0mtraining_result\u001b[0m\u001b[1;33m,\u001b[0m \u001b[0mModeKeys\u001b[0m\u001b[1;33m.\u001b[0m\u001b[0mTRAIN\u001b[0m\u001b[1;33m)\u001b[0m\u001b[1;33m\u001b[0m\u001b[1;33m\u001b[0m\u001b[0m\n\u001b[0;32m    326\u001b[0m \u001b[1;33m\u001b[0m\u001b[0m\n",
      "\u001b[1;32mC:\\ProgramData\\Anaconda3\\lib\\site-packages\\tensorflow_core\\python\\keras\\engine\\training_v2.py\u001b[0m in \u001b[0;36mrun_one_epoch\u001b[1;34m(model, iterator, execution_function, dataset_size, batch_size, strategy, steps_per_epoch, num_samples, mode, training_context, total_epochs)\u001b[0m\n\u001b[0;32m    121\u001b[0m         step=step, mode=mode, size=current_batch_size) as batch_logs:\n\u001b[0;32m    122\u001b[0m       \u001b[1;32mtry\u001b[0m\u001b[1;33m:\u001b[0m\u001b[1;33m\u001b[0m\u001b[1;33m\u001b[0m\u001b[0m\n\u001b[1;32m--> 123\u001b[1;33m         \u001b[0mbatch_outs\u001b[0m \u001b[1;33m=\u001b[0m \u001b[0mexecution_function\u001b[0m\u001b[1;33m(\u001b[0m\u001b[0miterator\u001b[0m\u001b[1;33m)\u001b[0m\u001b[1;33m\u001b[0m\u001b[1;33m\u001b[0m\u001b[0m\n\u001b[0m\u001b[0;32m    124\u001b[0m       \u001b[1;32mexcept\u001b[0m \u001b[1;33m(\u001b[0m\u001b[0mStopIteration\u001b[0m\u001b[1;33m,\u001b[0m \u001b[0merrors\u001b[0m\u001b[1;33m.\u001b[0m\u001b[0mOutOfRangeError\u001b[0m\u001b[1;33m)\u001b[0m\u001b[1;33m:\u001b[0m\u001b[1;33m\u001b[0m\u001b[1;33m\u001b[0m\u001b[0m\n\u001b[0;32m    125\u001b[0m         \u001b[1;31m# TODO(kaftan): File bug about tf function and errors.OutOfRangeError?\u001b[0m\u001b[1;33m\u001b[0m\u001b[1;33m\u001b[0m\u001b[1;33m\u001b[0m\u001b[0m\n",
      "\u001b[1;32mC:\\ProgramData\\Anaconda3\\lib\\site-packages\\tensorflow_core\\python\\keras\\engine\\training_v2_utils.py\u001b[0m in \u001b[0;36mexecution_function\u001b[1;34m(input_fn)\u001b[0m\n\u001b[0;32m     84\u001b[0m     \u001b[1;31m# `numpy` translates Tensors to values in Eager mode.\u001b[0m\u001b[1;33m\u001b[0m\u001b[1;33m\u001b[0m\u001b[1;33m\u001b[0m\u001b[0m\n\u001b[0;32m     85\u001b[0m     return nest.map_structure(_non_none_constant_value,\n\u001b[1;32m---> 86\u001b[1;33m                               distributed_function(input_fn))\n\u001b[0m\u001b[0;32m     87\u001b[0m \u001b[1;33m\u001b[0m\u001b[0m\n\u001b[0;32m     88\u001b[0m   \u001b[1;32mreturn\u001b[0m \u001b[0mexecution_function\u001b[0m\u001b[1;33m\u001b[0m\u001b[1;33m\u001b[0m\u001b[0m\n",
      "\u001b[1;32mC:\\ProgramData\\Anaconda3\\lib\\site-packages\\tensorflow_core\\python\\eager\\def_function.py\u001b[0m in \u001b[0;36m__call__\u001b[1;34m(self, *args, **kwds)\u001b[0m\n\u001b[0;32m    455\u001b[0m \u001b[1;33m\u001b[0m\u001b[0m\n\u001b[0;32m    456\u001b[0m     \u001b[0mtracing_count\u001b[0m \u001b[1;33m=\u001b[0m \u001b[0mself\u001b[0m\u001b[1;33m.\u001b[0m\u001b[0m_get_tracing_count\u001b[0m\u001b[1;33m(\u001b[0m\u001b[1;33m)\u001b[0m\u001b[1;33m\u001b[0m\u001b[1;33m\u001b[0m\u001b[0m\n\u001b[1;32m--> 457\u001b[1;33m     \u001b[0mresult\u001b[0m \u001b[1;33m=\u001b[0m \u001b[0mself\u001b[0m\u001b[1;33m.\u001b[0m\u001b[0m_call\u001b[0m\u001b[1;33m(\u001b[0m\u001b[1;33m*\u001b[0m\u001b[0margs\u001b[0m\u001b[1;33m,\u001b[0m \u001b[1;33m**\u001b[0m\u001b[0mkwds\u001b[0m\u001b[1;33m)\u001b[0m\u001b[1;33m\u001b[0m\u001b[1;33m\u001b[0m\u001b[0m\n\u001b[0m\u001b[0;32m    458\u001b[0m     \u001b[1;32mif\u001b[0m \u001b[0mtracing_count\u001b[0m \u001b[1;33m==\u001b[0m \u001b[0mself\u001b[0m\u001b[1;33m.\u001b[0m\u001b[0m_get_tracing_count\u001b[0m\u001b[1;33m(\u001b[0m\u001b[1;33m)\u001b[0m\u001b[1;33m:\u001b[0m\u001b[1;33m\u001b[0m\u001b[1;33m\u001b[0m\u001b[0m\n\u001b[0;32m    459\u001b[0m       \u001b[0mself\u001b[0m\u001b[1;33m.\u001b[0m\u001b[0m_call_counter\u001b[0m\u001b[1;33m.\u001b[0m\u001b[0mcalled_without_tracing\u001b[0m\u001b[1;33m(\u001b[0m\u001b[1;33m)\u001b[0m\u001b[1;33m\u001b[0m\u001b[1;33m\u001b[0m\u001b[0m\n",
      "\u001b[1;32mC:\\ProgramData\\Anaconda3\\lib\\site-packages\\tensorflow_core\\python\\eager\\def_function.py\u001b[0m in \u001b[0;36m_call\u001b[1;34m(self, *args, **kwds)\u001b[0m\n\u001b[0;32m    518\u001b[0m         \u001b[1;31m# Lifting succeeded, so variables are initialized and we can run the\u001b[0m\u001b[1;33m\u001b[0m\u001b[1;33m\u001b[0m\u001b[1;33m\u001b[0m\u001b[0m\n\u001b[0;32m    519\u001b[0m         \u001b[1;31m# stateless function.\u001b[0m\u001b[1;33m\u001b[0m\u001b[1;33m\u001b[0m\u001b[1;33m\u001b[0m\u001b[0m\n\u001b[1;32m--> 520\u001b[1;33m         \u001b[1;32mreturn\u001b[0m \u001b[0mself\u001b[0m\u001b[1;33m.\u001b[0m\u001b[0m_stateless_fn\u001b[0m\u001b[1;33m(\u001b[0m\u001b[1;33m*\u001b[0m\u001b[0margs\u001b[0m\u001b[1;33m,\u001b[0m \u001b[1;33m**\u001b[0m\u001b[0mkwds\u001b[0m\u001b[1;33m)\u001b[0m\u001b[1;33m\u001b[0m\u001b[1;33m\u001b[0m\u001b[0m\n\u001b[0m\u001b[0;32m    521\u001b[0m     \u001b[1;32melse\u001b[0m\u001b[1;33m:\u001b[0m\u001b[1;33m\u001b[0m\u001b[1;33m\u001b[0m\u001b[0m\n\u001b[0;32m    522\u001b[0m       \u001b[0mcanon_args\u001b[0m\u001b[1;33m,\u001b[0m \u001b[0mcanon_kwds\u001b[0m \u001b[1;33m=\u001b[0m\u001b[0;31m \u001b[0m\u001b[0;31m\\\u001b[0m\u001b[1;33m\u001b[0m\u001b[1;33m\u001b[0m\u001b[0m\n",
      "\u001b[1;32mC:\\ProgramData\\Anaconda3\\lib\\site-packages\\tensorflow_core\\python\\eager\\function.py\u001b[0m in \u001b[0;36m__call__\u001b[1;34m(self, *args, **kwargs)\u001b[0m\n\u001b[0;32m   1821\u001b[0m     \u001b[1;34m\"\"\"Calls a graph function specialized to the inputs.\"\"\"\u001b[0m\u001b[1;33m\u001b[0m\u001b[1;33m\u001b[0m\u001b[0m\n\u001b[0;32m   1822\u001b[0m     \u001b[0mgraph_function\u001b[0m\u001b[1;33m,\u001b[0m \u001b[0margs\u001b[0m\u001b[1;33m,\u001b[0m \u001b[0mkwargs\u001b[0m \u001b[1;33m=\u001b[0m \u001b[0mself\u001b[0m\u001b[1;33m.\u001b[0m\u001b[0m_maybe_define_function\u001b[0m\u001b[1;33m(\u001b[0m\u001b[0margs\u001b[0m\u001b[1;33m,\u001b[0m \u001b[0mkwargs\u001b[0m\u001b[1;33m)\u001b[0m\u001b[1;33m\u001b[0m\u001b[1;33m\u001b[0m\u001b[0m\n\u001b[1;32m-> 1823\u001b[1;33m     \u001b[1;32mreturn\u001b[0m \u001b[0mgraph_function\u001b[0m\u001b[1;33m.\u001b[0m\u001b[0m_filtered_call\u001b[0m\u001b[1;33m(\u001b[0m\u001b[0margs\u001b[0m\u001b[1;33m,\u001b[0m \u001b[0mkwargs\u001b[0m\u001b[1;33m)\u001b[0m  \u001b[1;31m# pylint: disable=protected-access\u001b[0m\u001b[1;33m\u001b[0m\u001b[1;33m\u001b[0m\u001b[0m\n\u001b[0m\u001b[0;32m   1824\u001b[0m \u001b[1;33m\u001b[0m\u001b[0m\n\u001b[0;32m   1825\u001b[0m   \u001b[1;33m@\u001b[0m\u001b[0mproperty\u001b[0m\u001b[1;33m\u001b[0m\u001b[1;33m\u001b[0m\u001b[0m\n",
      "\u001b[1;32mC:\\ProgramData\\Anaconda3\\lib\\site-packages\\tensorflow_core\\python\\eager\\function.py\u001b[0m in \u001b[0;36m_filtered_call\u001b[1;34m(self, args, kwargs)\u001b[0m\n\u001b[0;32m   1139\u001b[0m          if isinstance(t, (ops.Tensor,\n\u001b[0;32m   1140\u001b[0m                            resource_variable_ops.BaseResourceVariable))),\n\u001b[1;32m-> 1141\u001b[1;33m         self.captured_inputs)\n\u001b[0m\u001b[0;32m   1142\u001b[0m \u001b[1;33m\u001b[0m\u001b[0m\n\u001b[0;32m   1143\u001b[0m   \u001b[1;32mdef\u001b[0m \u001b[0m_call_flat\u001b[0m\u001b[1;33m(\u001b[0m\u001b[0mself\u001b[0m\u001b[1;33m,\u001b[0m \u001b[0margs\u001b[0m\u001b[1;33m,\u001b[0m \u001b[0mcaptured_inputs\u001b[0m\u001b[1;33m,\u001b[0m \u001b[0mcancellation_manager\u001b[0m\u001b[1;33m=\u001b[0m\u001b[1;32mNone\u001b[0m\u001b[1;33m)\u001b[0m\u001b[1;33m:\u001b[0m\u001b[1;33m\u001b[0m\u001b[1;33m\u001b[0m\u001b[0m\n",
      "\u001b[1;32mC:\\ProgramData\\Anaconda3\\lib\\site-packages\\tensorflow_core\\python\\eager\\function.py\u001b[0m in \u001b[0;36m_call_flat\u001b[1;34m(self, args, captured_inputs, cancellation_manager)\u001b[0m\n\u001b[0;32m   1222\u001b[0m     \u001b[1;32mif\u001b[0m \u001b[0mexecuting_eagerly\u001b[0m\u001b[1;33m:\u001b[0m\u001b[1;33m\u001b[0m\u001b[1;33m\u001b[0m\u001b[0m\n\u001b[0;32m   1223\u001b[0m       flat_outputs = forward_function.call(\n\u001b[1;32m-> 1224\u001b[1;33m           ctx, args, cancellation_manager=cancellation_manager)\n\u001b[0m\u001b[0;32m   1225\u001b[0m     \u001b[1;32melse\u001b[0m\u001b[1;33m:\u001b[0m\u001b[1;33m\u001b[0m\u001b[1;33m\u001b[0m\u001b[0m\n\u001b[0;32m   1226\u001b[0m       \u001b[0mgradient_name\u001b[0m \u001b[1;33m=\u001b[0m \u001b[0mself\u001b[0m\u001b[1;33m.\u001b[0m\u001b[0m_delayed_rewrite_functions\u001b[0m\u001b[1;33m.\u001b[0m\u001b[0mregister\u001b[0m\u001b[1;33m(\u001b[0m\u001b[1;33m)\u001b[0m\u001b[1;33m\u001b[0m\u001b[1;33m\u001b[0m\u001b[0m\n",
      "\u001b[1;32mC:\\ProgramData\\Anaconda3\\lib\\site-packages\\tensorflow_core\\python\\eager\\function.py\u001b[0m in \u001b[0;36mcall\u001b[1;34m(self, ctx, args, cancellation_manager)\u001b[0m\n\u001b[0;32m    509\u001b[0m               \u001b[0minputs\u001b[0m\u001b[1;33m=\u001b[0m\u001b[0margs\u001b[0m\u001b[1;33m,\u001b[0m\u001b[1;33m\u001b[0m\u001b[1;33m\u001b[0m\u001b[0m\n\u001b[0;32m    510\u001b[0m               \u001b[0mattrs\u001b[0m\u001b[1;33m=\u001b[0m\u001b[1;33m(\u001b[0m\u001b[1;34m\"executor_type\"\u001b[0m\u001b[1;33m,\u001b[0m \u001b[0mexecutor_type\u001b[0m\u001b[1;33m,\u001b[0m \u001b[1;34m\"config_proto\"\u001b[0m\u001b[1;33m,\u001b[0m \u001b[0mconfig\u001b[0m\u001b[1;33m)\u001b[0m\u001b[1;33m,\u001b[0m\u001b[1;33m\u001b[0m\u001b[1;33m\u001b[0m\u001b[0m\n\u001b[1;32m--> 511\u001b[1;33m               ctx=ctx)\n\u001b[0m\u001b[0;32m    512\u001b[0m         \u001b[1;32melse\u001b[0m\u001b[1;33m:\u001b[0m\u001b[1;33m\u001b[0m\u001b[1;33m\u001b[0m\u001b[0m\n\u001b[0;32m    513\u001b[0m           outputs = execute.execute_with_cancellation(\n",
      "\u001b[1;32mC:\\ProgramData\\Anaconda3\\lib\\site-packages\\tensorflow_core\\python\\eager\\execute.py\u001b[0m in \u001b[0;36mquick_execute\u001b[1;34m(op_name, num_outputs, inputs, attrs, ctx, name)\u001b[0m\n\u001b[0;32m     65\u001b[0m     \u001b[1;32melse\u001b[0m\u001b[1;33m:\u001b[0m\u001b[1;33m\u001b[0m\u001b[1;33m\u001b[0m\u001b[0m\n\u001b[0;32m     66\u001b[0m       \u001b[0mmessage\u001b[0m \u001b[1;33m=\u001b[0m \u001b[0me\u001b[0m\u001b[1;33m.\u001b[0m\u001b[0mmessage\u001b[0m\u001b[1;33m\u001b[0m\u001b[1;33m\u001b[0m\u001b[0m\n\u001b[1;32m---> 67\u001b[1;33m     \u001b[0msix\u001b[0m\u001b[1;33m.\u001b[0m\u001b[0mraise_from\u001b[0m\u001b[1;33m(\u001b[0m\u001b[0mcore\u001b[0m\u001b[1;33m.\u001b[0m\u001b[0m_status_to_exception\u001b[0m\u001b[1;33m(\u001b[0m\u001b[0me\u001b[0m\u001b[1;33m.\u001b[0m\u001b[0mcode\u001b[0m\u001b[1;33m,\u001b[0m \u001b[0mmessage\u001b[0m\u001b[1;33m)\u001b[0m\u001b[1;33m,\u001b[0m \u001b[1;32mNone\u001b[0m\u001b[1;33m)\u001b[0m\u001b[1;33m\u001b[0m\u001b[1;33m\u001b[0m\u001b[0m\n\u001b[0m\u001b[0;32m     68\u001b[0m   \u001b[1;32mexcept\u001b[0m \u001b[0mTypeError\u001b[0m \u001b[1;32mas\u001b[0m \u001b[0me\u001b[0m\u001b[1;33m:\u001b[0m\u001b[1;33m\u001b[0m\u001b[1;33m\u001b[0m\u001b[0m\n\u001b[0;32m     69\u001b[0m     keras_symbolic_tensors = [\n",
      "\u001b[1;32mC:\\ProgramData\\Anaconda3\\lib\\site-packages\\six.py\u001b[0m in \u001b[0;36mraise_from\u001b[1;34m(value, from_value)\u001b[0m\n",
      "\u001b[1;31mInvalidArgumentError\u001b[0m:  indices[14,127504] = -1 is not in [0, 86775)\n\t [[node sequential/embedding_1/embedding_lookup (defined at C:\\ProgramData\\Anaconda3\\lib\\site-packages\\tensorflow_core\\python\\framework\\ops.py:1751) ]] [Op:__inference_distributed_function_2468]\n\nFunction call stack:\ndistributed_function\n"
     ]
    }
   ],
   "source": [
    "model.add(e)\n",
    "model.add(Flatten())\n",
    "model.add(Dense(units=6, activation='relu'))\n",
    "model.add(Dense(64, 'relu'))\n",
    "model.add(Dense(128, 'relu'))\n",
    "model.add(Dense(6, activation='softmax'))\n",
    "model.compile(optimizer='adam', loss='sparse_categorical_crossentropy', metrics=['accuracy'])\n",
    "history = model.fit(X_train, y_train, epochs=10, batch_size = 64, validation_split = 0.2)"
   ]
  },
  {
   "cell_type": "code",
   "execution_count": 40,
   "metadata": {},
   "outputs": [
    {
     "name": "stdout",
     "output_type": "stream",
     "text": [
      "Model: \"sequential\"\n",
      "_________________________________________________________________\n",
      "Layer (type)                 Output Shape              Param #   \n",
      "=================================================================\n",
      "embedding (Embedding)        multiple                  8677500   \n",
      "_________________________________________________________________\n",
      "flatten (Flatten)            (None, 130800)            0         \n",
      "_________________________________________________________________\n",
      "flatten_1 (Flatten)          (None, 13080000)          0         \n",
      "_________________________________________________________________\n",
      "dense (Dense)                (None, 6)                 78480006  \n",
      "_________________________________________________________________\n",
      "flatten_2 (Flatten)          (None, 600)               0         \n",
      "_________________________________________________________________\n",
      "dense_1 (Dense)              (None, 32)                19232     \n",
      "_________________________________________________________________\n",
      "dense_2 (Dense)              (None, 64)                2112      \n",
      "_________________________________________________________________\n",
      "dense_3 (Dense)              (None, 128)               8320      \n",
      "_________________________________________________________________\n",
      "dense_4 (Dense)              (None, 6)                 774       \n",
      "_________________________________________________________________\n",
      "flatten_3 (Flatten)          (None, 600)               0         \n",
      "_________________________________________________________________\n",
      "dense_5 (Dense)              (None, 32)                19232     \n",
      "_________________________________________________________________\n",
      "dense_6 (Dense)              (None, 64)                2112      \n",
      "_________________________________________________________________\n",
      "dense_7 (Dense)              (None, 128)               8320      \n",
      "_________________________________________________________________\n",
      "dense_8 (Dense)              (None, 6)                 774       \n",
      "=================================================================\n",
      "Total params: 87,218,382\n",
      "Trainable params: 78,540,882\n",
      "Non-trainable params: 8,677,500\n",
      "_________________________________________________________________\n"
     ]
    }
   ],
   "source": [
    "model.summary()"
   ]
  },
  {
   "cell_type": "code",
   "execution_count": null,
   "metadata": {},
   "outputs": [],
   "source": []
  }
 ],
 "metadata": {
  "kernelspec": {
   "display_name": "Python 3",
   "language": "python",
   "name": "python3"
  },
  "language_info": {
   "codemirror_mode": {
    "name": "ipython",
    "version": 3
   },
   "file_extension": ".py",
   "mimetype": "text/x-python",
   "name": "python",
   "nbconvert_exporter": "python",
   "pygments_lexer": "ipython3",
   "version": "3.7.4"
  }
 },
 "nbformat": 4,
 "nbformat_minor": 4
}
