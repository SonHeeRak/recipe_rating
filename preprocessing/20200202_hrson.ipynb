{
  "nbformat": 4,
  "nbformat_minor": 0,
  "metadata": {
    "kernelspec": {
      "name": "python3",
      "display_name": "Python 3"
    },
    "language_info": {
      "codemirror_mode": {
        "name": "ipython",
        "version": 3
      },
      "file_extension": ".py",
      "mimetype": "text/x-python",
      "name": "python",
      "nbconvert_exporter": "python",
      "pygments_lexer": "ipython3",
      "version": "3.6.8"
    },
    "colab": {
      "name": "20200201_hrson.ipynb",
      "provenance": [],
      "machine_shape": "hm",
      "include_colab_link": true
    },
    "accelerator": "GPU"
  },
  "cells": [
    {
      "cell_type": "markdown",
      "metadata": {
        "id": "view-in-github",
        "colab_type": "text"
      },
      "source": [
        "<a href=\"https://colab.research.google.com/github/sooyeon-go/recipe_rating/blob/master/preprocessing/20200202_hrson.ipynb\" target=\"_parent\"><img src=\"https://colab.research.google.com/assets/colab-badge.svg\" alt=\"Open In Colab\"/></a>"
      ]
    },
    {
      "cell_type": "code",
      "metadata": {
        "id": "lYnWOiAIu7IR",
        "colab_type": "code",
        "colab": {}
      },
      "source": [
        "!pip install tensorflow-gpu==2.0.0"
      ],
      "execution_count": 0,
      "outputs": []
    },
    {
      "cell_type": "code",
      "metadata": {
        "id": "PQtwRwU-vXh1",
        "colab_type": "code",
        "outputId": "13731534-2aee-42e0-dcc8-59cdb19954b5",
        "colab": {
          "base_uri": "https://localhost:8080/",
          "height": 35
        }
      },
      "source": [
        "import tensorflow\n",
        "tensorflow.__version__"
      ],
      "execution_count": 22,
      "outputs": [
        {
          "output_type": "execute_result",
          "data": {
            "text/plain": [
              "'2.0.0'"
            ]
          },
          "metadata": {
            "tags": []
          },
          "execution_count": 22
        }
      ]
    },
    {
      "cell_type": "code",
      "metadata": {
        "id": "xXLeU3Ptm9cg",
        "colab_type": "code",
        "outputId": "82d8ada7-f5b6-4738-d7ee-de25046c1562",
        "colab": {
          "base_uri": "https://localhost:8080/",
          "height": 35
        }
      },
      "source": [
        "import pandas as pd\n",
        "import random\n",
        "import re\n",
        "from nltk.tokenize import word_tokenize, sent_tokenize\n",
        "import matplotlib.pyplot as plt\n",
        "%matplotlib inline\n",
        "from tensorflow.keras.preprocessing.text import Tokenizer\n",
        "import numpy as np\n",
        "from tensorflow.keras.preprocessing.sequence import pad_sequences\n",
        "from sklearn.model_selection import train_test_split\n",
        "from keras.utils import to_categorical"
      ],
      "execution_count": 2,
      "outputs": [
        {
          "output_type": "stream",
          "text": [
            "Using TensorFlow backend.\n"
          ],
          "name": "stderr"
        }
      ]
    },
    {
      "cell_type": "code",
      "metadata": {
        "id": "7d5o9B8tpHRa",
        "colab_type": "code",
        "outputId": "7379fd90-49a3-49a2-9f60-221129c2bdff",
        "colab": {
          "base_uri": "https://localhost:8080/",
          "height": 127
        }
      },
      "source": [
        "from google.colab import drive\n",
        "drive.mount('/content/drive')"
      ],
      "execution_count": 3,
      "outputs": [
        {
          "output_type": "stream",
          "text": [
            "Go to this URL in a browser: https://accounts.google.com/o/oauth2/auth?client_id=947318989803-6bn6qk8qdgf4n4g3pfee6491hc0brc4i.apps.googleusercontent.com&redirect_uri=urn%3aietf%3awg%3aoauth%3a2.0%3aoob&response_type=code&scope=email%20https%3a%2f%2fwww.googleapis.com%2fauth%2fdocs.test%20https%3a%2f%2fwww.googleapis.com%2fauth%2fdrive%20https%3a%2f%2fwww.googleapis.com%2fauth%2fdrive.photos.readonly%20https%3a%2f%2fwww.googleapis.com%2fauth%2fpeopleapi.readonly\n",
            "\n",
            "Enter your authorization code:\n",
            "··········\n",
            "Mounted at /content/drive\n"
          ],
          "name": "stdout"
        }
      ]
    },
    {
      "cell_type": "markdown",
      "metadata": {
        "id": "QX5Wgmahm9co",
        "colab_type": "text"
      },
      "source": [
        "# review_rating data EDA"
      ]
    },
    {
      "cell_type": "code",
      "metadata": {
        "id": "pA65H3idm9cp",
        "colab_type": "code",
        "colab": {}
      },
      "source": [
        "review_rating = pd.read_csv('/content/drive/My Drive/review_rating.csv')"
      ],
      "execution_count": 0,
      "outputs": []
    },
    {
      "cell_type": "code",
      "metadata": {
        "id": "J_sGqERqm9ct",
        "colab_type": "code",
        "outputId": "d367bac0-ab98-43e5-d421-ce0c8267c86a",
        "colab": {
          "base_uri": "https://localhost:8080/",
          "height": 204
        }
      },
      "source": [
        "review_rating = review_rating.astype({'rating': 'category'})\n",
        "review_rating.head()"
      ],
      "execution_count": 23,
      "outputs": [
        {
          "output_type": "execute_result",
          "data": {
            "text/html": [
              "<div>\n",
              "<style scoped>\n",
              "    .dataframe tbody tr th:only-of-type {\n",
              "        vertical-align: middle;\n",
              "    }\n",
              "\n",
              "    .dataframe tbody tr th {\n",
              "        vertical-align: top;\n",
              "    }\n",
              "\n",
              "    .dataframe thead th {\n",
              "        text-align: right;\n",
              "    }\n",
              "</style>\n",
              "<table border=\"1\" class=\"dataframe\">\n",
              "  <thead>\n",
              "    <tr style=\"text-align: right;\">\n",
              "      <th></th>\n",
              "      <th>review</th>\n",
              "      <th>rating</th>\n",
              "    </tr>\n",
              "  </thead>\n",
              "  <tbody>\n",
              "    <tr>\n",
              "      <th>0</th>\n",
              "      <td>Great with a salad Cooked on top of stove for ...</td>\n",
              "      <td>4</td>\n",
              "    </tr>\n",
              "    <tr>\n",
              "      <th>1</th>\n",
              "      <td>This worked very well and is EASY  I used not ...</td>\n",
              "      <td>4</td>\n",
              "    </tr>\n",
              "    <tr>\n",
              "      <th>2</th>\n",
              "      <td>very very sweet after i waited the  days i bou...</td>\n",
              "      <td>4</td>\n",
              "    </tr>\n",
              "    <tr>\n",
              "      <th>3</th>\n",
              "      <td>This recipe was OVERLY too sweet  I would star...</td>\n",
              "      <td>2</td>\n",
              "    </tr>\n",
              "    <tr>\n",
              "      <th>4</th>\n",
              "      <td>Very good</td>\n",
              "      <td>4</td>\n",
              "    </tr>\n",
              "  </tbody>\n",
              "</table>\n",
              "</div>"
            ],
            "text/plain": [
              "                                              review rating\n",
              "0  Great with a salad Cooked on top of stove for ...      4\n",
              "1  This worked very well and is EASY  I used not ...      4\n",
              "2  very very sweet after i waited the  days i bou...      4\n",
              "3  This recipe was OVERLY too sweet  I would star...      2\n",
              "4                                          Very good      4"
            ]
          },
          "metadata": {
            "tags": []
          },
          "execution_count": 23
        }
      ]
    },
    {
      "cell_type": "code",
      "metadata": {
        "id": "MLTGPNqLm9cx",
        "colab_type": "code",
        "outputId": "85882b66-734e-4060-a4d5-1871e2ad9cab",
        "colab": {
          "base_uri": "https://localhost:8080/",
          "height": 280
        }
      },
      "source": [
        "review_rating['rating'].value_counts().plot(kind='bar')"
      ],
      "execution_count": 24,
      "outputs": [
        {
          "output_type": "execute_result",
          "data": {
            "text/plain": [
              "<matplotlib.axes._subplots.AxesSubplot at 0x7fedd97825c0>"
            ]
          },
          "metadata": {
            "tags": []
          },
          "execution_count": 24
        },
        {
          "output_type": "display_data",
          "data": {
            "image/png": "[encoded data removed]",
            "text/plain": [
              "<Figure size 432x288 with 1 Axes>"
            ]
          },
          "metadata": {
            "tags": []
          }
        }
      ]
    },
    {
      "cell_type": "code",
      "metadata": {
        "id": "86enQghpm9c1",
        "colab_type": "code",
        "outputId": "a64c7bed-3190-4e81-a39a-9e9b9dfe95ef",
        "colab": {
          "base_uri": "https://localhost:8080/",
          "height": 125
        }
      },
      "source": [
        "print(review_rating.groupby('rating').size().reset_index(name='count'))"
      ],
      "execution_count": 7,
      "outputs": [
        {
          "output_type": "stream",
          "text": [
            "  rating   count\n",
            "0      1   12815\n",
            "1      2   14122\n",
            "2      3   40852\n",
            "3      4  187333\n",
            "4      5  187333\n"
          ],
          "name": "stdout"
        }
      ]
    },
    {
      "cell_type": "code",
      "metadata": {
        "id": "ZZNW4RfYm9c4",
        "colab_type": "code",
        "outputId": "90720155-85e6-4ce7-a5b1-d3e471851c85",
        "colab": {
          "base_uri": "https://localhost:8080/",
          "height": 35
        }
      },
      "source": [
        "review_rating.isnull().values.any()"
      ],
      "execution_count": 8,
      "outputs": [
        {
          "output_type": "execute_result",
          "data": {
            "text/plain": [
              "False"
            ]
          },
          "metadata": {
            "tags": []
          },
          "execution_count": 8
        }
      ]
    },
    {
      "cell_type": "code",
      "metadata": {
        "id": "IMq6wPW_m9c9",
        "colab_type": "code",
        "outputId": "d9d4da25-aa14-45e3-fe89-e71d7026e8f2",
        "colab": {
          "base_uri": "https://localhost:8080/",
          "height": 35
        }
      },
      "source": [
        "review_rating.drop_duplicates(inplace=True)\n",
        "review_rating.duplicated().sum()"
      ],
      "execution_count": 9,
      "outputs": [
        {
          "output_type": "execute_result",
          "data": {
            "text/plain": [
              "0"
            ]
          },
          "metadata": {
            "tags": []
          },
          "execution_count": 9
        }
      ]
    },
    {
      "cell_type": "code",
      "metadata": {
        "id": "1WqxwE2Zm9dB",
        "colab_type": "code",
        "outputId": "e49b293f-2099-49bc-cee5-2c9f6646185c",
        "colab": {
          "base_uri": "https://localhost:8080/",
          "height": 125
        }
      },
      "source": [
        "print(review_rating.groupby('rating').size().reset_index(name='count'))"
      ],
      "execution_count": 10,
      "outputs": [
        {
          "output_type": "stream",
          "text": [
            "  rating   count\n",
            "0      1   12784\n",
            "1      2   14113\n",
            "2      3   40786\n",
            "3      4  186723\n",
            "4      5  186512\n"
          ],
          "name": "stdout"
        }
      ]
    },
    {
      "cell_type": "code",
      "metadata": {
        "id": "IfGxB6Gfm9dE",
        "colab_type": "code",
        "outputId": "063c0f8f-24e7-4e9f-9e0f-a0e99d838114",
        "colab": {
          "base_uri": "https://localhost:8080/",
          "height": 35
        }
      },
      "source": [
        "len(review_rating)"
      ],
      "execution_count": 11,
      "outputs": [
        {
          "output_type": "execute_result",
          "data": {
            "text/plain": [
              "440918"
            ]
          },
          "metadata": {
            "tags": []
          },
          "execution_count": 11
        }
      ]
    },
    {
      "cell_type": "code",
      "metadata": {
        "id": "l1v8sRrKm9dJ",
        "colab_type": "code",
        "outputId": "e94ed5f9-6794-4302-ef74-e592769d7d48",
        "colab": {
          "base_uri": "https://localhost:8080/",
          "height": 204
        }
      },
      "source": [
        "review_rating['review'] = review_rating['review'].str.replace(\"[^a-zA-Z ]\", '')\n",
        "review_rating.head()"
      ],
      "execution_count": 12,
      "outputs": [
        {
          "output_type": "execute_result",
          "data": {
            "text/html": [
              "<div>\n",
              "<style scoped>\n",
              "    .dataframe tbody tr th:only-of-type {\n",
              "        vertical-align: middle;\n",
              "    }\n",
              "\n",
              "    .dataframe tbody tr th {\n",
              "        vertical-align: top;\n",
              "    }\n",
              "\n",
              "    .dataframe thead th {\n",
              "        text-align: right;\n",
              "    }\n",
              "</style>\n",
              "<table border=\"1\" class=\"dataframe\">\n",
              "  <thead>\n",
              "    <tr style=\"text-align: right;\">\n",
              "      <th></th>\n",
              "      <th>review</th>\n",
              "      <th>rating</th>\n",
              "    </tr>\n",
              "  </thead>\n",
              "  <tbody>\n",
              "    <tr>\n",
              "      <th>0</th>\n",
              "      <td>Great with a salad Cooked on top of stove for ...</td>\n",
              "      <td>4</td>\n",
              "    </tr>\n",
              "    <tr>\n",
              "      <th>1</th>\n",
              "      <td>This worked very well and is EASY  I used not ...</td>\n",
              "      <td>4</td>\n",
              "    </tr>\n",
              "    <tr>\n",
              "      <th>2</th>\n",
              "      <td>very very sweet after i waited the  days i bou...</td>\n",
              "      <td>4</td>\n",
              "    </tr>\n",
              "    <tr>\n",
              "      <th>3</th>\n",
              "      <td>This recipe was OVERLY too sweet  I would star...</td>\n",
              "      <td>2</td>\n",
              "    </tr>\n",
              "    <tr>\n",
              "      <th>4</th>\n",
              "      <td>Very good</td>\n",
              "      <td>4</td>\n",
              "    </tr>\n",
              "  </tbody>\n",
              "</table>\n",
              "</div>"
            ],
            "text/plain": [
              "                                              review rating\n",
              "0  Great with a salad Cooked on top of stove for ...      4\n",
              "1  This worked very well and is EASY  I used not ...      4\n",
              "2  very very sweet after i waited the  days i bou...      4\n",
              "3  This recipe was OVERLY too sweet  I would star...      2\n",
              "4                                          Very good      4"
            ]
          },
          "metadata": {
            "tags": []
          },
          "execution_count": 12
        }
      ]
    },
    {
      "cell_type": "code",
      "metadata": {
        "id": "X779x20IqL1H",
        "colab_type": "code",
        "outputId": "f9ab98bf-8d47-4246-ca9d-5124a2a6ab72",
        "colab": {
          "base_uri": "https://localhost:8080/",
          "height": 107
        }
      },
      "source": [
        "import nltk\n",
        "nltk.download('stopwords')\n",
        "nltk.download('punkt')"
      ],
      "execution_count": 13,
      "outputs": [
        {
          "output_type": "stream",
          "text": [
            "[nltk_data] Downloading package stopwords to /root/nltk_data...\n",
            "[nltk_data]   Unzipping corpora/stopwords.zip.\n",
            "[nltk_data] Downloading package punkt to /root/nltk_data...\n",
            "[nltk_data]   Unzipping tokenizers/punkt.zip.\n"
          ],
          "name": "stdout"
        },
        {
          "output_type": "execute_result",
          "data": {
            "text/plain": [
              "True"
            ]
          },
          "metadata": {
            "tags": []
          },
          "execution_count": 13
        }
      ]
    },
    {
      "cell_type": "code",
      "metadata": {
        "id": "SO5O048Nm9dN",
        "colab_type": "code",
        "outputId": "3f51a517-f8c9-469e-e66c-4be76cf623c6",
        "colab": {
          "base_uri": "https://localhost:8080/",
          "height": 35
        }
      },
      "source": [
        "from nltk.corpus import stopwords  \n",
        "stopwords.words('english')[:10]"
      ],
      "execution_count": 14,
      "outputs": [
        {
          "output_type": "execute_result",
          "data": {
            "text/plain": [
              "['i', 'me', 'my', 'myself', 'we', 'our', 'ours', 'ourselves', 'you', \"you're\"]"
            ]
          },
          "metadata": {
            "tags": []
          },
          "execution_count": 14
        }
      ]
    },
    {
      "cell_type": "code",
      "metadata": {
        "id": "8aF77siim9dR",
        "colab_type": "code",
        "colab": {}
      },
      "source": [
        "from nltk.corpus import stopwords \n",
        "from nltk.tokenize import word_tokenize \n",
        "\n",
        "sentences = []\n",
        "stop_words = set(stopwords.words('english')) \n",
        "\n",
        "for i in review_rating['review']:\n",
        "    sentence = word_tokenize(i)\n",
        "    result = []\n",
        "    \n",
        "    for word in sentence:\n",
        "        word = word.lower() # 모든 단어를 소문자화하여 단어의 개수를 줄입니다.\n",
        "        if word not in stop_words:\n",
        "            if len(word) > 2:\n",
        "                result.append(word)\n",
        "    sentences.append(result)"
      ],
      "execution_count": 0,
      "outputs": []
    },
    {
      "cell_type": "code",
      "metadata": {
        "id": "EaW5uCT6m9dT",
        "colab_type": "code",
        "outputId": "a129d059-c4e3-4a07-a967-501f45dd872d",
        "colab": {
          "base_uri": "https://localhost:8080/",
          "height": 55
        }
      },
      "source": [
        "print(sentences[:5])"
      ],
      "execution_count": 16,
      "outputs": [
        {
          "output_type": "stream",
          "text": [
            "[['great', 'salad', 'cooked', 'top', 'stove', 'minutesadded', 'shake', 'cayenne', 'pinch', 'salt', 'used', 'low', 'fat', 'sour', 'cream', 'thanks'], ['worked', 'well', 'easy', 'used', 'quite', 'whole', 'package', 'white', 'chips', 'great'], ['sweet', 'waited', 'days', 'bought', 'pints', 'raspberries', 'added', 'mix', 'going', 'add', 'cake', 'filling', 'today', 'take', 'photo'], ['recipe', 'overly', 'sweet', 'would', 'start', 'cup', 'sugar', 'jsut', 'add', 'cups', 'way', 'much', 'back', 'grocery', 'store', 'buy', 'raspberries', 'made', 'much', 'mix', 'overall', 'would', 'long', 'narrow', 'box', 'raspberries', 'perfect', 'fit', 'recipe', 'plus', 'little', 'extra', 'impressed', 'recipe', 'exceptionally', 'oversweet', 'make', 'simple', 'recipe', 'make', 'sure', 'add', 'less', 'sugar'], ['good']]\n"
          ],
          "name": "stdout"
        }
      ]
    },
    {
      "cell_type": "code",
      "metadata": {
        "id": "Dkj2yW3am9dW",
        "colab_type": "code",
        "colab": {}
      },
      "source": [
        "max_words = 35000\n",
        "tokenizer = Tokenizer(num_words=max_words) # 상위 35,000개의 단어만 보존\n",
        "tokenizer.fit_on_texts(sentences)\n",
        "review_data = tokenizer.texts_to_sequences(sentences)"
      ],
      "execution_count": 0,
      "outputs": []
    },
    {
      "cell_type": "code",
      "metadata": {
        "id": "CEKlsHwum9dZ",
        "colab_type": "code",
        "outputId": "8c50a224-3818-4d62-c1b5-f6ccdb7ea390",
        "colab": {
          "base_uri": "https://localhost:8080/",
          "height": 55
        }
      },
      "source": [
        "print(review_data[:5])"
      ],
      "execution_count": 18,
      "outputs": [
        {
          "output_type": "stream",
          "text": [
            "[[7, 97, 65, 85, 721, 1699, 446, 790, 71, 3, 216, 187, 209, 43, 6], [188, 33, 12, 3, 112, 96, 907, 169, 240, 7], [50, 2241, 577, 515, 3210, 1401, 10, 109, 173, 23, 75, 179, 359, 277, 629], [1, 1043, 50, 13, 658, 55, 36, 10209, 23, 210, 47, 22, 171, 1164, 432, 622, 1401, 2, 22, 109, 402, 13, 250, 8125, 745, 1401, 77, 832, 1, 537, 15, 104, 915, 1, 3917, 12010, 5, 107, 1, 5, 78, 23, 140, 36], [4]]\n"
          ],
          "name": "stdout"
        }
      ]
    },
    {
      "cell_type": "code",
      "metadata": {
        "id": "VBHutU4Nm9de",
        "colab_type": "code",
        "outputId": "1a094fb3-11e0-428a-8ab7-4f775ce80d85",
        "colab": {
          "base_uri": "https://localhost:8080/",
          "height": 315
        }
      },
      "source": [
        "print('리뷰의 최대 길이 :',max(len(l) for l in review_data))\n",
        "print('리뷰의 평균 길이 :',sum(map(len, review_data))/len(review_data))\n",
        "plt.hist([len(s) for s in review_data], bins=200)\n",
        "plt.xlabel('length of Data')\n",
        "plt.ylabel('number of Data')\n",
        "plt.show()"
      ],
      "execution_count": 19,
      "outputs": [
        {
          "output_type": "stream",
          "text": [
            "리뷰의 최대 길이 : 619\n",
            "리뷰의 평균 길이 : 26.45106573104296\n"
          ],
          "name": "stdout"
        },
        {
          "output_type": "display_data",
          "data": {
            "image/png": "[encoded data removed]",
            "text/plain": [
              "<Figure size 432x288 with 1 Axes>"
            ]
          },
          "metadata": {
            "tags": []
          }
        }
      ]
    },
    {
      "cell_type": "code",
      "metadata": {
        "id": "TT6IBoYum9dh",
        "colab_type": "code",
        "colab": {}
      },
      "source": [
        "max_len = 60 # 전체 데이터의 길이는 60으로 맞춘다.\n",
        "review_data = pad_sequences(review_data, maxlen=max_len)"
      ],
      "execution_count": 0,
      "outputs": []
    },
    {
      "cell_type": "code",
      "metadata": {
        "id": "h1ToVHYjm9dk",
        "colab_type": "code",
        "colab": {}
      },
      "source": [
        "rating_data = np.array(review_rating['rating'])"
      ],
      "execution_count": 0,
      "outputs": []
    },
    {
      "cell_type": "markdown",
      "metadata": {
        "id": "nDl_P36Tm9dm",
        "colab_type": "text"
      },
      "source": [
        "# Fasttext"
      ]
    },
    {
      "cell_type": "code",
      "metadata": {
        "colab_type": "code",
        "outputId": "d7216af8-9579-4b56-8e45-196174e4437c",
        "id": "CiwAuq7DuivU",
        "colab": {
          "base_uri": "https://localhost:8080/",
          "height": 73
        }
      },
      "source": [
        "from __future__ import print_function\n",
        "from gensim.models import KeyedVectors\n",
        "\n",
        "# Creating the model\n",
        "eng_model = KeyedVectors.load_word2vec_format('/content/drive/My Drive/wiki.en.vec')"
      ],
      "execution_count": 26,
      "outputs": [
        {
          "output_type": "stream",
          "text": [
            "/usr/local/lib/python3.6/dist-packages/smart_open/smart_open_lib.py:402: UserWarning: This function is deprecated, use smart_open.open instead. See the migration notes for details: https://github.com/RaRe-Technologies/smart_open/blob/master/README.rst#migrating-to-the-new-open-function\n",
            "  'See the migration notes for details: %s' % _MIGRATION_NOTES_URL\n"
          ],
          "name": "stderr"
        }
      ]
    },
    {
      "cell_type": "code",
      "metadata": {
        "id": "QQcvqZewm9dr",
        "colab_type": "code",
        "colab": {}
      },
      "source": [
        "# Getting the tokens \n",
        "words = []\n",
        "for word in eng_model.vocab:\n",
        "    words.append(word)"
      ],
      "execution_count": 0,
      "outputs": []
    },
    {
      "cell_type": "code",
      "metadata": {
        "id": "PR1sCIgKm9dv",
        "colab_type": "code",
        "outputId": "d005f27f-744a-47db-d931-7cf7606ee850",
        "colab": {
          "base_uri": "https://localhost:8080/",
          "height": 35
        }
      },
      "source": [
        "# Printing out number of tokens available\n",
        "print(\"Number of Tokens: {}\".format(len(words)))"
      ],
      "execution_count": 28,
      "outputs": [
        {
          "output_type": "stream",
          "text": [
            "Number of Tokens: 2519370\n"
          ],
          "name": "stdout"
        }
      ]
    },
    {
      "cell_type": "code",
      "metadata": {
        "id": "V6Q9vzhTm9d0",
        "colab_type": "code",
        "outputId": "07e2e6a7-259e-42af-fa2d-1c47d6d3a19a",
        "colab": {
          "base_uri": "https://localhost:8080/",
          "height": 35
        }
      },
      "source": [
        "# Printing out the dimension of a word vector \n",
        "print(\"Dimension of a word vector: {}\".format(\n",
        "    len(eng_model[words[0]])\n",
        "))"
      ],
      "execution_count": 29,
      "outputs": [
        {
          "output_type": "stream",
          "text": [
            "Dimension of a word vector: 300\n"
          ],
          "name": "stdout"
        }
      ]
    },
    {
      "cell_type": "code",
      "metadata": {
        "scrolled": true,
        "id": "s6Lpwy_am9d3",
        "colab_type": "code",
        "outputId": "c113f2ce-50dd-47e2-ce92-2d681eac174d",
        "colab": {
          "base_uri": "https://localhost:8080/",
          "height": 917
        }
      },
      "source": [
        "# Print out the vector of a word \n",
        "print(\"Vector components of a word: {}\".format(\n",
        "    eng_model[words[0]]\n",
        "))"
      ],
      "execution_count": 30,
      "outputs": [
        {
          "output_type": "stream",
          "text": [
            "Vector components of a word: [-2.3167e-02 -4.2483e-03 -1.0572e-01  4.2783e-02 -1.4316e-01 -7.8954e-02\n",
            "  7.8187e-02 -1.9454e-01  2.2303e-02  3.1207e-01  5.7462e-02 -1.1589e-01\n",
            "  9.6633e-02 -9.3229e-02 -3.4229e-02 -1.4652e-01 -1.1094e-01 -1.1102e-01\n",
            "  6.7728e-02  1.0023e-01 -6.7413e-02  2.3761e-01 -1.3105e-01 -8.3979e-03\n",
            " -1.0593e-01  2.4526e-01  6.5903e-02 -2.3740e-01 -1.0758e-01  5.7082e-03\n",
            " -8.1413e-02  2.6264e-01 -5.2461e-02  2.0306e-01  5.0620e-02 -1.8866e-01\n",
            " -1.1494e-01 -2.5752e-01  4.6799e-02 -5.0525e-02  6.2650e-02  1.5433e-01\n",
            " -5.6289e-02 -4.8437e-02 -9.9688e-02 -3.5332e-02 -9.1647e-02 -8.1151e-02\n",
            " -1.0844e-03 -8.4140e-02 -1.3026e-01  1.4980e-02 -8.6276e-02 -5.3041e-02\n",
            " -1.0644e-01 -4.2314e-02  8.6469e-02  2.2614e-01 -1.6078e-01  1.8845e-01\n",
            "  5.3098e-02 -2.1475e-01  1.6699e-01 -1.4442e-01 -1.5930e-01  6.2456e-03\n",
            " -7.6630e-02 -9.1568e-02 -2.8984e-01  2.7078e-02  2.1275e-02  2.3939e-02\n",
            "  1.4903e-01 -3.3062e-01 -9.7811e-02 -3.3814e-02  7.0587e-02  2.3294e-02\n",
            "  6.5382e-02  1.8716e-01 -1.3444e-01  1.4431e-01 -2.6800e-02 -2.2903e-02\n",
            "  9.7554e-02 -3.2909e-02 -2.7827e-02 -6.8771e-02  1.7053e-01 -5.9460e-02\n",
            "  2.0424e-02 -7.7589e-02  1.2160e-01 -7.7437e-02  1.0665e-01  5.1087e-02\n",
            "  7.6379e-03 -6.4936e-02  9.0310e-02  5.9447e-02  4.8881e-03  7.8309e-02\n",
            " -1.2163e-02  6.2155e-02 -7.2664e-02  1.7857e-01 -2.2874e-01  6.6397e-02\n",
            " -3.9295e-02 -2.7717e-02  6.1571e-02  7.2824e-02 -9.2512e-02 -8.7984e-02\n",
            " -1.2753e-01 -1.8705e-03  1.8689e-01  5.1173e-03 -1.3532e-03  4.3246e-02\n",
            "  1.0867e-01 -1.2209e-01 -9.1676e-03  2.3938e-01 -5.9501e-02 -1.0456e-03\n",
            "  8.6584e-02  2.0238e-02  2.1686e-01  1.6495e-01  3.7256e-02  1.2343e-01\n",
            "  1.7706e-01  7.5777e-02  3.1022e-02 -1.2948e-01  3.0936e-02  9.6897e-02\n",
            " -1.0793e-01  1.2644e-01 -5.6489e-02  8.2232e-02  2.0679e-01  1.1679e-01\n",
            "  1.3965e-01  2.6362e-01  3.7603e-02 -3.1050e-03 -8.9501e-02 -7.6969e-03\n",
            " -1.1654e-01 -2.8567e-01  4.6616e-02 -8.2062e-03  1.5621e-01 -1.4641e-01\n",
            "  6.4561e-02 -1.1330e-01  2.7129e-01  1.4532e-01 -2.1773e-02  2.3305e-01\n",
            " -1.6170e-01  1.5705e-01  1.3845e-01  2.2417e-02 -1.0982e-01 -4.9431e-02\n",
            "  7.6855e-02 -4.5300e-02 -1.9029e-01  1.1183e-02 -1.0393e-02  1.6916e-03\n",
            "  8.9407e-02 -5.1022e-02 -8.6066e-02  8.3933e-02 -8.1962e-03 -7.7321e-03\n",
            "  3.3991e-02 -2.0092e-01  3.3280e-02  6.2224e-02  1.6121e-02  2.7143e-01\n",
            " -1.9754e-01 -1.5222e-01 -1.5345e-02 -6.3907e-02 -9.8597e-02 -2.0162e-01\n",
            "  1.4004e-01 -1.1533e-05 -1.8928e-01  1.2253e-01 -7.0378e-03  8.6400e-02\n",
            " -3.0255e-01 -3.9080e-02  4.5517e-02 -1.6449e-01 -2.3548e-01  5.2781e-02\n",
            "  1.3847e-01 -2.0022e-01 -1.5974e-02  2.7137e-02  1.8287e-01 -2.3890e-02\n",
            "  2.2072e-01 -4.2710e-02 -7.5939e-02 -8.7386e-02 -4.9337e-02  4.7824e-02\n",
            " -5.9078e-02 -1.5181e-01 -2.1229e-01 -5.4944e-02 -1.1453e-02 -1.1996e-01\n",
            " -1.5307e-01 -5.4828e-02 -5.3217e-02 -4.8546e-02  2.8856e-02 -9.4537e-02\n",
            "  2.7144e-01  5.4638e-02  5.9727e-02  6.1772e-02  9.2590e-03 -1.2032e-01\n",
            " -1.6646e-01 -2.9087e-02  2.8752e-03 -1.6076e-01 -1.3710e-01 -1.8988e-01\n",
            "  2.2857e-02  1.8455e-01 -1.8236e-02 -6.0562e-03  1.4302e-01  3.2535e-02\n",
            "  1.4333e-01 -3.0871e-02 -1.5218e-01  9.2813e-02  6.6358e-02  1.8316e-02\n",
            " -2.4143e-01  5.4391e-03 -6.4479e-02 -8.5960e-02  3.0446e-02  8.2157e-02\n",
            "  2.6093e-02  5.8985e-02  5.1085e-03  8.9127e-02 -1.8164e-02 -7.7821e-02\n",
            "  3.4232e-03  1.3892e-01  4.6106e-02 -5.4170e-02  8.4399e-03 -1.5362e-01\n",
            " -1.4735e-01  6.5191e-02 -2.2883e-02 -1.4498e-01 -1.6917e-01 -1.9215e-01\n",
            "  1.0611e-01  1.6780e-03 -1.6331e-01 -7.3070e-02  1.1576e-01  8.3567e-02\n",
            " -6.0317e-02 -6.4714e-02  1.5305e-01 -1.1949e-01  1.6684e-01  1.4109e-01\n",
            "  4.6036e-02 -6.0393e-02  4.6595e-02 -1.1558e-01  4.4184e-02 -2.3124e-02\n",
            "  2.5860e-02 -1.1653e-01  1.0936e-02  8.9398e-02 -1.5900e-02  1.4866e-01]\n"
          ],
          "name": "stdout"
        }
      ]
    },
    {
      "cell_type": "code",
      "metadata": {
        "id": "hYCaLXskm9d5",
        "colab_type": "code",
        "outputId": "2fc83d0c-9407-4be4-b656-fe7d16801d4c",
        "colab": {
          "base_uri": "https://localhost:8080/",
          "height": 35
        }
      },
      "source": [
        "print(words[0])"
      ],
      "execution_count": 31,
      "outputs": [
        {
          "output_type": "stream",
          "text": [
            ",\n"
          ],
          "name": "stdout"
        }
      ]
    },
    {
      "cell_type": "code",
      "metadata": {
        "id": "Gpq7879_m9d7",
        "colab_type": "code",
        "outputId": "c96f91ba-17bf-41d6-9977-c2f981f7ed79",
        "colab": {
          "base_uri": "https://localhost:8080/",
          "height": 35
        }
      },
      "source": [
        "words[50]"
      ],
      "execution_count": 32,
      "outputs": [
        {
          "output_type": "execute_result",
          "data": {
            "text/plain": [
              "'you'"
            ]
          },
          "metadata": {
            "tags": []
          },
          "execution_count": 32
        }
      ]
    },
    {
      "cell_type": "code",
      "metadata": {
        "id": "9_lpU1W9m9d-",
        "colab_type": "code",
        "colab": {}
      },
      "source": [
        "embedding_dict = dict()\n",
        "for word in words:\n",
        "    embedding_dict[word] = eng_model[word]"
      ],
      "execution_count": 0,
      "outputs": []
    },
    {
      "cell_type": "code",
      "metadata": {
        "id": "GnW3lRjZm9eB",
        "colab_type": "code",
        "outputId": "dfc75c5a-76d0-4aec-87cf-0a77747e3a83",
        "colab": {
          "base_uri": "https://localhost:8080/",
          "height": 35
        }
      },
      "source": [
        "vocab_size = len(tokenizer.word_index.items()) + 1\n",
        "embedding_matrix = np.zeros((vocab_size, 300))\n",
        "# 단어 집합 크기의 행과 100개의 열을 가지는 행렬 생성. 값은 전부 0으로 채워진다.\n",
        "np.shape(embedding_matrix)"
      ],
      "execution_count": 34,
      "outputs": [
        {
          "output_type": "execute_result",
          "data": {
            "text/plain": [
              "(164480, 300)"
            ]
          },
          "metadata": {
            "tags": []
          },
          "execution_count": 34
        }
      ]
    },
    {
      "cell_type": "code",
      "metadata": {
        "id": "6mtvpijjm9eG",
        "colab_type": "code",
        "colab": {}
      },
      "source": [
        "for word, i in tokenizer.word_index.items(): # 훈련 데이터의 단어 집합에서 단어를 1개씩 꺼내온다.\n",
        "    temp = embedding_dict.get(word) # 단어(key) 해당되는 임베딩 벡터의 300개의 값(value)를 임시 변수에 저장\n",
        "    if temp is not None:\n",
        "        embedding_matrix[i] = temp # 임수 변수의 값을 단어와 맵핑되는 인덱스의 행에 삽입"
      ],
      "execution_count": 0,
      "outputs": []
    },
    {
      "cell_type": "code",
      "metadata": {
        "id": "t_K7XJhQm9eI",
        "colab_type": "code",
        "outputId": "75bbfdab-4813-45ba-dff3-d22f8d36f3f5",
        "colab": {
          "base_uri": "https://localhost:8080/",
          "height": 35
        }
      },
      "source": [
        "embedding_matrix.shape"
      ],
      "execution_count": 36,
      "outputs": [
        {
          "output_type": "execute_result",
          "data": {
            "text/plain": [
              "(164480, 300)"
            ]
          },
          "metadata": {
            "tags": []
          },
          "execution_count": 36
        }
      ]
    },
    {
      "cell_type": "code",
      "metadata": {
        "id": "iDVd5cNOm9eL",
        "colab_type": "code",
        "outputId": "962ff02a-5279-423e-95ef-1b3cc666eefc",
        "colab": {
          "base_uri": "https://localhost:8080/",
          "height": 35
        }
      },
      "source": [
        "rating_data"
      ],
      "execution_count": 37,
      "outputs": [
        {
          "output_type": "execute_result",
          "data": {
            "text/plain": [
              "array([4, 4, 4, ..., 5, 5, 5])"
            ]
          },
          "metadata": {
            "tags": []
          },
          "execution_count": 37
        }
      ]
    },
    {
      "cell_type": "code",
      "metadata": {
        "id": "xKIfPXozm9eO",
        "colab_type": "code",
        "colab": {}
      },
      "source": [
        "rating_data = to_categorical(rating_data)"
      ],
      "execution_count": 0,
      "outputs": []
    },
    {
      "cell_type": "code",
      "metadata": {
        "id": "Ct_6q9Kqm9eS",
        "colab_type": "code",
        "colab": {}
      },
      "source": [
        "x_train, x_test, y_train, y_test = train_test_split(review_data, rating_data, test_size=0.1, random_state=0, stratify=rating_data)"
      ],
      "execution_count": 0,
      "outputs": []
    },
    {
      "cell_type": "code",
      "metadata": {
        "id": "4Uhv1UeUm9eW",
        "colab_type": "code",
        "outputId": "d701328b-56cc-400b-9515-d26e92f6d307",
        "colab": {
          "base_uri": "https://localhost:8080/",
          "height": 35
        }
      },
      "source": [
        "x_train.shape,x_test.shape, y_train.shape, y_test.shape"
      ],
      "execution_count": 40,
      "outputs": [
        {
          "output_type": "execute_result",
          "data": {
            "text/plain": [
              "((396826, 60), (44092, 60), (396826, 6), (44092, 6))"
            ]
          },
          "metadata": {
            "tags": []
          },
          "execution_count": 40
        }
      ]
    },
    {
      "cell_type": "markdown",
      "metadata": {
        "id": "9JDnksOTm9eZ",
        "colab_type": "text"
      },
      "source": [
        "# 1. LSTM으로 리뷰 점수 분석 (lr=0.0001)"
      ]
    },
    {
      "cell_type": "code",
      "metadata": {
        "id": "AB8r-uZzm9ea",
        "colab_type": "code",
        "colab": {}
      },
      "source": [
        "from tensorflow.keras.layers import Embedding, Dense, LSTM\n",
        "from tensorflow.keras.models import Sequential\n",
        "from tensorflow.keras.optimizers import Adam"
      ],
      "execution_count": 0,
      "outputs": []
    },
    {
      "cell_type": "code",
      "metadata": {
        "id": "42lXURC1m9ef",
        "colab_type": "code",
        "colab": {}
      },
      "source": [
        "from keras import backend as K\n",
        "\n",
        "def recall_m(y_true, y_pred):\n",
        "        true_positives = K.sum(K.round(K.clip(y_true * y_pred, 0, 1)))\n",
        "        possible_positives = K.sum(K.round(K.clip(y_true, 0, 1)))\n",
        "        recall = true_positives / (possible_positives + K.epsilon())\n",
        "        return recall\n",
        "\n",
        "def precision_m(y_true, y_pred):\n",
        "        true_positives = K.sum(K.round(K.clip(y_true * y_pred, 0, 1)))\n",
        "        predicted_positives = K.sum(K.round(K.clip(y_pred, 0, 1)))\n",
        "        precision = true_positives / (predicted_positives + K.epsilon())\n",
        "        return precision\n",
        "\n",
        "def f1_m(y_true, y_pred):\n",
        "    precision = precision_m(y_true, y_pred)\n",
        "    recall = recall_m(y_true, y_pred)\n",
        "    return 2*((precision*recall)/(precision+recall+K.epsilon()))"
      ],
      "execution_count": 0,
      "outputs": []
    },
    {
      "cell_type": "code",
      "metadata": {
        "id": "WPMXbPevm9ei",
        "colab_type": "code",
        "colab": {}
      },
      "source": [
        "model = Sequential()\n",
        "e = Embedding(vocab_size, 300, weights=[embedding_matrix], input_length=max_len, trainable=False)\n",
        "model.add(e)\n",
        "model.add(LSTM(128))\n",
        "model.add(Dense(6, activation='softmax'))\n",
        "\n",
        "adam = Adam(learning_rate=0.0001)\n",
        "model.compile(optimizer=adam, loss='categorical_crossentropy', metrics=['accuracy', f1_m])"
      ],
      "execution_count": 0,
      "outputs": []
    },
    {
      "cell_type": "code",
      "metadata": {
        "id": "e_qaAnH2m9eo",
        "colab_type": "code",
        "outputId": "f5858a29-0a70-4c15-8637-ae73bbd1cfba",
        "colab": {
          "base_uri": "https://localhost:8080/",
          "height": 755
        }
      },
      "source": [
        "history = model.fit(x_train, y_train, epochs=20, batch_size=64, validation_data=(x_test, y_test))"
      ],
      "execution_count": 44,
      "outputs": [
        {
          "output_type": "stream",
          "text": [
            "Train on 396826 samples, validate on 44092 samples\n",
            "Epoch 1/20\n",
            "396826/396826 [==============================] - 436s 1ms/sample - loss: 0.8910 - accuracy: 0.6109 - f1_m: 0.5676 - val_loss: 0.8313 - val_accuracy: 0.6359 - val_f1_m: 0.6156\n",
            "Epoch 2/20\n",
            "396826/396826 [==============================] - 428s 1ms/sample - loss: 0.8149 - accuracy: 0.6440 - f1_m: 0.6231 - val_loss: 0.8225 - val_accuracy: 0.6389 - val_f1_m: 0.6241\n",
            "Epoch 3/20\n",
            "396826/396826 [==============================] - 427s 1ms/sample - loss: 0.7913 - accuracy: 0.6538 - f1_m: 0.6357 - val_loss: 0.8100 - val_accuracy: 0.6440 - val_f1_m: 0.6167\n",
            "Epoch 4/20\n",
            "396826/396826 [==============================] - 428s 1ms/sample - loss: 0.7758 - accuracy: 0.6599 - f1_m: 0.6441 - val_loss: 0.7763 - val_accuracy: 0.6596 - val_f1_m: 0.6405\n",
            "Epoch 5/20\n",
            "396826/396826 [==============================] - 428s 1ms/sample - loss: 0.7639 - accuracy: 0.6652 - f1_m: 0.6499 - val_loss: 0.7774 - val_accuracy: 0.6577 - val_f1_m: 0.6378\n",
            "Epoch 6/20\n",
            "396826/396826 [==============================] - 428s 1ms/sample - loss: 0.7539 - accuracy: 0.6694 - f1_m: 0.6557 - val_loss: 0.7581 - val_accuracy: 0.6653 - val_f1_m: 0.6523\n",
            "Epoch 7/20\n",
            "396826/396826 [==============================] - 427s 1ms/sample - loss: 0.7460 - accuracy: 0.6728 - f1_m: 0.6593 - val_loss: 0.7546 - val_accuracy: 0.6673 - val_f1_m: 0.6557\n",
            "Epoch 8/20\n",
            "396826/396826 [==============================] - 427s 1ms/sample - loss: 0.7388 - accuracy: 0.6759 - f1_m: 0.6626 - val_loss: 0.7589 - val_accuracy: 0.6664 - val_f1_m: 0.6524\n",
            "Epoch 9/20\n",
            "396826/396826 [==============================] - 427s 1ms/sample - loss: 0.7322 - accuracy: 0.6787 - f1_m: 0.6662 - val_loss: 0.7544 - val_accuracy: 0.6681 - val_f1_m: 0.6584\n",
            "Epoch 10/20\n",
            "396826/396826 [==============================] - 427s 1ms/sample - loss: 0.7263 - accuracy: 0.6817 - f1_m: 0.6696 - val_loss: 0.7503 - val_accuracy: 0.6691 - val_f1_m: 0.6593\n",
            "Epoch 11/20\n",
            "396826/396826 [==============================] - 428s 1ms/sample - loss: 0.7210 - accuracy: 0.6843 - f1_m: 0.6723 - val_loss: 0.7408 - val_accuracy: 0.6753 - val_f1_m: 0.6640\n",
            "Epoch 12/20\n",
            "396826/396826 [==============================] - 427s 1ms/sample - loss: 0.7161 - accuracy: 0.6861 - f1_m: 0.6747 - val_loss: 0.7433 - val_accuracy: 0.6731 - val_f1_m: 0.6618\n",
            "Epoch 13/20\n",
            "396826/396826 [==============================] - 427s 1ms/sample - loss: 0.7111 - accuracy: 0.6885 - f1_m: 0.6772 - val_loss: 0.7380 - val_accuracy: 0.6750 - val_f1_m: 0.6666\n",
            "Epoch 14/20\n",
            "396826/396826 [==============================] - 427s 1ms/sample - loss: 0.7064 - accuracy: 0.6908 - f1_m: 0.6799 - val_loss: 0.7364 - val_accuracy: 0.6778 - val_f1_m: 0.6688\n",
            "Epoch 15/20\n",
            "396826/396826 [==============================] - 428s 1ms/sample - loss: 0.7023 - accuracy: 0.6922 - f1_m: 0.6810 - val_loss: 0.7408 - val_accuracy: 0.6724 - val_f1_m: 0.6661\n",
            "Epoch 16/20\n",
            "396826/396826 [==============================] - 428s 1ms/sample - loss: 0.6983 - accuracy: 0.6941 - f1_m: 0.6838 - val_loss: 0.7376 - val_accuracy: 0.6748 - val_f1_m: 0.6657\n",
            "Epoch 17/20\n",
            "396826/396826 [==============================] - 427s 1ms/sample - loss: 0.6941 - accuracy: 0.6961 - f1_m: 0.6857 - val_loss: 0.7340 - val_accuracy: 0.6760 - val_f1_m: 0.6666\n",
            "Epoch 18/20\n",
            "396826/396826 [==============================] - 428s 1ms/sample - loss: 0.6905 - accuracy: 0.6980 - f1_m: 0.6878 - val_loss: 0.7439 - val_accuracy: 0.6739 - val_f1_m: 0.6636\n",
            "Epoch 19/20\n",
            "396826/396826 [==============================] - 428s 1ms/sample - loss: 0.6864 - accuracy: 0.6995 - f1_m: 0.6897 - val_loss: 0.7371 - val_accuracy: 0.6775 - val_f1_m: 0.6702\n",
            "Epoch 20/20\n",
            "396826/396826 [==============================] - 429s 1ms/sample - loss: 0.6826 - accuracy: 0.7016 - f1_m: 0.6917 - val_loss: 0.7345 - val_accuracy: 0.6786 - val_f1_m: 0.6697\n"
          ],
          "name": "stdout"
        }
      ]
    },
    {
      "cell_type": "code",
      "metadata": {
        "id": "XVUc4VbOm9ev",
        "colab_type": "code",
        "outputId": "1e4ac798-b549-425a-ebb4-c94fd3cfdaa5",
        "colab": {
          "base_uri": "https://localhost:8080/",
          "height": 283
        }
      },
      "source": [
        "fig, loss_ax = plt.subplots()\n",
        "acc_ax = loss_ax.twinx()\n",
        "\n",
        "loss_ax.plot(history.history['loss'], 'y', label='train loss')\n",
        "loss_ax.plot(history.history['val_loss'], 'r', label='val loss')\n",
        "loss_ax.set_xlabel('epoch')\n",
        "loss_ax.set_ylabel('loss')\n",
        "loss_ax.legend(loc='upper right')\n",
        "\n",
        "plt.show()"
      ],
      "execution_count": 45,
      "outputs": [
        {
          "output_type": "display_data",
          "data": {
            "image/png": "[encoded data removed]",
            "text/plain": [
              "<Figure size 432x288 with 2 Axes>"
            ]
          },
          "metadata": {
            "tags": []
          }
        }
      ]
    },
    {
      "cell_type": "code",
      "metadata": {
        "id": "gKMqwLQ3YFm7",
        "colab_type": "code",
        "outputId": "6a6af96f-098f-465a-efea-9967b6591fcc",
        "colab": {
          "base_uri": "https://localhost:8080/",
          "height": 269
        }
      },
      "source": [
        "fig, loss_ax = plt.subplots()\n",
        "acc_ax = loss_ax.twinx()\n",
        "\n",
        "acc_ax.plot(history.history['accuracy'], 'b', label='train acc')\n",
        "acc_ax.plot(history.history['val_accuracy'], 'g', label='val acc')\n",
        "acc_ax.set_ylabel('accuracy')\n",
        "acc_ax.legend(loc='upper left')\n",
        "\n",
        "plt.show()"
      ],
      "execution_count": 46,
      "outputs": [
        {
          "output_type": "display_data",
          "data": {
            "image/png": "[encoded data removed]",
            "text/plain": [
              "<Figure size 432x288 with 2 Axes>"
            ]
          },
          "metadata": {
            "tags": []
          }
        }
      ]
    }
  ]
}