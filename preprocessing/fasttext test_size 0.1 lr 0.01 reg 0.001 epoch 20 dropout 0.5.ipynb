{
 "cells": [
  {
   "cell_type": "code",
   "execution_count": 1,
   "metadata": {},
   "outputs": [
    {
     "name": "stderr",
     "output_type": "stream",
     "text": [
      "Using TensorFlow backend.\n"
     ]
    }
   ],
   "source": [
    "import pandas as pd\n",
    "import random\n",
    "import re\n",
    "from nltk.tokenize import word_tokenize, sent_tokenize\n",
    "import matplotlib.pyplot as plt\n",
    "%matplotlib inline\n",
    "from tensorflow.keras.preprocessing.text import Tokenizer\n",
    "import numpy as np\n",
    "from tensorflow.keras.preprocessing.sequence import pad_sequences\n",
    "from sklearn.model_selection import train_test_split\n",
    "from keras.utils import to_categorical"
   ]
  },
  {
   "cell_type": "markdown",
   "metadata": {},
   "source": [
    "# review_rating data EDA"
   ]
  },
  {
   "cell_type": "code",
   "execution_count": 2,
   "metadata": {},
   "outputs": [],
   "source": [
    "review_rating = pd.read_csv('review_rating.csv')"
   ]
  },
  {
   "cell_type": "code",
   "execution_count": 3,
   "metadata": {},
   "outputs": [
    {
     "data": {
      "text/html": [
       "<div>\n",
       "<style scoped>\n",
       "    .dataframe tbody tr th:only-of-type {\n",
       "        vertical-align: middle;\n",
       "    }\n",
       "\n",
       "    .dataframe tbody tr th {\n",
       "        vertical-align: top;\n",
       "    }\n",
       "\n",
       "    .dataframe thead th {\n",
       "        text-align: right;\n",
       "    }\n",
       "</style>\n",
       "<table border=\"1\" class=\"dataframe\">\n",
       "  <thead>\n",
       "    <tr style=\"text-align: right;\">\n",
       "      <th></th>\n",
       "      <th>Unnamed: 0</th>\n",
       "      <th>review</th>\n",
       "      <th>rating</th>\n",
       "    </tr>\n",
       "  </thead>\n",
       "  <tbody>\n",
       "    <tr>\n",
       "      <td>0</td>\n",
       "      <td>0</td>\n",
       "      <td>Great with a salad. Cooked on top of stove for...</td>\n",
       "      <td>4</td>\n",
       "    </tr>\n",
       "    <tr>\n",
       "      <td>1</td>\n",
       "      <td>2</td>\n",
       "      <td>This worked very well and is EASY.  I used not...</td>\n",
       "      <td>4</td>\n",
       "    </tr>\n",
       "    <tr>\n",
       "      <td>2</td>\n",
       "      <td>5</td>\n",
       "      <td>very very sweet. after i waited the 2 days i b...</td>\n",
       "      <td>4</td>\n",
       "    </tr>\n",
       "    <tr>\n",
       "      <td>3</td>\n",
       "      <td>7</td>\n",
       "      <td>This recipe was OVERLY too sweet.  I would sta...</td>\n",
       "      <td>2</td>\n",
       "    </tr>\n",
       "    <tr>\n",
       "      <td>4</td>\n",
       "      <td>8</td>\n",
       "      <td>Very good!</td>\n",
       "      <td>4</td>\n",
       "    </tr>\n",
       "  </tbody>\n",
       "</table>\n",
       "</div>"
      ],
      "text/plain": [
       "   Unnamed: 0                                             review rating\n",
       "0           0  Great with a salad. Cooked on top of stove for...      4\n",
       "1           2  This worked very well and is EASY.  I used not...      4\n",
       "2           5  very very sweet. after i waited the 2 days i b...      4\n",
       "3           7  This recipe was OVERLY too sweet.  I would sta...      2\n",
       "4           8                                         Very good!      4"
      ]
     },
     "execution_count": 3,
     "metadata": {},
     "output_type": "execute_result"
    }
   ],
   "source": [
    "review_rating = review_rating.astype({'rating': 'category'})\n",
    "review_rating.head()"
   ]
  },
  {
   "cell_type": "code",
   "execution_count": 4,
   "metadata": {},
   "outputs": [
    {
     "data": {
      "text/plain": [
       "<matplotlib.axes._subplots.AxesSubplot at 0x1b713469fc8>"
      ]
     },
     "execution_count": 4,
     "metadata": {},
     "output_type": "execute_result"
    },
    {
     "data": {
      "image/png": "[encoded data removed]",
      "text/plain": [
       "<Figure size 432x288 with 1 Axes>"
      ]
     },
     "metadata": {
      "needs_background": "light"
     },
     "output_type": "display_data"
    }
   ],
   "source": [
    "review_rating['rating'].value_counts().plot(kind='bar')"
   ]
  },
  {
   "cell_type": "code",
   "execution_count": 5,
   "metadata": {},
   "outputs": [
    {
     "name": "stdout",
     "output_type": "stream",
     "text": [
      "  rating   count\n",
      "0      1   12815\n",
      "1      2   14122\n",
      "2      3   40852\n",
      "3      4  187333\n",
      "4      5  187333\n"
     ]
    }
   ],
   "source": [
    "print(review_rating.groupby('rating').size().reset_index(name='count'))"
   ]
  },
  {
   "cell_type": "code",
   "execution_count": 6,
   "metadata": {},
   "outputs": [
    {
     "data": {
      "text/plain": [
       "False"
      ]
     },
     "execution_count": 6,
     "metadata": {},
     "output_type": "execute_result"
    }
   ],
   "source": [
    "review_rating.isnull().values.any()"
   ]
  },
  {
   "cell_type": "code",
   "execution_count": 7,
   "metadata": {},
   "outputs": [
    {
     "data": {
      "text/plain": [
       "0"
      ]
     },
     "execution_count": 7,
     "metadata": {},
     "output_type": "execute_result"
    }
   ],
   "source": [
    "review_rating.drop_duplicates(inplace=True)\n",
    "review_rating.duplicated().sum()"
   ]
  },
  {
   "cell_type": "code",
   "execution_count": 8,
   "metadata": {},
   "outputs": [
    {
     "name": "stdout",
     "output_type": "stream",
     "text": [
      "  rating   count\n",
      "0      1   12815\n",
      "1      2   14122\n",
      "2      3   40852\n",
      "3      4  187333\n",
      "4      5  187333\n"
     ]
    }
   ],
   "source": [
    "print(review_rating.groupby('rating').size().reset_index(name='count'))"
   ]
  },
  {
   "cell_type": "code",
   "execution_count": 9,
   "metadata": {},
   "outputs": [
    {
     "data": {
      "text/plain": [
       "442455"
      ]
     },
     "execution_count": 9,
     "metadata": {},
     "output_type": "execute_result"
    }
   ],
   "source": [
    "len(review_rating)"
   ]
  },
  {
   "cell_type": "code",
   "execution_count": 10,
   "metadata": {},
   "outputs": [
    {
     "name": "stdout",
     "output_type": "stream",
     "text": [
      "review 개수: 442455\n",
      "rating개수: 442455\n"
     ]
    }
   ],
   "source": [
    "X_data = review_rating['review']\n",
    "y_data = review_rating['rating']\n",
    "print('review 개수: {}'.format(len(X_data)))\n",
    "print('rating개수: {}'.format(len(y_data)))"
   ]
  },
  {
   "cell_type": "code",
   "execution_count": 11,
   "metadata": {},
   "outputs": [],
   "source": [
    "normalized_text = []\n",
    "for string in X_data.tolist():\n",
    "    try:\n",
    "        tokens = re.sub(r\"[^a-zA-Z0-9]+\", \" \", string.lower())\n",
    "    except Exception as e:\n",
    "        print(string)\n",
    "        break\n",
    "    normalized_text.append(tokens)"
   ]
  },
  {
   "cell_type": "code",
   "execution_count": 12,
   "metadata": {},
   "outputs": [
    {
     "data": {
      "text/plain": [
       "['great with a salad cooked on top of stove for 15 minutes added a shake of cayenne and a pinch of salt used low fat sour cream thanks ',\n",
       " 'this worked very well and is easy i used not quite a whole package 10oz of white chips great ',\n",
       " 'very very sweet after i waited the 2 days i bought 2 more pints of raspberries and added them to the mix i m going to add some as a cake filling today and will take a photo ',\n",
       " 'this recipe was overly too sweet i would start out with 1 3 or 1 4 cup of sugar and jsut add on from there just 2 cups was way too much and i had to go back to the grocery store to buy more raspberries because it made so much mix overall i would but the long narrow box or raspberries its a perfect fit for the recipe plus a little extra i was not impressed with this recipe it was exceptionally over sweet if you make this simple recipe make sure to add less sugar ',\n",
       " 'very good ']"
      ]
     },
     "execution_count": 12,
     "metadata": {},
     "output_type": "execute_result"
    }
   ],
   "source": [
    "normalized_text[:5]"
   ]
  },
  {
   "cell_type": "code",
   "execution_count": 13,
   "metadata": {},
   "outputs": [
    {
     "name": "stdout",
     "output_type": "stream",
     "text": [
      "[[30, 13, 4, 178, 135, 27, 157, 9, 821, 8, 481, 113, 42, 4, 1877, 9, 580, 3, 4, 943, 9, 137, 20, 269, 238, 304, 106, 26], [7, 284, 22, 89, 3, 16, 44, 1, 20, 29, 194, 4, 176, 1056, 5750, 9, 260, 330, 30], [22, 22, 110, 123, 1, 2425, 2, 60, 727, 1, 596, 60, 49, 3195, 9, 1569, 3, 42, 40, 6, 2, 190, 1, 109, 266, 6, 68, 45, 24, 4, 143, 273, 466, 3, 34, 375, 4, 759]]\n"
     ]
    }
   ],
   "source": [
    "t = Tokenizer()\n",
    "t.fit_on_texts(normalized_text)\n",
    "X_encoded = t.texts_to_sequences(normalized_text)\n",
    "vocab_size = len(t.word_index) + 1\n",
    "\n",
    "print(X_encoded[:3])"
   ]
  },
  {
   "cell_type": "code",
   "execution_count": 14,
   "metadata": {},
   "outputs": [
    {
     "name": "stdout",
     "output_type": "stream",
     "text": [
      "리뷰의 최대 길이 : 1308\n",
      "리뷰의 평균 길이 : 284.62103490750474\n"
     ]
    },
    {
     "data": {
      "image/png": "[encoded data removed]",
      "text/plain": [
       "<Figure size 432x288 with 1 Axes>"
      ]
     },
     "metadata": {
      "needs_background": "light"
     },
     "output_type": "display_data"
    }
   ],
   "source": [
    "print('리뷰의 최대 길이 :',max(len(l) for l in X_encoded))\n",
    "print('리뷰의 평균 길이 :',sum(map(len, X_data))/len(X_encoded))\n",
    "plt.hist([len(s) for s in X_encoded], bins=200)\n",
    "plt.xlabel('length of Data')\n",
    "plt.ylabel('number of Data')\n",
    "plt.show()"
   ]
  },
  {
   "cell_type": "code",
   "execution_count": 15,
   "metadata": {},
   "outputs": [],
   "source": [
    "max_len = 60 # 전체 데이터의 길이는 60으로 맞춘다.\n",
    "X_data = pad_sequences(X_encoded, maxlen = max_len)"
   ]
  },
  {
   "cell_type": "markdown",
   "metadata": {},
   "source": [
    "# Fasttext"
   ]
  },
  {
   "cell_type": "code",
   "execution_count": 16,
   "metadata": {},
   "outputs": [
    {
     "name": "stdout",
     "output_type": "stream",
     "text": [
      "['2000000', '300']\n",
      "2000000\n",
      "[',', '0.1250', '-0.1079', '0.0245', '-0.2529', '0.1057', '-0.0184', '0.1177', '-0.0701', '-0.0401', '-0.0080', '0.0772', '-0.0226', '0.0893', '-0.0487', '-0.0897', '-0.0835', '0.0200', '0.0273', '-0.0194', '0.0964', '0.0875', '0.0098', '0.0453', '0.0155', '0.1462', '0.0225', '0.0448', '0.0137', '0.0570', '0.1764', '-0.1072', '-0.0826', '0.0173', '0.1090', '0.0207', '-0.1271', '0.2445', '0.0375', '-0.0209', '-0.0445', '0.0540', '0.1282', '0.0437', '0.0588', '0.0984', '0.0539', '0.0004', '0.1290', '0.0242', '-0.0120', '-0.0480', '0.0346', '-0.0664', '-0.0330', '-0.0625', '-0.0708', '-0.0579', '0.1738', '0.4448', '0.0370', '-0.1001', '-0.0032', '0.0359', '-0.0685', '-0.0361', '0.0070', '0.1316', '-0.0945', '-0.0610', '0.0178', '-0.0763', '-0.0192', '0.0033', '0.0056', '0.1878', '-0.0754', '-0.0095', '0.0446', '-0.0588', '0.0244', '-0.0251', '-0.0493', '0.0308', '-0.0359', '-0.1884', '-0.0988', '0.1887', '0.0459', '-0.0816', '-0.1524', '-0.0375', '-0.0692', '0.0427', '-0.0471', '-0.0086', '-0.2190', '-0.0064', '0.0877', '-0.0074', '-0.1400', '-0.0156', '0.0161', '0.1040', '-0.1445', '-0.0719', '-0.0144', '-0.0293', '-0.0126', '0.0619', '-0.0373', '-0.1471', '-0.2552', '-0.0685', '0.2892', '-0.0275', '0.0436', '0.0311', '0.0249', '0.0142', '0.0403', '0.1729', '0.0023', '-0.0255', '-0.0212', '0.0701', '-0.0727', '0.0279', '0.1151', '-0.0394', '-0.0962', '-0.0598', '-0.0459', '-0.0326', '-0.2317', '0.0945', '0.0110', '-0.2511', '0.1087', '-0.0699', '0.0359', '0.0208', '-0.0536', '0.0478', '0.0178', '0.0095', '0.0354', '-0.7726', '-0.0790', '0.0472', '0.0584', '-0.1013', '0.0448', '-0.1202', '0.0376', '0.0510', '-0.0616', '0.4321', '0.0179', '0.0263', '0.0271', '0.0473', '-0.0951', '-0.2261', '0.0261', '0.0262', '-0.0235', '-0.0369', '-0.1655', '-0.0697', '0.0122', '-0.0303', '0.0427', '0.0787', '-0.0360', '0.0206', '-0.0068', '0.1257', '0.0447', '-0.0776', '-0.1122', '-0.0291', '0.4654', '0.1010', '0.4440', '0.0095', '0.1312', '0.0766', '0.0873', '-0.0878', '-0.0296', '0.0046', '0.0416', '-0.0134', '0.0571', '-0.0109', '-0.0655', '0.0082', '-0.0563', '-0.0830', '-0.0550', '-0.0688', '0.0091', '-0.0677', '-0.1001', '0.0200', '-0.0979', '0.1134', '-0.0188', '0.0136', '0.0782', '0.0207', '0.0133', '-0.0492', '-0.0139', '0.0123', '0.0360', '0.1249', '0.0503', '0.0015', '0.1246', '-0.0897', '-0.0121', '-0.0182', '0.2245', '-0.0313', '-0.1596', '0.0073', '-0.0772', '-0.0830', '-0.0716', '0.0112', '0.0218', '0.1245', '-0.0361', '0.0312', '0.0652', '0.0560', '0.0670', '0.0709', '-0.0248', '0.0449', '-0.1296', '0.1408', '-0.0359', '1.1585', '0.0027', '0.0185', '0.0549', '0.1367', '0.2742', '-0.0472', '-0.0414', '-0.0548', '-0.0911', '-0.0015', '-0.1613', '0.0179', '-0.0040', '0.0610', '0.0559', '0.1138', '0.2978', '-0.1511', '-0.0079', '-0.0838', '0.0296', '-0.1041', '0.1627', '-0.0670', '0.0504', '-0.0420', '-0.0020', '0.1840', '0.0596', '0.0448', '0.0989', '-0.2157', '-0.0117', '0.2142', '-0.1672', '-0.0444', '0.2045', '-0.4620', '-0.0482', '0.0688', '-0.0304', '0.0478', '0.1583', '0.0920', '0.0949', '0.0650', '-0.0398', '-0.1376', '-0.0436', '0.0578', '0.0188', '0.0148', '0.2305', '-0.0696', '-0.0215']\n",
      ",\n"
     ]
    }
   ],
   "source": [
    "n=0\n",
    "f = open('C:\\\\Users\\\\user\\\\Documents\\\\GitHub\\\\grad_project\\\\recipe_rating\\\\preprocessing\\\\cc.en.300.vec\\\\cc.en.300.vec', encoding=\"utf8\")\n",
    "\n",
    "for line in f:\n",
    "    word_vector = line.split() # 각 줄을 읽어와서 word_vector에 저장.\n",
    "    print(word_vector) # 각 줄을 출력\n",
    "    word = word_vector[0] # word_vector에서 첫번째 값만 저장\n",
    "    print(word) # word_vector의 첫번째 값만 출력\n",
    "    n=n+1\n",
    "    if n==2:\n",
    "        break\n",
    "f.close()"
   ]
  },
  {
   "cell_type": "code",
   "execution_count": 17,
   "metadata": {},
   "outputs": [
    {
     "name": "stdout",
     "output_type": "stream",
     "text": [
      "<class 'list'>\n",
      "301\n"
     ]
    }
   ],
   "source": [
    "print(type(word_vector))\n",
    "print(len(word_vector))"
   ]
  },
  {
   "cell_type": "code",
   "execution_count": 18,
   "metadata": {},
   "outputs": [
    {
     "name": "stdout",
     "output_type": "stream",
     "text": [
      "2000000개의 Embedding vector가 있습니다.\n"
     ]
    }
   ],
   "source": [
    "import numpy as np\n",
    "embedding_dict = dict()\n",
    "f = open('C:\\\\Users\\\\user\\\\Documents\\\\GitHub\\\\grad_project\\\\recipe_rating\\\\preprocessing\\\\cc.en.300.vec\\\\cc.en.300.vec', encoding=\"utf8\")\n",
    "\n",
    "for line in f:\n",
    "    word_vector = line.split()\n",
    "    word = word_vector[0]\n",
    "    word_vector_arr = np.asarray(word_vector[1:], dtype='float32') # 100개의 값을 가지는 array로 변환\n",
    "    embedding_dict[word] = word_vector_arr\n",
    "f.close()\n",
    "print('%s개의 Embedding vector가 있습니다.' % len(embedding_dict))"
   ]
  },
  {
   "cell_type": "code",
   "execution_count": 19,
   "metadata": {},
   "outputs": [
    {
     "data": {
      "text/plain": [
       "(86811, 300)"
      ]
     },
     "execution_count": 19,
     "metadata": {},
     "output_type": "execute_result"
    }
   ],
   "source": [
    "embedding_matrix = np.zeros((vocab_size, 300))\n",
    "# 단어 집합 크기의 행과 100개의 열을 가지는 행렬 생성. 값은 전부 0으로 채워진다.\n",
    "np.shape(embedding_matrix)"
   ]
  },
  {
   "cell_type": "code",
   "execution_count": 20,
   "metadata": {},
   "outputs": [],
   "source": [
    "for word, i in t.word_index.items(): # 훈련 데이터의 단어 집합에서 단어를 1개씩 꺼내온다.\n",
    "    temp = embedding_dict.get(word) # 단어(key) 해당되는 임베딩 벡터의 300개의 값(value)를 임시 변수에 저장\n",
    "    if temp is not None:\n",
    "        embedding_matrix[i] = temp # 임수 변수의 값을 단어와 맵핑되는 인덱스의 행에 삽입"
   ]
  },
  {
   "cell_type": "code",
   "execution_count": 21,
   "metadata": {},
   "outputs": [
    {
     "data": {
      "text/plain": [
       "(86811, 300)"
      ]
     },
     "execution_count": 21,
     "metadata": {},
     "output_type": "execute_result"
    }
   ],
   "source": [
    "embedding_matrix.shape"
   ]
  },
  {
   "cell_type": "code",
   "execution_count": 22,
   "metadata": {},
   "outputs": [],
   "source": [
    "y_data = to_categorical(y_data)"
   ]
  },
  {
   "cell_type": "code",
   "execution_count": 23,
   "metadata": {},
   "outputs": [],
   "source": [
    "X_train, X_val, y_train, y_val = train_test_split(X_data, y_data, test_size=0.1, random_state=0, stratify = y_data)"
   ]
  },
  {
   "cell_type": "code",
   "execution_count": 24,
   "metadata": {},
   "outputs": [
    {
     "data": {
      "text/plain": [
       "((398209, 60), (44246, 60), (398209, 6), (44246, 6))"
      ]
     },
     "execution_count": 24,
     "metadata": {},
     "output_type": "execute_result"
    }
   ],
   "source": [
    "X_train.shape, X_val.shape, y_train.shape, y_val.shape"
   ]
  },
  {
   "cell_type": "markdown",
   "metadata": {},
   "source": [
    "# 1. LSTM으로 리뷰 점수 분석"
   ]
  },
  {
   "cell_type": "code",
   "execution_count": 25,
   "metadata": {},
   "outputs": [],
   "source": [
    "from tensorflow.keras.layers import Embedding, Dense, LSTM\n",
    "from tensorflow.keras.models import Sequential"
   ]
  },
  {
   "cell_type": "code",
   "execution_count": 26,
   "metadata": {},
   "outputs": [],
   "source": [
    "from keras import backend as K\n",
    "\n",
    "def recall_m(y_true, y_pred):\n",
    "        true_positives = K.sum(K.round(K.clip(y_true * y_pred, 0, 1)))\n",
    "        possible_positives = K.sum(K.round(K.clip(y_true, 0, 1)))\n",
    "        recall = true_positives / (possible_positives + K.epsilon())\n",
    "        return recall\n",
    "\n",
    "def precision_m(y_true, y_pred):\n",
    "        true_positives = K.sum(K.round(K.clip(y_true * y_pred, 0, 1)))\n",
    "        predicted_positives = K.sum(K.round(K.clip(y_pred, 0, 1)))\n",
    "        precision = true_positives / (predicted_positives + K.epsilon())\n",
    "        return precision\n",
    "\n",
    "def f1_m(y_true, y_pred):\n",
    "    precision = precision_m(y_true, y_pred)\n",
    "    recall = recall_m(y_true, y_pred)\n",
    "    return 2*((precision*recall)/(precision+recall+K.epsilon()))"
   ]
  },
  {
   "cell_type": "code",
   "execution_count": 27,
   "metadata": {},
   "outputs": [],
   "source": [
    "from tensorflow.keras.optimizers import Adam\n",
    "from tensorflow.keras import regularizers\n",
    "from tensorflow.keras.layers import Dropout\n",
    "\n",
    "model = Sequential()\n",
    "e = Embedding(vocab_size, 300, weights=[embedding_matrix], input_length=max_len, trainable=False)\n",
    "model.add(e)\n",
    "model.add(LSTM(128))\n",
    "model.add(Dropout(0.5))\n",
    "model.add(Dense(6, activation='softmax',kernel_regularizer=regularizers.l2(0.001)))\n",
    "\n",
    "adam = Adam(learning_rate=0.001)\n",
    "model.compile(optimizer='adam', loss='categorical_crossentropy', metrics=['accuracy', f1_m])"
   ]
  },
  {
   "cell_type": "code",
   "execution_count": 28,
   "metadata": {
    "scrolled": true
   },
   "outputs": [
    {
     "name": "stdout",
     "output_type": "stream",
     "text": [
      "Model: \"sequential\"\n",
      "_________________________________________________________________\n",
      "Layer (type)                 Output Shape              Param #   \n",
      "=================================================================\n",
      "embedding (Embedding)        (None, 60, 300)           26043300  \n",
      "_________________________________________________________________\n",
      "lstm (LSTM)                  (None, 128)               219648    \n",
      "_________________________________________________________________\n",
      "dropout (Dropout)            (None, 128)               0         \n",
      "_________________________________________________________________\n",
      "dense (Dense)                (None, 6)                 774       \n",
      "=================================================================\n",
      "Total params: 26,263,722\n",
      "Trainable params: 220,422\n",
      "Non-trainable params: 26,043,300\n",
      "_________________________________________________________________\n"
     ]
    }
   ],
   "source": [
    "model.summary()"
   ]
  },
  {
   "cell_type": "code",
   "execution_count": 29,
   "metadata": {
    "scrolled": true
   },
   "outputs": [
    {
     "name": "stdout",
     "output_type": "stream",
     "text": [
      "Train on 398209 samples, validate on 44246 samples\n",
      "Epoch 1/20\n",
      "398209/398209 [==============================] - 510s 1ms/sample - loss: 0.9473 - accuracy: 0.5896 - f1_m: 0.5362 - val_loss: 0.8498 - val_accuracy: 0.6312 - val_f1_m: 0.6076\n",
      "Epoch 2/20\n",
      "398209/398209 [==============================] - 500s 1ms/sample - loss: 0.8431 - accuracy: 0.6349 - f1_m: 0.6105 - val_loss: 0.8084 - val_accuracy: 0.6524 - val_f1_m: 0.6199\n",
      "Epoch 3/20\n",
      "398209/398209 [==============================] - 512s 1ms/sample - loss: 0.8037 - accuracy: 0.6512 - f1_m: 0.6327 - val_loss: 0.7777 - val_accuracy: 0.6622 - val_f1_m: 0.6433\n",
      "Epoch 4/20\n",
      "398209/398209 [==============================] - 522s 1ms/sample - loss: 0.7825 - accuracy: 0.6606 - f1_m: 0.6437 - val_loss: 0.7645 - val_accuracy: 0.6669 - val_f1_m: 0.6491\n",
      "Epoch 5/20\n",
      "398209/398209 [==============================] - 535s 1ms/sample - loss: 0.7650 - accuracy: 0.6679 - f1_m: 0.6524 - val_loss: 0.7505 - val_accuracy: 0.6736 - val_f1_m: 0.6616\n",
      "Epoch 6/20\n",
      "398209/398209 [==============================] - 544s 1ms/sample - loss: 0.7530 - accuracy: 0.6732 - f1_m: 0.6582 - val_loss: 0.7564 - val_accuracy: 0.6665 - val_f1_m: 0.6575\n",
      "Epoch 7/20\n",
      "398209/398209 [==============================] - 554s 1ms/sample - loss: 0.7435 - accuracy: 0.6767 - f1_m: 0.6634 - val_loss: 0.7436 - val_accuracy: 0.6784 - val_f1_m: 0.6593\n",
      "Epoch 8/20\n",
      "398209/398209 [==============================] - 566s 1ms/sample - loss: 0.7349 - accuracy: 0.6801 - f1_m: 0.6677 - val_loss: 0.7291 - val_accuracy: 0.6802 - val_f1_m: 0.6678\n",
      "Epoch 9/20\n",
      "398209/398209 [==============================] - 575s 1ms/sample - loss: 0.7273 - accuracy: 0.6833 - f1_m: 0.6711 - val_loss: 0.7254 - val_accuracy: 0.6833 - val_f1_m: 0.6706\n",
      "Epoch 10/20\n",
      "398209/398209 [==============================] - 585s 1ms/sample - loss: 0.7203 - accuracy: 0.6867 - f1_m: 0.6754 - val_loss: 0.7272 - val_accuracy: 0.6836 - val_f1_m: 0.6776\n",
      "Epoch 11/20\n",
      "398209/398209 [==============================] - 593s 1ms/sample - loss: 0.7154 - accuracy: 0.6881 - f1_m: 0.6771 - val_loss: 0.7191 - val_accuracy: 0.6849 - val_f1_m: 0.6747\n",
      "Epoch 12/20\n",
      "398209/398209 [==============================] - 607s 2ms/sample - loss: 0.7097 - accuracy: 0.6910 - f1_m: 0.6802 - val_loss: 0.7153 - val_accuracy: 0.6886 - val_f1_m: 0.6791\n",
      "Epoch 13/20\n",
      "398209/398209 [==============================] - 1073s 3ms/sample - loss: 0.7031 - accuracy: 0.6938 - f1_m: 0.6834 - val_loss: 0.7146 - val_accuracy: 0.6878 - val_f1_m: 0.6799\n",
      "Epoch 14/20\n",
      "398209/398209 [==============================] - 577s 1ms/sample - loss: 0.6983 - accuracy: 0.6970 - f1_m: 0.6865 - val_loss: 0.7113 - val_accuracy: 0.6903 - val_f1_m: 0.6792\n",
      "Epoch 15/20\n",
      "398209/398209 [==============================] - 602s 2ms/sample - loss: 0.6933 - accuracy: 0.6988 - f1_m: 0.6890 - val_loss: 0.7107 - val_accuracy: 0.6877 - val_f1_m: 0.6785\n",
      "Epoch 16/20\n",
      "398209/398209 [==============================] - 593s 1ms/sample - loss: 0.6887 - accuracy: 0.7007 - f1_m: 0.6915 - val_loss: 0.7082 - val_accuracy: 0.6876 - val_f1_m: 0.6775\n",
      "Epoch 17/20\n",
      "398209/398209 [==============================] - 593s 1ms/sample - loss: 0.6837 - accuracy: 0.7025 - f1_m: 0.6935 - val_loss: 0.7150 - val_accuracy: 0.6895 - val_f1_m: 0.6844\n",
      "Epoch 18/20\n",
      "398209/398209 [==============================] - 593s 1ms/sample - loss: 0.6792 - accuracy: 0.7049 - f1_m: 0.6965 - val_loss: 0.7084 - val_accuracy: 0.6891 - val_f1_m: 0.6798\n",
      "Epoch 19/20\n",
      "398209/398209 [==============================] - 606s 2ms/sample - loss: 0.6751 - accuracy: 0.7070 - f1_m: 0.6984 - val_loss: 0.7203 - val_accuracy: 0.6858 - val_f1_m: 0.6776\n",
      "Epoch 20/20\n",
      "398209/398209 [==============================] - 1873s 5ms/sample - loss: 0.6705 - accuracy: 0.7089 - f1_m: 0.7003 - val_loss: 0.7141 - val_accuracy: 0.6871 - val_f1_m: 0.6806\n"
     ]
    }
   ],
   "source": [
    "history = model.fit(X_train, y_train, epochs = 20, batch_size = 512, validation_data = (X_val, y_val))"
   ]
  },
  {
   "cell_type": "code",
   "execution_count": 31,
   "metadata": {},
   "outputs": [
    {
     "data": {
      "image/png": "[encoded data removed]",
      "text/plain": [
       "<Figure size 432x288 with 2 Axes>"
      ]
     },
     "metadata": {
      "needs_background": "light"
     },
     "output_type": "display_data"
    }
   ],
   "source": [
    "fig, loss_ax = plt.subplots()\n",
    "acc_ax = loss_ax.twinx()\n",
    "\n",
    "acc_ax.plot(history.history['f1_m'], 'b', label='train f1')\n",
    "acc_ax.plot(history.history['val_f1_m'], 'g', label='val f1')\n",
    "acc_ax.set_ylabel('accuracy')\n",
    "acc_ax.legend(loc='upper left')\n",
    "\n",
    "plt.show()"
   ]
  },
  {
   "cell_type": "code",
   "execution_count": 32,
   "metadata": {},
   "outputs": [
    {
     "data": {
      "image/png": "[encoded data removed]",
      "text/plain": [
       "<Figure size 432x288 with 2 Axes>"
      ]
     },
     "metadata": {
      "needs_background": "light"
     },
     "output_type": "display_data"
    }
   ],
   "source": [
    "fig, loss_ax = plt.subplots()\n",
    "acc_ax = loss_ax.twinx()\n",
    "\n",
    "acc_ax.plot(history.history['accuracy'], 'b', label='train acc')\n",
    "acc_ax.plot(history.history['val_accuracy'], 'g', label='val acc')\n",
    "acc_ax.set_ylabel('accuracy')\n",
    "acc_ax.legend(loc='upper left')\n",
    "\n",
    "plt.show()"
   ]
  },
  {
   "cell_type": "code",
   "execution_count": 33,
   "metadata": {},
   "outputs": [
    {
     "data": {
      "image/png": "[encoded data removed]",
      "text/plain": [
       "<Figure size 432x288 with 2 Axes>"
      ]
     },
     "metadata": {
      "needs_background": "light"
     },
     "output_type": "display_data"
    }
   ],
   "source": [
    "fig, loss_ax = plt.subplots()\n",
    "acc_ax = loss_ax.twinx()\n",
    "\n",
    "loss_ax.plot(history.history['loss'], 'y', label='train loss')\n",
    "loss_ax.plot(history.history['val_loss'], 'r', label='val loss')\n",
    "loss_ax.set_xlabel('epoch')\n",
    "loss_ax.set_ylabel('loss')\n",
    "loss_ax.legend(loc='upper right')\n",
    "\n",
    "plt.show()"
   ]
  },
  {
   "cell_type": "code",
   "execution_count": null,
   "metadata": {},
   "outputs": [],
   "source": []
  }
 ],
 "metadata": {
  "kernelspec": {
   "display_name": "Python 3",
   "language": "python",
   "name": "python3"
  },
  "language_info": {
   "codemirror_mode": {
    "name": "ipython",
    "version": 3
   },
   "file_extension": ".py",
   "mimetype": "text/x-python",
   "name": "python",
   "nbconvert_exporter": "python",
   "pygments_lexer": "ipython3",
   "version": "3.7.4"
  }
 },
 "nbformat": 4,
 "nbformat_minor": 4
}
