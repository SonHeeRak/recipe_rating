{
  "nbformat": 4,
  "nbformat_minor": 0,
  "metadata": {
    "kernelspec": {
      "name": "python3",
      "display_name": "Python 3"
    },
    "language_info": {
      "codemirror_mode": {
        "name": "ipython",
        "version": 3
      },
      "file_extension": ".py",
      "mimetype": "text/x-python",
      "name": "python",
      "nbconvert_exporter": "python",
      "pygments_lexer": "ipython3",
      "version": "3.6.8"
    },
    "colab": {
      "name": "20200201_hrson.ipynb",
      "provenance": [],
      "machine_shape": "hm",
      "include_colab_link": true
    },
    "accelerator": "GPU"
  },
  "cells": [
    {
      "cell_type": "markdown",
      "metadata": {
        "id": "view-in-github",
        "colab_type": "text"
      },
      "source": [
        "<a href=\"https://colab.research.google.com/github/sooyeon-go/recipe_rating/blob/master/preprocessing/20200206_hrson(lr%3D0.001%20%26%20batchsize%3D256%20%26%20dropout%3D0.5%20%26%20LSTM(64)).ipynb\" target=\"_parent\"><img src=\"https://colab.research.google.com/assets/colab-badge.svg\" alt=\"Open In Colab\"/></a>"
      ]
    },
    {
      "cell_type": "code",
      "metadata": {
        "id": "lYnWOiAIu7IR",
        "colab_type": "code",
        "colab": {
          "base_uri": "https://localhost:8080/",
          "height": 1000
        },
        "outputId": "5e17e47d-b58d-4433-dea2-6ec084d188c1"
      },
      "source": [
        "!pip install tensorflow-gpu==2.0.0"
      ],
      "execution_count": 1,
      "outputs": [
        {
          "output_type": "stream",
          "text": [
            "Collecting tensorflow-gpu==2.0.0\n",
            "\u001b[?25l  Downloading https://files.pythonhosted.org/packages/25/44/47f0722aea081697143fbcf5d2aa60d1aee4aaacb5869aee2b568974777b/tensorflow_gpu-2.0.0-cp36-cp36m-manylinux2010_x86_64.whl (380.8MB)\n",
            "\u001b[K     |████████████████████████████████| 380.8MB 40kB/s \n",
            "\u001b[?25hRequirement already satisfied: google-pasta>=0.1.6 in /usr/local/lib/python3.6/dist-packages (from tensorflow-gpu==2.0.0) (0.1.8)\n",
            "Collecting tensorboard<2.1.0,>=2.0.0\n",
            "\u001b[?25l  Downloading https://files.pythonhosted.org/packages/76/54/99b9d5d52d5cb732f099baaaf7740403e83fe6b0cedde940fabd2b13d75a/tensorboard-2.0.2-py3-none-any.whl (3.8MB)\n",
            "\u001b[K     |████████████████████████████████| 3.8MB 46.7MB/s \n",
            "\u001b[?25hRequirement already satisfied: protobuf>=3.6.1 in /usr/local/lib/python3.6/dist-packages (from tensorflow-gpu==2.0.0) (3.10.0)\n",
            "Requirement already satisfied: termcolor>=1.1.0 in /usr/local/lib/python3.6/dist-packages (from tensorflow-gpu==2.0.0) (1.1.0)\n",
            "Requirement already satisfied: gast==0.2.2 in /usr/local/lib/python3.6/dist-packages (from tensorflow-gpu==2.0.0) (0.2.2)\n",
            "Requirement already satisfied: wrapt>=1.11.1 in /usr/local/lib/python3.6/dist-packages (from tensorflow-gpu==2.0.0) (1.11.2)\n",
            "Requirement already satisfied: astor>=0.6.0 in /usr/local/lib/python3.6/dist-packages (from tensorflow-gpu==2.0.0) (0.8.1)\n",
            "Requirement already satisfied: grpcio>=1.8.6 in /usr/local/lib/python3.6/dist-packages (from tensorflow-gpu==2.0.0) (1.15.0)\n",
            "Requirement already satisfied: keras-applications>=1.0.8 in /usr/local/lib/python3.6/dist-packages (from tensorflow-gpu==2.0.0) (1.0.8)\n",
            "Requirement already satisfied: opt-einsum>=2.3.2 in /usr/local/lib/python3.6/dist-packages (from tensorflow-gpu==2.0.0) (3.1.0)\n",
            "Requirement already satisfied: wheel>=0.26 in /usr/local/lib/python3.6/dist-packages (from tensorflow-gpu==2.0.0) (0.34.2)\n",
            "Requirement already satisfied: keras-preprocessing>=1.0.5 in /usr/local/lib/python3.6/dist-packages (from tensorflow-gpu==2.0.0) (1.1.0)\n",
            "Requirement already satisfied: numpy<2.0,>=1.16.0 in /usr/local/lib/python3.6/dist-packages (from tensorflow-gpu==2.0.0) (1.17.5)\n",
            "Requirement already satisfied: absl-py>=0.7.0 in /usr/local/lib/python3.6/dist-packages (from tensorflow-gpu==2.0.0) (0.9.0)\n",
            "Requirement already satisfied: six>=1.10.0 in /usr/local/lib/python3.6/dist-packages (from tensorflow-gpu==2.0.0) (1.12.0)\n",
            "Collecting tensorflow-estimator<2.1.0,>=2.0.0\n",
            "\u001b[?25l  Downloading https://files.pythonhosted.org/packages/fc/08/8b927337b7019c374719145d1dceba21a8bb909b93b1ad6f8fb7d22c1ca1/tensorflow_estimator-2.0.1-py2.py3-none-any.whl (449kB)\n",
            "\u001b[K     |████████████████████████████████| 450kB 66.8MB/s \n",
            "\u001b[?25hRequirement already satisfied: markdown>=2.6.8 in /usr/local/lib/python3.6/dist-packages (from tensorboard<2.1.0,>=2.0.0->tensorflow-gpu==2.0.0) (3.1.1)\n",
            "Requirement already satisfied: setuptools>=41.0.0 in /usr/local/lib/python3.6/dist-packages (from tensorboard<2.1.0,>=2.0.0->tensorflow-gpu==2.0.0) (45.1.0)\n",
            "Requirement already satisfied: google-auth-oauthlib<0.5,>=0.4.1 in /usr/local/lib/python3.6/dist-packages (from tensorboard<2.1.0,>=2.0.0->tensorflow-gpu==2.0.0) (0.4.1)\n",
            "Requirement already satisfied: requests<3,>=2.21.0 in /usr/local/lib/python3.6/dist-packages (from tensorboard<2.1.0,>=2.0.0->tensorflow-gpu==2.0.0) (2.21.0)\n",
            "Requirement already satisfied: werkzeug>=0.11.15 in /usr/local/lib/python3.6/dist-packages (from tensorboard<2.1.0,>=2.0.0->tensorflow-gpu==2.0.0) (0.16.1)\n",
            "Collecting google-auth<2,>=1.6.3\n",
            "\u001b[?25l  Downloading https://files.pythonhosted.org/packages/1c/6d/7aae38a9022f982cf8167775c7fc299f203417b698c27080ce09060bba07/google_auth-1.11.0-py2.py3-none-any.whl (76kB)\n",
            "\u001b[K     |████████████████████████████████| 81kB 14.5MB/s \n",
            "\u001b[?25hRequirement already satisfied: h5py in /usr/local/lib/python3.6/dist-packages (from keras-applications>=1.0.8->tensorflow-gpu==2.0.0) (2.8.0)\n",
            "Requirement already satisfied: requests-oauthlib>=0.7.0 in /usr/local/lib/python3.6/dist-packages (from google-auth-oauthlib<0.5,>=0.4.1->tensorboard<2.1.0,>=2.0.0->tensorflow-gpu==2.0.0) (1.3.0)\n",
            "Requirement already satisfied: idna<2.9,>=2.5 in /usr/local/lib/python3.6/dist-packages (from requests<3,>=2.21.0->tensorboard<2.1.0,>=2.0.0->tensorflow-gpu==2.0.0) (2.8)\n",
            "Requirement already satisfied: urllib3<1.25,>=1.21.1 in /usr/local/lib/python3.6/dist-packages (from requests<3,>=2.21.0->tensorboard<2.1.0,>=2.0.0->tensorflow-gpu==2.0.0) (1.24.3)\n",
            "Requirement already satisfied: chardet<3.1.0,>=3.0.2 in /usr/local/lib/python3.6/dist-packages (from requests<3,>=2.21.0->tensorboard<2.1.0,>=2.0.0->tensorflow-gpu==2.0.0) (3.0.4)\n",
            "Requirement already satisfied: certifi>=2017.4.17 in /usr/local/lib/python3.6/dist-packages (from requests<3,>=2.21.0->tensorboard<2.1.0,>=2.0.0->tensorflow-gpu==2.0.0) (2019.11.28)\n",
            "Requirement already satisfied: rsa<4.1,>=3.1.4 in /usr/local/lib/python3.6/dist-packages (from google-auth<2,>=1.6.3->tensorboard<2.1.0,>=2.0.0->tensorflow-gpu==2.0.0) (4.0)\n",
            "Requirement already satisfied: cachetools<5.0,>=2.0.0 in /usr/local/lib/python3.6/dist-packages (from google-auth<2,>=1.6.3->tensorboard<2.1.0,>=2.0.0->tensorflow-gpu==2.0.0) (4.0.0)\n",
            "Requirement already satisfied: pyasn1-modules>=0.2.1 in /usr/local/lib/python3.6/dist-packages (from google-auth<2,>=1.6.3->tensorboard<2.1.0,>=2.0.0->tensorflow-gpu==2.0.0) (0.2.8)\n",
            "Requirement already satisfied: oauthlib>=3.0.0 in /usr/local/lib/python3.6/dist-packages (from requests-oauthlib>=0.7.0->google-auth-oauthlib<0.5,>=0.4.1->tensorboard<2.1.0,>=2.0.0->tensorflow-gpu==2.0.0) (3.1.0)\n",
            "Requirement already satisfied: pyasn1>=0.1.3 in /usr/local/lib/python3.6/dist-packages (from rsa<4.1,>=3.1.4->google-auth<2,>=1.6.3->tensorboard<2.1.0,>=2.0.0->tensorflow-gpu==2.0.0) (0.4.8)\n",
            "\u001b[31mERROR: tensorflow 1.15.0 has requirement tensorboard<1.16.0,>=1.15.0, but you'll have tensorboard 2.0.2 which is incompatible.\u001b[0m\n",
            "\u001b[31mERROR: tensorflow 1.15.0 has requirement tensorflow-estimator==1.15.1, but you'll have tensorflow-estimator 2.0.1 which is incompatible.\u001b[0m\n",
            "\u001b[31mERROR: tensorboard 2.0.2 has requirement grpcio>=1.24.3, but you'll have grpcio 1.15.0 which is incompatible.\u001b[0m\n",
            "\u001b[31mERROR: google-colab 1.0.0 has requirement google-auth~=1.4.0, but you'll have google-auth 1.11.0 which is incompatible.\u001b[0m\n",
            "Installing collected packages: google-auth, tensorboard, tensorflow-estimator, tensorflow-gpu\n",
            "  Found existing installation: google-auth 1.4.2\n",
            "    Uninstalling google-auth-1.4.2:\n",
            "      Successfully uninstalled google-auth-1.4.2\n",
            "  Found existing installation: tensorboard 1.15.0\n",
            "    Uninstalling tensorboard-1.15.0:\n",
            "      Successfully uninstalled tensorboard-1.15.0\n",
            "  Found existing installation: tensorflow-estimator 1.15.1\n",
            "    Uninstalling tensorflow-estimator-1.15.1:\n",
            "      Successfully uninstalled tensorflow-estimator-1.15.1\n",
            "Successfully installed google-auth-1.11.0 tensorboard-2.0.2 tensorflow-estimator-2.0.1 tensorflow-gpu-2.0.0\n"
          ],
          "name": "stdout"
        },
        {
          "output_type": "display_data",
          "data": {
            "application/vnd.colab-display-data+json": {
              "pip_warning": {
                "packages": [
                  "google"
                ]
              }
            }
          },
          "metadata": {
            "tags": []
          }
        }
      ]
    },
    {
      "cell_type": "code",
      "metadata": {
        "id": "PQtwRwU-vXh1",
        "colab_type": "code",
        "outputId": "9bdf7274-c01a-4126-e33f-88d8ae60d8d8",
        "colab": {
          "base_uri": "https://localhost:8080/",
          "height": 34
        }
      },
      "source": [
        "import tensorflow\n",
        "tensorflow.__version__"
      ],
      "execution_count": 1,
      "outputs": [
        {
          "output_type": "execute_result",
          "data": {
            "text/plain": [
              "'2.0.0'"
            ]
          },
          "metadata": {
            "tags": []
          },
          "execution_count": 1
        }
      ]
    },
    {
      "cell_type": "code",
      "metadata": {
        "id": "xXLeU3Ptm9cg",
        "colab_type": "code",
        "outputId": "c1653aa7-15b1-4075-e84d-d09364b04d01",
        "colab": {
          "base_uri": "https://localhost:8080/",
          "height": 34
        }
      },
      "source": [
        "import pandas as pd\n",
        "import random\n",
        "import re\n",
        "from nltk.tokenize import word_tokenize, sent_tokenize\n",
        "import matplotlib.pyplot as plt\n",
        "%matplotlib inline\n",
        "from tensorflow.keras.preprocessing.text import Tokenizer\n",
        "import numpy as np\n",
        "from tensorflow.keras.preprocessing.sequence import pad_sequences\n",
        "from sklearn.model_selection import train_test_split\n",
        "from keras.utils import to_categorical"
      ],
      "execution_count": 2,
      "outputs": [
        {
          "output_type": "stream",
          "text": [
            "Using TensorFlow backend.\n"
          ],
          "name": "stderr"
        }
      ]
    },
    {
      "cell_type": "code",
      "metadata": {
        "id": "7d5o9B8tpHRa",
        "colab_type": "code",
        "outputId": "087fee09-bf7e-4efc-de8a-7f7d57de19e4",
        "colab": {
          "base_uri": "https://localhost:8080/",
          "height": 125
        }
      },
      "source": [
        "from google.colab import drive\n",
        "drive.mount('/content/drive')"
      ],
      "execution_count": 3,
      "outputs": [
        {
          "output_type": "stream",
          "text": [
            "Go to this URL in a browser: https://accounts.google.com/o/oauth2/auth?client_id=947318989803-6bn6qk8qdgf4n4g3pfee6491hc0brc4i.apps.googleusercontent.com&redirect_uri=urn%3aietf%3awg%3aoauth%3a2.0%3aoob&response_type=code&scope=email%20https%3a%2f%2fwww.googleapis.com%2fauth%2fdocs.test%20https%3a%2f%2fwww.googleapis.com%2fauth%2fdrive%20https%3a%2f%2fwww.googleapis.com%2fauth%2fdrive.photos.readonly%20https%3a%2f%2fwww.googleapis.com%2fauth%2fpeopleapi.readonly\n",
            "\n",
            "Enter your authorization code:\n",
            "··········\n",
            "Mounted at /content/drive\n"
          ],
          "name": "stdout"
        }
      ]
    },
    {
      "cell_type": "markdown",
      "metadata": {
        "id": "QX5Wgmahm9co",
        "colab_type": "text"
      },
      "source": [
        "# review_rating data EDA"
      ]
    },
    {
      "cell_type": "code",
      "metadata": {
        "id": "pA65H3idm9cp",
        "colab_type": "code",
        "colab": {}
      },
      "source": [
        "review_rating = pd.read_csv('/content/drive/My Drive/review_rating.csv')"
      ],
      "execution_count": 0,
      "outputs": []
    },
    {
      "cell_type": "code",
      "metadata": {
        "id": "J_sGqERqm9ct",
        "colab_type": "code",
        "outputId": "14ec50ca-40b5-4cbd-83b3-a3dbd91a3ebb",
        "colab": {
          "base_uri": "https://localhost:8080/",
          "height": 195
        }
      },
      "source": [
        "review_rating = review_rating.astype({'rating': 'category'})\n",
        "review_rating.head()"
      ],
      "execution_count": 5,
      "outputs": [
        {
          "output_type": "execute_result",
          "data": {
            "text/html": [
              "<div>\n",
              "<style scoped>\n",
              "    .dataframe tbody tr th:only-of-type {\n",
              "        vertical-align: middle;\n",
              "    }\n",
              "\n",
              "    .dataframe tbody tr th {\n",
              "        vertical-align: top;\n",
              "    }\n",
              "\n",
              "    .dataframe thead th {\n",
              "        text-align: right;\n",
              "    }\n",
              "</style>\n",
              "<table border=\"1\" class=\"dataframe\">\n",
              "  <thead>\n",
              "    <tr style=\"text-align: right;\">\n",
              "      <th></th>\n",
              "      <th>review</th>\n",
              "      <th>rating</th>\n",
              "    </tr>\n",
              "  </thead>\n",
              "  <tbody>\n",
              "    <tr>\n",
              "      <th>0</th>\n",
              "      <td>Great with a salad. Cooked on top of stove for...</td>\n",
              "      <td>4</td>\n",
              "    </tr>\n",
              "    <tr>\n",
              "      <th>1</th>\n",
              "      <td>This worked very well and is EASY.  I used not...</td>\n",
              "      <td>4</td>\n",
              "    </tr>\n",
              "    <tr>\n",
              "      <th>2</th>\n",
              "      <td>very very sweet. after i waited the 2 days i b...</td>\n",
              "      <td>4</td>\n",
              "    </tr>\n",
              "    <tr>\n",
              "      <th>3</th>\n",
              "      <td>This recipe was OVERLY too sweet.  I would sta...</td>\n",
              "      <td>2</td>\n",
              "    </tr>\n",
              "    <tr>\n",
              "      <th>4</th>\n",
              "      <td>Very good!</td>\n",
              "      <td>4</td>\n",
              "    </tr>\n",
              "  </tbody>\n",
              "</table>\n",
              "</div>"
            ],
            "text/plain": [
              "                                              review rating\n",
              "0  Great with a salad. Cooked on top of stove for...      4\n",
              "1  This worked very well and is EASY.  I used not...      4\n",
              "2  very very sweet. after i waited the 2 days i b...      4\n",
              "3  This recipe was OVERLY too sweet.  I would sta...      2\n",
              "4                                         Very good!      4"
            ]
          },
          "metadata": {
            "tags": []
          },
          "execution_count": 5
        }
      ]
    },
    {
      "cell_type": "code",
      "metadata": {
        "id": "MLTGPNqLm9cx",
        "colab_type": "code",
        "outputId": "07a848f1-dda5-474f-ed8d-3d3d8318390f",
        "colab": {
          "base_uri": "https://localhost:8080/",
          "height": 280
        }
      },
      "source": [
        "review_rating['rating'].value_counts().plot(kind='bar')"
      ],
      "execution_count": 6,
      "outputs": [
        {
          "output_type": "execute_result",
          "data": {
            "text/plain": [
              "<matplotlib.axes._subplots.AxesSubplot at 0x7fa4c4dcd128>"
            ]
          },
          "metadata": {
            "tags": []
          },
          "execution_count": 6
        },
        {
          "output_type": "display_data",
          "data": {
            "image/png": "[encoded data removed]",
            "text/plain": [
              "<Figure size 432x288 with 1 Axes>"
            ]
          },
          "metadata": {
            "tags": []
          }
        }
      ]
    },
    {
      "cell_type": "code",
      "metadata": {
        "id": "86enQghpm9c1",
        "colab_type": "code",
        "outputId": "a6e74895-52f3-4b4e-ea2b-28d6eb5542b3",
        "colab": {
          "base_uri": "https://localhost:8080/",
          "height": 122
        }
      },
      "source": [
        "print(review_rating.groupby('rating').size().reset_index(name='count'))"
      ],
      "execution_count": 7,
      "outputs": [
        {
          "output_type": "stream",
          "text": [
            "  rating   count\n",
            "0      1   12815\n",
            "1      2   14122\n",
            "2      3   40852\n",
            "3      4  187333\n",
            "4      5  187333\n"
          ],
          "name": "stdout"
        }
      ]
    },
    {
      "cell_type": "code",
      "metadata": {
        "id": "ZZNW4RfYm9c4",
        "colab_type": "code",
        "outputId": "18ef8848-a678-4d12-b626-e0cb52fdd8f5",
        "colab": {
          "base_uri": "https://localhost:8080/",
          "height": 34
        }
      },
      "source": [
        "review_rating.isnull().values.any()"
      ],
      "execution_count": 8,
      "outputs": [
        {
          "output_type": "execute_result",
          "data": {
            "text/plain": [
              "False"
            ]
          },
          "metadata": {
            "tags": []
          },
          "execution_count": 8
        }
      ]
    },
    {
      "cell_type": "code",
      "metadata": {
        "id": "IMq6wPW_m9c9",
        "colab_type": "code",
        "outputId": "b47d17a6-d9c1-4217-923b-2870698f5162",
        "colab": {
          "base_uri": "https://localhost:8080/",
          "height": 34
        }
      },
      "source": [
        "review_rating.drop_duplicates(inplace=True)\n",
        "review_rating.duplicated().sum()"
      ],
      "execution_count": 9,
      "outputs": [
        {
          "output_type": "execute_result",
          "data": {
            "text/plain": [
              "0"
            ]
          },
          "metadata": {
            "tags": []
          },
          "execution_count": 9
        }
      ]
    },
    {
      "cell_type": "code",
      "metadata": {
        "id": "1WqxwE2Zm9dB",
        "colab_type": "code",
        "outputId": "9f705d34-da58-4e56-8fcf-f3677b51ca59",
        "colab": {
          "base_uri": "https://localhost:8080/",
          "height": 122
        }
      },
      "source": [
        "print(review_rating.groupby('rating').size().reset_index(name='count'))"
      ],
      "execution_count": 10,
      "outputs": [
        {
          "output_type": "stream",
          "text": [
            "  rating   count\n",
            "0      1   12784\n",
            "1      2   14113\n",
            "2      3   40786\n",
            "3      4  186723\n",
            "4      5  186512\n"
          ],
          "name": "stdout"
        }
      ]
    },
    {
      "cell_type": "code",
      "metadata": {
        "id": "IfGxB6Gfm9dE",
        "colab_type": "code",
        "outputId": "6a0f5849-70e4-460e-e8bd-c39cca064bf4",
        "colab": {
          "base_uri": "https://localhost:8080/",
          "height": 34
        }
      },
      "source": [
        "len(review_rating)"
      ],
      "execution_count": 11,
      "outputs": [
        {
          "output_type": "execute_result",
          "data": {
            "text/plain": [
              "440918"
            ]
          },
          "metadata": {
            "tags": []
          },
          "execution_count": 11
        }
      ]
    },
    {
      "cell_type": "code",
      "metadata": {
        "id": "l1v8sRrKm9dJ",
        "colab_type": "code",
        "outputId": "1f7b3afb-9f8e-4fae-ccc6-b7debffa027b",
        "colab": {
          "base_uri": "https://localhost:8080/",
          "height": 195
        }
      },
      "source": [
        "review_rating['review'] = review_rating['review'].str.replace(\"[^a-zA-Z ]\", '')\n",
        "review_rating.head()"
      ],
      "execution_count": 12,
      "outputs": [
        {
          "output_type": "execute_result",
          "data": {
            "text/html": [
              "<div>\n",
              "<style scoped>\n",
              "    .dataframe tbody tr th:only-of-type {\n",
              "        vertical-align: middle;\n",
              "    }\n",
              "\n",
              "    .dataframe tbody tr th {\n",
              "        vertical-align: top;\n",
              "    }\n",
              "\n",
              "    .dataframe thead th {\n",
              "        text-align: right;\n",
              "    }\n",
              "</style>\n",
              "<table border=\"1\" class=\"dataframe\">\n",
              "  <thead>\n",
              "    <tr style=\"text-align: right;\">\n",
              "      <th></th>\n",
              "      <th>review</th>\n",
              "      <th>rating</th>\n",
              "    </tr>\n",
              "  </thead>\n",
              "  <tbody>\n",
              "    <tr>\n",
              "      <th>0</th>\n",
              "      <td>Great with a salad Cooked on top of stove for ...</td>\n",
              "      <td>4</td>\n",
              "    </tr>\n",
              "    <tr>\n",
              "      <th>1</th>\n",
              "      <td>This worked very well and is EASY  I used not ...</td>\n",
              "      <td>4</td>\n",
              "    </tr>\n",
              "    <tr>\n",
              "      <th>2</th>\n",
              "      <td>very very sweet after i waited the  days i bou...</td>\n",
              "      <td>4</td>\n",
              "    </tr>\n",
              "    <tr>\n",
              "      <th>3</th>\n",
              "      <td>This recipe was OVERLY too sweet  I would star...</td>\n",
              "      <td>2</td>\n",
              "    </tr>\n",
              "    <tr>\n",
              "      <th>4</th>\n",
              "      <td>Very good</td>\n",
              "      <td>4</td>\n",
              "    </tr>\n",
              "  </tbody>\n",
              "</table>\n",
              "</div>"
            ],
            "text/plain": [
              "                                              review rating\n",
              "0  Great with a salad Cooked on top of stove for ...      4\n",
              "1  This worked very well and is EASY  I used not ...      4\n",
              "2  very very sweet after i waited the  days i bou...      4\n",
              "3  This recipe was OVERLY too sweet  I would star...      2\n",
              "4                                          Very good      4"
            ]
          },
          "metadata": {
            "tags": []
          },
          "execution_count": 12
        }
      ]
    },
    {
      "cell_type": "code",
      "metadata": {
        "id": "X779x20IqL1H",
        "colab_type": "code",
        "outputId": "374c3306-5036-471b-c174-4a3201dd2c4b",
        "colab": {
          "base_uri": "https://localhost:8080/",
          "height": 105
        }
      },
      "source": [
        "import nltk\n",
        "nltk.download('stopwords')\n",
        "nltk.download('punkt')"
      ],
      "execution_count": 13,
      "outputs": [
        {
          "output_type": "stream",
          "text": [
            "[nltk_data] Downloading package stopwords to /root/nltk_data...\n",
            "[nltk_data]   Unzipping corpora/stopwords.zip.\n",
            "[nltk_data] Downloading package punkt to /root/nltk_data...\n",
            "[nltk_data]   Unzipping tokenizers/punkt.zip.\n"
          ],
          "name": "stdout"
        },
        {
          "output_type": "execute_result",
          "data": {
            "text/plain": [
              "True"
            ]
          },
          "metadata": {
            "tags": []
          },
          "execution_count": 13
        }
      ]
    },
    {
      "cell_type": "code",
      "metadata": {
        "id": "SO5O048Nm9dN",
        "colab_type": "code",
        "outputId": "2ce117dc-7b5c-4bdb-e814-a66e3f919562",
        "colab": {
          "base_uri": "https://localhost:8080/",
          "height": 34
        }
      },
      "source": [
        "from nltk.corpus import stopwords  \n",
        "stopwords.words('english')[:10]"
      ],
      "execution_count": 14,
      "outputs": [
        {
          "output_type": "execute_result",
          "data": {
            "text/plain": [
              "['i', 'me', 'my', 'myself', 'we', 'our', 'ours', 'ourselves', 'you', \"you're\"]"
            ]
          },
          "metadata": {
            "tags": []
          },
          "execution_count": 14
        }
      ]
    },
    {
      "cell_type": "code",
      "metadata": {
        "id": "8aF77siim9dR",
        "colab_type": "code",
        "colab": {}
      },
      "source": [
        "from nltk.corpus import stopwords \n",
        "from nltk.tokenize import word_tokenize \n",
        "\n",
        "sentences = []\n",
        "stop_words = set(stopwords.words('english')) \n",
        "\n",
        "for i in review_rating['review']:\n",
        "    sentence = word_tokenize(i)\n",
        "    result = []\n",
        "    \n",
        "    for word in sentence:\n",
        "        word = word.lower() # 모든 단어를 소문자화하여 단어의 개수를 줄입니다.\n",
        "        if word not in stop_words:\n",
        "            if len(word) > 2:\n",
        "                result.append(word)\n",
        "    sentences.append(result)"
      ],
      "execution_count": 0,
      "outputs": []
    },
    {
      "cell_type": "code",
      "metadata": {
        "id": "EaW5uCT6m9dT",
        "colab_type": "code",
        "outputId": "50089528-a37c-477b-f3df-4d00dd33b29f",
        "colab": {
          "base_uri": "https://localhost:8080/",
          "height": 54
        }
      },
      "source": [
        "print(sentences[:5])"
      ],
      "execution_count": 16,
      "outputs": [
        {
          "output_type": "stream",
          "text": [
            "[['great', 'salad', 'cooked', 'top', 'stove', 'minutesadded', 'shake', 'cayenne', 'pinch', 'salt', 'used', 'low', 'fat', 'sour', 'cream', 'thanks'], ['worked', 'well', 'easy', 'used', 'quite', 'whole', 'package', 'white', 'chips', 'great'], ['sweet', 'waited', 'days', 'bought', 'pints', 'raspberries', 'added', 'mix', 'going', 'add', 'cake', 'filling', 'today', 'take', 'photo'], ['recipe', 'overly', 'sweet', 'would', 'start', 'cup', 'sugar', 'jsut', 'add', 'cups', 'way', 'much', 'back', 'grocery', 'store', 'buy', 'raspberries', 'made', 'much', 'mix', 'overall', 'would', 'long', 'narrow', 'box', 'raspberries', 'perfect', 'fit', 'recipe', 'plus', 'little', 'extra', 'impressed', 'recipe', 'exceptionally', 'oversweet', 'make', 'simple', 'recipe', 'make', 'sure', 'add', 'less', 'sugar'], ['good']]\n"
          ],
          "name": "stdout"
        }
      ]
    },
    {
      "cell_type": "code",
      "metadata": {
        "id": "Dkj2yW3am9dW",
        "colab_type": "code",
        "colab": {}
      },
      "source": [
        "max_words = 35000\n",
        "tokenizer = Tokenizer(num_words=max_words) # 상위 35,000개의 단어만 보존\n",
        "tokenizer.fit_on_texts(sentences)\n",
        "review_data = tokenizer.texts_to_sequences(sentences)"
      ],
      "execution_count": 0,
      "outputs": []
    },
    {
      "cell_type": "code",
      "metadata": {
        "id": "CEKlsHwum9dZ",
        "colab_type": "code",
        "outputId": "498a5ea5-c422-4b3a-f9c0-596c9cf1164c",
        "colab": {
          "base_uri": "https://localhost:8080/",
          "height": 54
        }
      },
      "source": [
        "print(review_data[:5])"
      ],
      "execution_count": 18,
      "outputs": [
        {
          "output_type": "stream",
          "text": [
            "[[7, 97, 65, 85, 721, 1699, 446, 790, 71, 3, 216, 187, 209, 43, 6], [188, 33, 12, 3, 112, 96, 907, 169, 240, 7], [50, 2241, 577, 515, 3210, 1401, 10, 109, 173, 23, 75, 179, 359, 277, 629], [1, 1043, 50, 13, 658, 55, 36, 10209, 23, 210, 47, 22, 171, 1164, 432, 622, 1401, 2, 22, 109, 402, 13, 250, 8125, 745, 1401, 77, 832, 1, 537, 15, 104, 915, 1, 3917, 12010, 5, 107, 1, 5, 78, 23, 140, 36], [4]]\n"
          ],
          "name": "stdout"
        }
      ]
    },
    {
      "cell_type": "code",
      "metadata": {
        "id": "VBHutU4Nm9de",
        "colab_type": "code",
        "outputId": "cd9617c8-2d41-4f30-825b-f32516a6bfba",
        "colab": {
          "base_uri": "https://localhost:8080/",
          "height": 314
        }
      },
      "source": [
        "print('리뷰의 최대 길이 :',max(len(l) for l in review_data))\n",
        "print('리뷰의 평균 길이 :',sum(map(len, review_data))/len(review_data))\n",
        "plt.hist([len(s) for s in review_data], bins=200)\n",
        "plt.xlabel('length of Data')\n",
        "plt.ylabel('number of Data')\n",
        "plt.show()"
      ],
      "execution_count": 19,
      "outputs": [
        {
          "output_type": "stream",
          "text": [
            "리뷰의 최대 길이 : 619\n",
            "리뷰의 평균 길이 : 26.45106573104296\n"
          ],
          "name": "stdout"
        },
        {
          "output_type": "display_data",
          "data": {
            "image/png": "[encoded data removed]",
            "text/plain": [
              "<Figure size 432x288 with 1 Axes>"
            ]
          },
          "metadata": {
            "tags": []
          }
        }
      ]
    },
    {
      "cell_type": "code",
      "metadata": {
        "id": "TT6IBoYum9dh",
        "colab_type": "code",
        "colab": {}
      },
      "source": [
        "max_len = 60 # 전체 데이터의 길이는 60으로 맞춘다.\n",
        "review_data = pad_sequences(review_data, maxlen=max_len)"
      ],
      "execution_count": 0,
      "outputs": []
    },
    {
      "cell_type": "code",
      "metadata": {
        "id": "h1ToVHYjm9dk",
        "colab_type": "code",
        "colab": {}
      },
      "source": [
        "rating_data = np.array(review_rating['rating'])"
      ],
      "execution_count": 0,
      "outputs": []
    },
    {
      "cell_type": "markdown",
      "metadata": {
        "id": "nDl_P36Tm9dm",
        "colab_type": "text"
      },
      "source": [
        "# Fasttext"
      ]
    },
    {
      "cell_type": "code",
      "metadata": {
        "colab_type": "code",
        "outputId": "9639716d-a856-451f-c45a-ac45d3a1dc34",
        "id": "CiwAuq7DuivU",
        "colab": {
          "base_uri": "https://localhost:8080/",
          "height": 72
        }
      },
      "source": [
        "from __future__ import print_function\n",
        "from gensim.models import KeyedVectors\n",
        "\n",
        "# Creating the model\n",
        "eng_model = KeyedVectors.load_word2vec_format('/content/drive/My Drive/wiki.en.vec')"
      ],
      "execution_count": 22,
      "outputs": [
        {
          "output_type": "stream",
          "text": [
            "/usr/local/lib/python3.6/dist-packages/smart_open/smart_open_lib.py:402: UserWarning: This function is deprecated, use smart_open.open instead. See the migration notes for details: https://github.com/RaRe-Technologies/smart_open/blob/master/README.rst#migrating-to-the-new-open-function\n",
            "  'See the migration notes for details: %s' % _MIGRATION_NOTES_URL\n"
          ],
          "name": "stderr"
        }
      ]
    },
    {
      "cell_type": "code",
      "metadata": {
        "id": "QQcvqZewm9dr",
        "colab_type": "code",
        "colab": {}
      },
      "source": [
        "# Getting the tokens \n",
        "words = []\n",
        "for word in eng_model.vocab:\n",
        "    words.append(word)"
      ],
      "execution_count": 0,
      "outputs": []
    },
    {
      "cell_type": "code",
      "metadata": {
        "id": "PR1sCIgKm9dv",
        "colab_type": "code",
        "outputId": "296db369-eb60-4393-cd46-3290e5235f8d",
        "colab": {
          "base_uri": "https://localhost:8080/",
          "height": 34
        }
      },
      "source": [
        "# Printing out number of tokens available\n",
        "print(\"Number of Tokens: {}\".format(len(words)))"
      ],
      "execution_count": 24,
      "outputs": [
        {
          "output_type": "stream",
          "text": [
            "Number of Tokens: 2519370\n"
          ],
          "name": "stdout"
        }
      ]
    },
    {
      "cell_type": "code",
      "metadata": {
        "id": "V6Q9vzhTm9d0",
        "colab_type": "code",
        "outputId": "4069bb6f-c088-4639-928b-a47ee0877b2b",
        "colab": {
          "base_uri": "https://localhost:8080/",
          "height": 34
        }
      },
      "source": [
        "# Printing out the dimension of a word vector \n",
        "print(\"Dimension of a word vector: {}\".format(\n",
        "    len(eng_model[words[0]])\n",
        "))"
      ],
      "execution_count": 25,
      "outputs": [
        {
          "output_type": "stream",
          "text": [
            "Dimension of a word vector: 300\n"
          ],
          "name": "stdout"
        }
      ]
    },
    {
      "cell_type": "code",
      "metadata": {
        "scrolled": true,
        "id": "s6Lpwy_am9d3",
        "colab_type": "code",
        "outputId": "11772948-82ab-41f0-8824-1e67db14a394",
        "colab": {
          "base_uri": "https://localhost:8080/",
          "height": 897
        }
      },
      "source": [
        "# Print out the vector of a word \n",
        "print(\"Vector components of a word: {}\".format(\n",
        "    eng_model[words[0]]\n",
        "))"
      ],
      "execution_count": 26,
      "outputs": [
        {
          "output_type": "stream",
          "text": [
            "Vector components of a word: [-2.3167e-02 -4.2483e-03 -1.0572e-01  4.2783e-02 -1.4316e-01 -7.8954e-02\n",
            "  7.8187e-02 -1.9454e-01  2.2303e-02  3.1207e-01  5.7462e-02 -1.1589e-01\n",
            "  9.6633e-02 -9.3229e-02 -3.4229e-02 -1.4652e-01 -1.1094e-01 -1.1102e-01\n",
            "  6.7728e-02  1.0023e-01 -6.7413e-02  2.3761e-01 -1.3105e-01 -8.3979e-03\n",
            " -1.0593e-01  2.4526e-01  6.5903e-02 -2.3740e-01 -1.0758e-01  5.7082e-03\n",
            " -8.1413e-02  2.6264e-01 -5.2461e-02  2.0306e-01  5.0620e-02 -1.8866e-01\n",
            " -1.1494e-01 -2.5752e-01  4.6799e-02 -5.0525e-02  6.2650e-02  1.5433e-01\n",
            " -5.6289e-02 -4.8437e-02 -9.9688e-02 -3.5332e-02 -9.1647e-02 -8.1151e-02\n",
            " -1.0844e-03 -8.4140e-02 -1.3026e-01  1.4980e-02 -8.6276e-02 -5.3041e-02\n",
            " -1.0644e-01 -4.2314e-02  8.6469e-02  2.2614e-01 -1.6078e-01  1.8845e-01\n",
            "  5.3098e-02 -2.1475e-01  1.6699e-01 -1.4442e-01 -1.5930e-01  6.2456e-03\n",
            " -7.6630e-02 -9.1568e-02 -2.8984e-01  2.7078e-02  2.1275e-02  2.3939e-02\n",
            "  1.4903e-01 -3.3062e-01 -9.7811e-02 -3.3814e-02  7.0587e-02  2.3294e-02\n",
            "  6.5382e-02  1.8716e-01 -1.3444e-01  1.4431e-01 -2.6800e-02 -2.2903e-02\n",
            "  9.7554e-02 -3.2909e-02 -2.7827e-02 -6.8771e-02  1.7053e-01 -5.9460e-02\n",
            "  2.0424e-02 -7.7589e-02  1.2160e-01 -7.7437e-02  1.0665e-01  5.1087e-02\n",
            "  7.6379e-03 -6.4936e-02  9.0310e-02  5.9447e-02  4.8881e-03  7.8309e-02\n",
            " -1.2163e-02  6.2155e-02 -7.2664e-02  1.7857e-01 -2.2874e-01  6.6397e-02\n",
            " -3.9295e-02 -2.7717e-02  6.1571e-02  7.2824e-02 -9.2512e-02 -8.7984e-02\n",
            " -1.2753e-01 -1.8705e-03  1.8689e-01  5.1173e-03 -1.3532e-03  4.3246e-02\n",
            "  1.0867e-01 -1.2209e-01 -9.1676e-03  2.3938e-01 -5.9501e-02 -1.0456e-03\n",
            "  8.6584e-02  2.0238e-02  2.1686e-01  1.6495e-01  3.7256e-02  1.2343e-01\n",
            "  1.7706e-01  7.5777e-02  3.1022e-02 -1.2948e-01  3.0936e-02  9.6897e-02\n",
            " -1.0793e-01  1.2644e-01 -5.6489e-02  8.2232e-02  2.0679e-01  1.1679e-01\n",
            "  1.3965e-01  2.6362e-01  3.7603e-02 -3.1050e-03 -8.9501e-02 -7.6969e-03\n",
            " -1.1654e-01 -2.8567e-01  4.6616e-02 -8.2062e-03  1.5621e-01 -1.4641e-01\n",
            "  6.4561e-02 -1.1330e-01  2.7129e-01  1.4532e-01 -2.1773e-02  2.3305e-01\n",
            " -1.6170e-01  1.5705e-01  1.3845e-01  2.2417e-02 -1.0982e-01 -4.9431e-02\n",
            "  7.6855e-02 -4.5300e-02 -1.9029e-01  1.1183e-02 -1.0393e-02  1.6916e-03\n",
            "  8.9407e-02 -5.1022e-02 -8.6066e-02  8.3933e-02 -8.1962e-03 -7.7321e-03\n",
            "  3.3991e-02 -2.0092e-01  3.3280e-02  6.2224e-02  1.6121e-02  2.7143e-01\n",
            " -1.9754e-01 -1.5222e-01 -1.5345e-02 -6.3907e-02 -9.8597e-02 -2.0162e-01\n",
            "  1.4004e-01 -1.1533e-05 -1.8928e-01  1.2253e-01 -7.0378e-03  8.6400e-02\n",
            " -3.0255e-01 -3.9080e-02  4.5517e-02 -1.6449e-01 -2.3548e-01  5.2781e-02\n",
            "  1.3847e-01 -2.0022e-01 -1.5974e-02  2.7137e-02  1.8287e-01 -2.3890e-02\n",
            "  2.2072e-01 -4.2710e-02 -7.5939e-02 -8.7386e-02 -4.9337e-02  4.7824e-02\n",
            " -5.9078e-02 -1.5181e-01 -2.1229e-01 -5.4944e-02 -1.1453e-02 -1.1996e-01\n",
            " -1.5307e-01 -5.4828e-02 -5.3217e-02 -4.8546e-02  2.8856e-02 -9.4537e-02\n",
            "  2.7144e-01  5.4638e-02  5.9727e-02  6.1772e-02  9.2590e-03 -1.2032e-01\n",
            " -1.6646e-01 -2.9087e-02  2.8752e-03 -1.6076e-01 -1.3710e-01 -1.8988e-01\n",
            "  2.2857e-02  1.8455e-01 -1.8236e-02 -6.0562e-03  1.4302e-01  3.2535e-02\n",
            "  1.4333e-01 -3.0871e-02 -1.5218e-01  9.2813e-02  6.6358e-02  1.8316e-02\n",
            " -2.4143e-01  5.4391e-03 -6.4479e-02 -8.5960e-02  3.0446e-02  8.2157e-02\n",
            "  2.6093e-02  5.8985e-02  5.1085e-03  8.9127e-02 -1.8164e-02 -7.7821e-02\n",
            "  3.4232e-03  1.3892e-01  4.6106e-02 -5.4170e-02  8.4399e-03 -1.5362e-01\n",
            " -1.4735e-01  6.5191e-02 -2.2883e-02 -1.4498e-01 -1.6917e-01 -1.9215e-01\n",
            "  1.0611e-01  1.6780e-03 -1.6331e-01 -7.3070e-02  1.1576e-01  8.3567e-02\n",
            " -6.0317e-02 -6.4714e-02  1.5305e-01 -1.1949e-01  1.6684e-01  1.4109e-01\n",
            "  4.6036e-02 -6.0393e-02  4.6595e-02 -1.1558e-01  4.4184e-02 -2.3124e-02\n",
            "  2.5860e-02 -1.1653e-01  1.0936e-02  8.9398e-02 -1.5900e-02  1.4866e-01]\n"
          ],
          "name": "stdout"
        }
      ]
    },
    {
      "cell_type": "code",
      "metadata": {
        "id": "hYCaLXskm9d5",
        "colab_type": "code",
        "outputId": "25e44e38-cfc1-4f38-b000-4e206547a361",
        "colab": {
          "base_uri": "https://localhost:8080/",
          "height": 34
        }
      },
      "source": [
        "print(words[0])"
      ],
      "execution_count": 27,
      "outputs": [
        {
          "output_type": "stream",
          "text": [
            ",\n"
          ],
          "name": "stdout"
        }
      ]
    },
    {
      "cell_type": "code",
      "metadata": {
        "id": "Gpq7879_m9d7",
        "colab_type": "code",
        "outputId": "5ad553df-fe00-4036-d7c8-e1e9694e90bf",
        "colab": {
          "base_uri": "https://localhost:8080/",
          "height": 34
        }
      },
      "source": [
        "words[50]"
      ],
      "execution_count": 28,
      "outputs": [
        {
          "output_type": "execute_result",
          "data": {
            "text/plain": [
              "'you'"
            ]
          },
          "metadata": {
            "tags": []
          },
          "execution_count": 28
        }
      ]
    },
    {
      "cell_type": "code",
      "metadata": {
        "id": "9_lpU1W9m9d-",
        "colab_type": "code",
        "colab": {}
      },
      "source": [
        "embedding_dict = dict()\n",
        "for word in words:\n",
        "    embedding_dict[word] = eng_model[word]"
      ],
      "execution_count": 0,
      "outputs": []
    },
    {
      "cell_type": "code",
      "metadata": {
        "id": "GnW3lRjZm9eB",
        "colab_type": "code",
        "outputId": "7e6bce63-0ceb-44b1-b7c3-2fde79437b68",
        "colab": {
          "base_uri": "https://localhost:8080/",
          "height": 34
        }
      },
      "source": [
        "vocab_size = len(tokenizer.word_index.items()) + 1\n",
        "embedding_matrix = np.zeros((vocab_size, 300))\n",
        "# 단어 집합 크기의 행과 100개의 열을 가지는 행렬 생성. 값은 전부 0으로 채워진다.\n",
        "np.shape(embedding_matrix)"
      ],
      "execution_count": 30,
      "outputs": [
        {
          "output_type": "execute_result",
          "data": {
            "text/plain": [
              "(164480, 300)"
            ]
          },
          "metadata": {
            "tags": []
          },
          "execution_count": 30
        }
      ]
    },
    {
      "cell_type": "code",
      "metadata": {
        "id": "6mtvpijjm9eG",
        "colab_type": "code",
        "colab": {}
      },
      "source": [
        "for word, i in tokenizer.word_index.items(): # 훈련 데이터의 단어 집합에서 단어를 1개씩 꺼내온다.\n",
        "    temp = embedding_dict.get(word) # 단어(key) 해당되는 임베딩 벡터의 300개의 값(value)를 임시 변수에 저장\n",
        "    if temp is not None:\n",
        "        embedding_matrix[i] = temp # 임수 변수의 값을 단어와 맵핑되는 인덱스의 행에 삽입"
      ],
      "execution_count": 0,
      "outputs": []
    },
    {
      "cell_type": "code",
      "metadata": {
        "id": "t_K7XJhQm9eI",
        "colab_type": "code",
        "outputId": "17ab5467-3d54-4b54-ba53-afa7e0185f45",
        "colab": {
          "base_uri": "https://localhost:8080/",
          "height": 34
        }
      },
      "source": [
        "embedding_matrix.shape"
      ],
      "execution_count": 32,
      "outputs": [
        {
          "output_type": "execute_result",
          "data": {
            "text/plain": [
              "(164480, 300)"
            ]
          },
          "metadata": {
            "tags": []
          },
          "execution_count": 32
        }
      ]
    },
    {
      "cell_type": "code",
      "metadata": {
        "id": "iDVd5cNOm9eL",
        "colab_type": "code",
        "outputId": "e143a614-695d-4b97-b4fa-104eeb5378ee",
        "colab": {
          "base_uri": "https://localhost:8080/",
          "height": 34
        }
      },
      "source": [
        "rating_data"
      ],
      "execution_count": 33,
      "outputs": [
        {
          "output_type": "execute_result",
          "data": {
            "text/plain": [
              "array([4, 4, 4, ..., 5, 5, 5])"
            ]
          },
          "metadata": {
            "tags": []
          },
          "execution_count": 33
        }
      ]
    },
    {
      "cell_type": "code",
      "metadata": {
        "id": "xKIfPXozm9eO",
        "colab_type": "code",
        "colab": {}
      },
      "source": [
        "rating_data = to_categorical(rating_data)"
      ],
      "execution_count": 0,
      "outputs": []
    },
    {
      "cell_type": "code",
      "metadata": {
        "id": "Ct_6q9Kqm9eS",
        "colab_type": "code",
        "colab": {}
      },
      "source": [
        "x_train, x_test, y_train, y_test = train_test_split(review_data, rating_data, test_size=0.1, random_state=0, stratify=rating_data)"
      ],
      "execution_count": 0,
      "outputs": []
    },
    {
      "cell_type": "code",
      "metadata": {
        "id": "4Uhv1UeUm9eW",
        "colab_type": "code",
        "outputId": "7d216649-b1aa-4de7-a75c-a328e2232e4d",
        "colab": {
          "base_uri": "https://localhost:8080/",
          "height": 34
        }
      },
      "source": [
        "x_train.shape,x_test.shape, y_train.shape, y_test.shape"
      ],
      "execution_count": 36,
      "outputs": [
        {
          "output_type": "execute_result",
          "data": {
            "text/plain": [
              "((396826, 60), (44092, 60), (396826, 6), (44092, 6))"
            ]
          },
          "metadata": {
            "tags": []
          },
          "execution_count": 36
        }
      ]
    },
    {
      "cell_type": "markdown",
      "metadata": {
        "id": "9JDnksOTm9eZ",
        "colab_type": "text"
      },
      "source": [
        "# 1. LSTM으로 리뷰 점수 분석 (lr=0.001) (batchsize=256) (Dropout=0.5)"
      ]
    },
    {
      "cell_type": "code",
      "metadata": {
        "id": "AB8r-uZzm9ea",
        "colab_type": "code",
        "colab": {}
      },
      "source": [
        "from tensorflow.keras.layers import Embedding, Dense, LSTM, Dropout\n",
        "from tensorflow.keras.models import Sequential\n",
        "from tensorflow.keras.optimizers import Adam"
      ],
      "execution_count": 0,
      "outputs": []
    },
    {
      "cell_type": "code",
      "metadata": {
        "id": "42lXURC1m9ef",
        "colab_type": "code",
        "colab": {}
      },
      "source": [
        "from keras import backend as K\n",
        "\n",
        "def recall_m(y_true, y_pred):\n",
        "        true_positives = K.sum(K.round(K.clip(y_true * y_pred, 0, 1)))\n",
        "        possible_positives = K.sum(K.round(K.clip(y_true, 0, 1)))\n",
        "        recall = true_positives / (possible_positives + K.epsilon())\n",
        "        return recall\n",
        "\n",
        "def precision_m(y_true, y_pred):\n",
        "        true_positives = K.sum(K.round(K.clip(y_true * y_pred, 0, 1)))\n",
        "        predicted_positives = K.sum(K.round(K.clip(y_pred, 0, 1)))\n",
        "        precision = true_positives / (predicted_positives + K.epsilon())\n",
        "        return precision\n",
        "\n",
        "def f1_m(y_true, y_pred):\n",
        "    precision = precision_m(y_true, y_pred)\n",
        "    recall = recall_m(y_true, y_pred)\n",
        "    return 2*((precision*recall)/(precision+recall+K.epsilon()))"
      ],
      "execution_count": 0,
      "outputs": []
    },
    {
      "cell_type": "code",
      "metadata": {
        "id": "WPMXbPevm9ei",
        "colab_type": "code",
        "colab": {}
      },
      "source": [
        "model = Sequential()\n",
        "e = Embedding(vocab_size, 300, weights=[embedding_matrix], input_length=max_len, trainable=False)\n",
        "model.add(e)\n",
        "model.add(LSTM(128))\n",
        "model.add(Dropout(0.5))\n",
        "model.add(Dense(6, activation='softmax'))\n",
        "\n",
        "adam = Adam(learning_rate=0.001)\n",
        "model.compile(optimizer=adam, loss='categorical_crossentropy', metrics=['accuracy', f1_m])"
      ],
      "execution_count": 0,
      "outputs": []
    },
    {
      "cell_type": "code",
      "metadata": {
        "id": "e_qaAnH2m9eo",
        "colab_type": "code",
        "outputId": "64bb0ce8-2100-4f0d-aa50-6ce64164dfbf",
        "colab": {
          "base_uri": "https://localhost:8080/",
          "height": 386
        }
      },
      "source": [
        "history = model.fit(x_train, y_train, epochs=10, batch_size=256, validation_data=(x_test, y_test))"
      ],
      "execution_count": 41,
      "outputs": [
        {
          "output_type": "stream",
          "text": [
            "Train on 396826 samples, validate on 44092 samples\n",
            "Epoch 1/10\n",
            "396826/396826 [==============================] - 141s 356us/sample - loss: 0.8603 - accuracy: 0.6263 - f1_m: 0.5971 - val_loss: 0.7920 - val_accuracy: 0.6495 - val_f1_m: 0.6310\n",
            "Epoch 2/10\n",
            "396826/396826 [==============================] - 133s 336us/sample - loss: 0.7804 - accuracy: 0.6597 - f1_m: 0.6429 - val_loss: 0.7650 - val_accuracy: 0.6607 - val_f1_m: 0.6494\n",
            "Epoch 3/10\n",
            "396826/396826 [==============================] - 134s 337us/sample - loss: 0.7564 - accuracy: 0.6692 - f1_m: 0.6549 - val_loss: 0.7491 - val_accuracy: 0.6702 - val_f1_m: 0.6578\n",
            "Epoch 4/10\n",
            "396826/396826 [==============================] - 134s 337us/sample - loss: 0.7407 - accuracy: 0.6763 - f1_m: 0.6638 - val_loss: 0.7406 - val_accuracy: 0.6751 - val_f1_m: 0.6645\n",
            "Epoch 5/10\n",
            "396826/396826 [==============================] - 134s 337us/sample - loss: 0.7291 - accuracy: 0.6817 - f1_m: 0.6694 - val_loss: 0.7339 - val_accuracy: 0.6772 - val_f1_m: 0.6674\n",
            "Epoch 6/10\n",
            "396826/396826 [==============================] - 133s 336us/sample - loss: 0.7179 - accuracy: 0.6858 - f1_m: 0.6744 - val_loss: 0.7277 - val_accuracy: 0.6793 - val_f1_m: 0.6704\n",
            "Epoch 7/10\n",
            "396826/396826 [==============================] - 134s 337us/sample - loss: 0.7092 - accuracy: 0.6902 - f1_m: 0.6793 - val_loss: 0.7360 - val_accuracy: 0.6763 - val_f1_m: 0.6623\n",
            "Epoch 8/10\n",
            "396826/396826 [==============================] - 134s 338us/sample - loss: 0.7011 - accuracy: 0.6931 - f1_m: 0.6832 - val_loss: 0.7322 - val_accuracy: 0.6754 - val_f1_m: 0.6668\n",
            "Epoch 9/10\n",
            "396826/396826 [==============================] - 134s 339us/sample - loss: 0.6923 - accuracy: 0.6964 - f1_m: 0.6873 - val_loss: 0.7245 - val_accuracy: 0.6829 - val_f1_m: 0.6755\n",
            "Epoch 10/10\n",
            "396826/396826 [==============================] - 134s 338us/sample - loss: 0.6851 - accuracy: 0.6994 - f1_m: 0.6907 - val_loss: 0.7289 - val_accuracy: 0.6820 - val_f1_m: 0.6762\n"
          ],
          "name": "stdout"
        }
      ]
    },
    {
      "cell_type": "code",
      "metadata": {
        "id": "XVUc4VbOm9ev",
        "colab_type": "code",
        "outputId": "fbe3af8b-0fc0-4ad6-8589-5676ff388782",
        "colab": {
          "base_uri": "https://localhost:8080/",
          "height": 283
        }
      },
      "source": [
        "fig, loss_ax = plt.subplots()\n",
        "acc_ax = loss_ax.twinx()\n",
        "\n",
        "loss_ax.plot(history.history['loss'], 'y', label='train loss')\n",
        "loss_ax.plot(history.history['val_loss'], 'r', label='val loss')\n",
        "loss_ax.set_xlabel('epoch')\n",
        "loss_ax.set_ylabel('loss')\n",
        "loss_ax.legend(loc='upper right')\n",
        "\n",
        "plt.show()"
      ],
      "execution_count": 42,
      "outputs": [
        {
          "output_type": "display_data",
          "data": {
            "image/png": "[encoded data removed]",
            "text/plain": [
              "<Figure size 432x288 with 2 Axes>"
            ]
          },
          "metadata": {
            "tags": []
          }
        }
      ]
    },
    {
      "cell_type": "code",
      "metadata": {
        "id": "gKMqwLQ3YFm7",
        "colab_type": "code",
        "outputId": "bde7076d-baa5-4e80-da4f-6b28e547d5c5",
        "colab": {
          "base_uri": "https://localhost:8080/",
          "height": 269
        }
      },
      "source": [
        "fig, loss_ax = plt.subplots()\n",
        "acc_ax = loss_ax.twinx()\n",
        "\n",
        "acc_ax.plot(history.history['accuracy'], 'b', label='train acc')\n",
        "acc_ax.plot(history.history['val_accuracy'], 'g', label='val acc')\n",
        "acc_ax.set_ylabel('accuracy')\n",
        "acc_ax.legend(loc='upper left')\n",
        "\n",
        "plt.show()"
      ],
      "execution_count": 43,
      "outputs": [
        {
          "output_type": "display_data",
          "data": {
            "image/png": "[encoded data removed]",
            "text/plain": [
              "<Figure size 432x288 with 2 Axes>"
            ]
          },
          "metadata": {
            "tags": []
          }
        }
      ]
    },
    {
      "cell_type": "markdown",
      "metadata": {
        "colab_type": "text",
        "id": "XGyU1C8YyTy4"
      },
      "source": [
        "# 1. LSTM으로 리뷰 점수 분석 (lr=0.001) (batchsize=256) (Dropout=0.5)"
      ]
    },
    {
      "cell_type": "code",
      "metadata": {
        "colab_type": "code",
        "id": "TSou7GXXyTzK",
        "colab": {}
      },
      "source": [
        "from tensorflow.keras.layers import Embedding, Dense, LSTM, Dropout\n",
        "from tensorflow.keras.models import Sequential\n",
        "from tensorflow.keras.optimizers import Adam"
      ],
      "execution_count": 0,
      "outputs": []
    },
    {
      "cell_type": "code",
      "metadata": {
        "colab_type": "code",
        "id": "gFg9PycTyTzQ",
        "colab": {}
      },
      "source": [
        "from keras import backend as K\n",
        "\n",
        "def recall_m(y_true, y_pred):\n",
        "        true_positives = K.sum(K.round(K.clip(y_true * y_pred, 0, 1)))\n",
        "        possible_positives = K.sum(K.round(K.clip(y_true, 0, 1)))\n",
        "        recall = true_positives / (possible_positives + K.epsilon())\n",
        "        return recall\n",
        "\n",
        "def precision_m(y_true, y_pred):\n",
        "        true_positives = K.sum(K.round(K.clip(y_true * y_pred, 0, 1)))\n",
        "        predicted_positives = K.sum(K.round(K.clip(y_pred, 0, 1)))\n",
        "        precision = true_positives / (predicted_positives + K.epsilon())\n",
        "        return precision\n",
        "\n",
        "def f1_m(y_true, y_pred):\n",
        "    precision = precision_m(y_true, y_pred)\n",
        "    recall = recall_m(y_true, y_pred)\n",
        "    return 2*((precision*recall)/(precision+recall+K.epsilon()))"
      ],
      "execution_count": 0,
      "outputs": []
    },
    {
      "cell_type": "code",
      "metadata": {
        "colab_type": "code",
        "id": "8bpXbe8KyTzT",
        "colab": {}
      },
      "source": [
        "model = Sequential()\n",
        "e = Embedding(vocab_size, 300, weights=[embedding_matrix], input_length=max_len, trainable=False)\n",
        "model.add(e)\n",
        "model.add(LSTM(64))\n",
        "model.add(Dropout(0.5))\n",
        "model.add(Dense(6, activation='softmax'))\n",
        "\n",
        "adam = Adam(learning_rate=0.001)\n",
        "model.compile(optimizer=adam, loss='categorical_crossentropy', metrics=['accuracy', f1_m])"
      ],
      "execution_count": 0,
      "outputs": []
    },
    {
      "cell_type": "code",
      "metadata": {
        "colab_type": "code",
        "outputId": "a3c1707b-e31d-41e2-b93f-77f6ce18e4bc",
        "id": "tOyRHAZHyTzW",
        "colab": {
          "base_uri": "https://localhost:8080/",
          "height": 386
        }
      },
      "source": [
        "history = model.fit(x_train, y_train, epochs=10, batch_size=256, validation_data=(x_test, y_test))"
      ],
      "execution_count": 48,
      "outputs": [
        {
          "output_type": "stream",
          "text": [
            "Train on 396826 samples, validate on 44092 samples\n",
            "Epoch 1/10\n",
            "396826/396826 [==============================] - 132s 332us/sample - loss: 0.8776 - accuracy: 0.6209 - f1_m: 0.5866 - val_loss: 0.8019 - val_accuracy: 0.6493 - val_f1_m: 0.6348\n",
            "Epoch 2/10\n",
            "396826/396826 [==============================] - 130s 329us/sample - loss: 0.7934 - accuracy: 0.6552 - f1_m: 0.6368 - val_loss: 0.7771 - val_accuracy: 0.6575 - val_f1_m: 0.6449\n",
            "Epoch 3/10\n",
            "396826/396826 [==============================] - 130s 329us/sample - loss: 0.7729 - accuracy: 0.6638 - f1_m: 0.6482 - val_loss: 0.7557 - val_accuracy: 0.6674 - val_f1_m: 0.6539\n",
            "Epoch 4/10\n",
            "396826/396826 [==============================] - 131s 331us/sample - loss: 0.7592 - accuracy: 0.6686 - f1_m: 0.6539 - val_loss: 0.7504 - val_accuracy: 0.6717 - val_f1_m: 0.6582\n",
            "Epoch 5/10\n",
            "396826/396826 [==============================] - 131s 331us/sample - loss: 0.7484 - accuracy: 0.6740 - f1_m: 0.6601 - val_loss: 0.7464 - val_accuracy: 0.6730 - val_f1_m: 0.6606\n",
            "Epoch 6/10\n",
            "396826/396826 [==============================] - 129s 326us/sample - loss: 0.7417 - accuracy: 0.6761 - f1_m: 0.6632 - val_loss: 0.7406 - val_accuracy: 0.6744 - val_f1_m: 0.6638\n",
            "Epoch 7/10\n",
            "396826/396826 [==============================] - 129s 325us/sample - loss: 0.7331 - accuracy: 0.6802 - f1_m: 0.6680 - val_loss: 0.7363 - val_accuracy: 0.6757 - val_f1_m: 0.6625\n",
            "Epoch 8/10\n",
            "396826/396826 [==============================] - 129s 325us/sample - loss: 0.7268 - accuracy: 0.6828 - f1_m: 0.6710 - val_loss: 0.7336 - val_accuracy: 0.6764 - val_f1_m: 0.6672\n",
            "Epoch 9/10\n",
            "396826/396826 [==============================] - 118s 297us/sample - loss: 0.7217 - accuracy: 0.6850 - f1_m: 0.6738 - val_loss: 0.7419 - val_accuracy: 0.6741 - val_f1_m: 0.6662\n",
            "Epoch 10/10\n",
            "396826/396826 [==============================] - 114s 287us/sample - loss: 0.7172 - accuracy: 0.6864 - f1_m: 0.6754 - val_loss: 0.7316 - val_accuracy: 0.6790 - val_f1_m: 0.6683\n"
          ],
          "name": "stdout"
        }
      ]
    },
    {
      "cell_type": "code",
      "metadata": {
        "colab_type": "code",
        "outputId": "6c1450c7-2e12-4d4e-d865-355196d815e9",
        "id": "fzgNwp7myTza",
        "colab": {
          "base_uri": "https://localhost:8080/",
          "height": 283
        }
      },
      "source": [
        "fig, loss_ax = plt.subplots()\n",
        "acc_ax = loss_ax.twinx()\n",
        "\n",
        "loss_ax.plot(history.history['loss'], 'y', label='train loss')\n",
        "loss_ax.plot(history.history['val_loss'], 'r', label='val loss')\n",
        "loss_ax.set_xlabel('epoch')\n",
        "loss_ax.set_ylabel('loss')\n",
        "loss_ax.legend(loc='upper right')\n",
        "\n",
        "plt.show()"
      ],
      "execution_count": 49,
      "outputs": [
        {
          "output_type": "display_data",
          "data": {
            "image/png": "[encoded data removed]",
            "text/plain": [
              "<Figure size 432x288 with 2 Axes>"
            ]
          },
          "metadata": {
            "tags": []
          }
        }
      ]
    },
    {
      "cell_type": "code",
      "metadata": {
        "colab_type": "code",
        "outputId": "ca665b39-0d3a-4fe0-d6a3-ad294a747b00",
        "id": "bi9B5SHTyTzc",
        "colab": {
          "base_uri": "https://localhost:8080/",
          "height": 269
        }
      },
      "source": [
        "fig, loss_ax = plt.subplots()\n",
        "acc_ax = loss_ax.twinx()\n",
        "\n",
        "acc_ax.plot(history.history['accuracy'], 'b', label='train acc')\n",
        "acc_ax.plot(history.history['val_accuracy'], 'g', label='val acc')\n",
        "acc_ax.set_ylabel('accuracy')\n",
        "acc_ax.legend(loc='upper left')\n",
        "\n",
        "plt.show()"
      ],
      "execution_count": 50,
      "outputs": [
        {
          "output_type": "display_data",
          "data": {
            "image/png": "[encoded data removed]",
            "text/plain": [
              "<Figure size 432x288 with 2 Axes>"
            ]
          },
          "metadata": {
            "tags": []
          }
        }
      ]
    },
    {
      "cell_type": "code",
      "metadata": {
        "id": "ZYGOvLDk3qJL",
        "colab_type": "code",
        "colab": {}
      },
      "source": [
        ""
      ],
      "execution_count": 0,
      "outputs": []
    }
  ]
}